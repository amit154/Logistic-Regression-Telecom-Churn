{
 "cells": [
  {
   "cell_type": "code",
   "execution_count": 1,
   "metadata": {},
   "outputs": [],
   "source": [
    "import numpy as np\n",
    "import pandas as pd\n",
    "import matplotlib.pyplot as plt\n",
    "import seaborn as sns\n",
    "\n",
    "\n",
    "# For test train split\n",
    "from sklearn.model_selection import train_test_split, cross_val_score\n",
    "\n",
    "# For feature scaling\n",
    "from sklearn.preprocessing import StandardScaler\n",
    "from sklearn.preprocessing import MinMaxScaler\n",
    "\n",
    "# For logistic regression\n",
    "import statsmodels.api as sm\n",
    "\n",
    "# For RFE\n",
    "from sklearn.linear_model import LogisticRegression\n",
    "from sklearn.feature_selection import RFE\n",
    "\n",
    "from sklearn import metrics\n",
    "\n",
    "# To check the VIF values of the feature variables. \n",
    "from statsmodels.stats.outliers_influence import variance_inflation_factor\n",
    "\n",
    "from sklearn.metrics import precision_score, recall_score\n",
    "from sklearn.metrics import precision_recall_curve\n",
    "\n",
    "import warnings\n",
    "warnings.filterwarnings('ignore')"
   ]
  },
  {
   "cell_type": "code",
   "execution_count": 3504,
   "metadata": {},
   "outputs": [],
   "source": [
    "# To print all columns\n",
    "pd.set_option('max_columns', None)"
   ]
  },
  {
   "cell_type": "code",
   "execution_count": 3505,
   "metadata": {},
   "outputs": [],
   "source": [
    "# IQR Wiskers Functions\n",
    "def outlier_boundary(s):\n",
    "    perc_50 = s.quantile(0.5)\n",
    "    perc_25 = s.quantile(0.25)\n",
    "    perc_75 = s.quantile(0.75)\n",
    "    IQR = perc_75 - perc_25\n",
    "    return perc_50 + (1.5*(IQR))"
   ]
  },
  {
   "cell_type": "code",
   "execution_count": 3506,
   "metadata": {},
   "outputs": [
    {
     "data": {
      "text/html": [
       "<div>\n",
       "<style scoped>\n",
       "    .dataframe tbody tr th:only-of-type {\n",
       "        vertical-align: middle;\n",
       "    }\n",
       "\n",
       "    .dataframe tbody tr th {\n",
       "        vertical-align: top;\n",
       "    }\n",
       "\n",
       "    .dataframe thead th {\n",
       "        text-align: right;\n",
       "    }\n",
       "</style>\n",
       "<table border=\"1\" class=\"dataframe\">\n",
       "  <thead>\n",
       "    <tr style=\"text-align: right;\">\n",
       "      <th></th>\n",
       "      <th>Prospect ID</th>\n",
       "      <th>Lead Number</th>\n",
       "      <th>Lead Origin</th>\n",
       "      <th>Lead Source</th>\n",
       "      <th>Do Not Email</th>\n",
       "      <th>Do Not Call</th>\n",
       "      <th>Converted</th>\n",
       "      <th>TotalVisits</th>\n",
       "      <th>Total Time Spent on Website</th>\n",
       "      <th>Page Views Per Visit</th>\n",
       "      <th>Last Activity</th>\n",
       "      <th>Country</th>\n",
       "      <th>Specialization</th>\n",
       "      <th>How did you hear about X Education</th>\n",
       "      <th>What is your current occupation</th>\n",
       "      <th>What matters most to you in choosing a course</th>\n",
       "      <th>Search</th>\n",
       "      <th>Magazine</th>\n",
       "      <th>Newspaper Article</th>\n",
       "      <th>X Education Forums</th>\n",
       "      <th>Newspaper</th>\n",
       "      <th>Digital Advertisement</th>\n",
       "      <th>Through Recommendations</th>\n",
       "      <th>Receive More Updates About Our Courses</th>\n",
       "      <th>Tags</th>\n",
       "      <th>Lead Quality</th>\n",
       "      <th>Update me on Supply Chain Content</th>\n",
       "      <th>Get updates on DM Content</th>\n",
       "      <th>Lead Profile</th>\n",
       "      <th>City</th>\n",
       "      <th>Asymmetrique Activity Index</th>\n",
       "      <th>Asymmetrique Profile Index</th>\n",
       "      <th>Asymmetrique Activity Score</th>\n",
       "      <th>Asymmetrique Profile Score</th>\n",
       "      <th>I agree to pay the amount through cheque</th>\n",
       "      <th>A free copy of Mastering The Interview</th>\n",
       "      <th>Last Notable Activity</th>\n",
       "    </tr>\n",
       "  </thead>\n",
       "  <tbody>\n",
       "    <tr>\n",
       "      <td>0</td>\n",
       "      <td>7927b2df-8bba-4d29-b9a2-b6e0beafe620</td>\n",
       "      <td>660737</td>\n",
       "      <td>API</td>\n",
       "      <td>Olark Chat</td>\n",
       "      <td>No</td>\n",
       "      <td>No</td>\n",
       "      <td>0</td>\n",
       "      <td>0.0</td>\n",
       "      <td>0</td>\n",
       "      <td>0.0</td>\n",
       "      <td>Page Visited on Website</td>\n",
       "      <td>NaN</td>\n",
       "      <td>Select</td>\n",
       "      <td>Select</td>\n",
       "      <td>Unemployed</td>\n",
       "      <td>Better Career Prospects</td>\n",
       "      <td>No</td>\n",
       "      <td>No</td>\n",
       "      <td>No</td>\n",
       "      <td>No</td>\n",
       "      <td>No</td>\n",
       "      <td>No</td>\n",
       "      <td>No</td>\n",
       "      <td>No</td>\n",
       "      <td>Interested in other courses</td>\n",
       "      <td>Low in Relevance</td>\n",
       "      <td>No</td>\n",
       "      <td>No</td>\n",
       "      <td>Select</td>\n",
       "      <td>Select</td>\n",
       "      <td>02.Medium</td>\n",
       "      <td>02.Medium</td>\n",
       "      <td>15.0</td>\n",
       "      <td>15.0</td>\n",
       "      <td>No</td>\n",
       "      <td>No</td>\n",
       "      <td>Modified</td>\n",
       "    </tr>\n",
       "    <tr>\n",
       "      <td>1</td>\n",
       "      <td>2a272436-5132-4136-86fa-dcc88c88f482</td>\n",
       "      <td>660728</td>\n",
       "      <td>API</td>\n",
       "      <td>Organic Search</td>\n",
       "      <td>No</td>\n",
       "      <td>No</td>\n",
       "      <td>0</td>\n",
       "      <td>5.0</td>\n",
       "      <td>674</td>\n",
       "      <td>2.5</td>\n",
       "      <td>Email Opened</td>\n",
       "      <td>India</td>\n",
       "      <td>Select</td>\n",
       "      <td>Select</td>\n",
       "      <td>Unemployed</td>\n",
       "      <td>Better Career Prospects</td>\n",
       "      <td>No</td>\n",
       "      <td>No</td>\n",
       "      <td>No</td>\n",
       "      <td>No</td>\n",
       "      <td>No</td>\n",
       "      <td>No</td>\n",
       "      <td>No</td>\n",
       "      <td>No</td>\n",
       "      <td>Ringing</td>\n",
       "      <td>NaN</td>\n",
       "      <td>No</td>\n",
       "      <td>No</td>\n",
       "      <td>Select</td>\n",
       "      <td>Select</td>\n",
       "      <td>02.Medium</td>\n",
       "      <td>02.Medium</td>\n",
       "      <td>15.0</td>\n",
       "      <td>15.0</td>\n",
       "      <td>No</td>\n",
       "      <td>No</td>\n",
       "      <td>Email Opened</td>\n",
       "    </tr>\n",
       "    <tr>\n",
       "      <td>2</td>\n",
       "      <td>8cc8c611-a219-4f35-ad23-fdfd2656bd8a</td>\n",
       "      <td>660727</td>\n",
       "      <td>Landing Page Submission</td>\n",
       "      <td>Direct Traffic</td>\n",
       "      <td>No</td>\n",
       "      <td>No</td>\n",
       "      <td>1</td>\n",
       "      <td>2.0</td>\n",
       "      <td>1532</td>\n",
       "      <td>2.0</td>\n",
       "      <td>Email Opened</td>\n",
       "      <td>India</td>\n",
       "      <td>Business Administration</td>\n",
       "      <td>Select</td>\n",
       "      <td>Student</td>\n",
       "      <td>Better Career Prospects</td>\n",
       "      <td>No</td>\n",
       "      <td>No</td>\n",
       "      <td>No</td>\n",
       "      <td>No</td>\n",
       "      <td>No</td>\n",
       "      <td>No</td>\n",
       "      <td>No</td>\n",
       "      <td>No</td>\n",
       "      <td>Will revert after reading the email</td>\n",
       "      <td>Might be</td>\n",
       "      <td>No</td>\n",
       "      <td>No</td>\n",
       "      <td>Potential Lead</td>\n",
       "      <td>Mumbai</td>\n",
       "      <td>02.Medium</td>\n",
       "      <td>01.High</td>\n",
       "      <td>14.0</td>\n",
       "      <td>20.0</td>\n",
       "      <td>No</td>\n",
       "      <td>Yes</td>\n",
       "      <td>Email Opened</td>\n",
       "    </tr>\n",
       "    <tr>\n",
       "      <td>3</td>\n",
       "      <td>0cc2df48-7cf4-4e39-9de9-19797f9b38cc</td>\n",
       "      <td>660719</td>\n",
       "      <td>Landing Page Submission</td>\n",
       "      <td>Direct Traffic</td>\n",
       "      <td>No</td>\n",
       "      <td>No</td>\n",
       "      <td>0</td>\n",
       "      <td>1.0</td>\n",
       "      <td>305</td>\n",
       "      <td>1.0</td>\n",
       "      <td>Unreachable</td>\n",
       "      <td>India</td>\n",
       "      <td>Media and Advertising</td>\n",
       "      <td>Word Of Mouth</td>\n",
       "      <td>Unemployed</td>\n",
       "      <td>Better Career Prospects</td>\n",
       "      <td>No</td>\n",
       "      <td>No</td>\n",
       "      <td>No</td>\n",
       "      <td>No</td>\n",
       "      <td>No</td>\n",
       "      <td>No</td>\n",
       "      <td>No</td>\n",
       "      <td>No</td>\n",
       "      <td>Ringing</td>\n",
       "      <td>Not Sure</td>\n",
       "      <td>No</td>\n",
       "      <td>No</td>\n",
       "      <td>Select</td>\n",
       "      <td>Mumbai</td>\n",
       "      <td>02.Medium</td>\n",
       "      <td>01.High</td>\n",
       "      <td>13.0</td>\n",
       "      <td>17.0</td>\n",
       "      <td>No</td>\n",
       "      <td>No</td>\n",
       "      <td>Modified</td>\n",
       "    </tr>\n",
       "    <tr>\n",
       "      <td>4</td>\n",
       "      <td>3256f628-e534-4826-9d63-4a8b88782852</td>\n",
       "      <td>660681</td>\n",
       "      <td>Landing Page Submission</td>\n",
       "      <td>Google</td>\n",
       "      <td>No</td>\n",
       "      <td>No</td>\n",
       "      <td>1</td>\n",
       "      <td>2.0</td>\n",
       "      <td>1428</td>\n",
       "      <td>1.0</td>\n",
       "      <td>Converted to Lead</td>\n",
       "      <td>India</td>\n",
       "      <td>Select</td>\n",
       "      <td>Other</td>\n",
       "      <td>Unemployed</td>\n",
       "      <td>Better Career Prospects</td>\n",
       "      <td>No</td>\n",
       "      <td>No</td>\n",
       "      <td>No</td>\n",
       "      <td>No</td>\n",
       "      <td>No</td>\n",
       "      <td>No</td>\n",
       "      <td>No</td>\n",
       "      <td>No</td>\n",
       "      <td>Will revert after reading the email</td>\n",
       "      <td>Might be</td>\n",
       "      <td>No</td>\n",
       "      <td>No</td>\n",
       "      <td>Select</td>\n",
       "      <td>Mumbai</td>\n",
       "      <td>02.Medium</td>\n",
       "      <td>01.High</td>\n",
       "      <td>15.0</td>\n",
       "      <td>18.0</td>\n",
       "      <td>No</td>\n",
       "      <td>No</td>\n",
       "      <td>Modified</td>\n",
       "    </tr>\n",
       "  </tbody>\n",
       "</table>\n",
       "</div>"
      ],
      "text/plain": [
       "                            Prospect ID  Lead Number              Lead Origin  \\\n",
       "0  7927b2df-8bba-4d29-b9a2-b6e0beafe620       660737                      API   \n",
       "1  2a272436-5132-4136-86fa-dcc88c88f482       660728                      API   \n",
       "2  8cc8c611-a219-4f35-ad23-fdfd2656bd8a       660727  Landing Page Submission   \n",
       "3  0cc2df48-7cf4-4e39-9de9-19797f9b38cc       660719  Landing Page Submission   \n",
       "4  3256f628-e534-4826-9d63-4a8b88782852       660681  Landing Page Submission   \n",
       "\n",
       "      Lead Source Do Not Email Do Not Call  Converted  TotalVisits  \\\n",
       "0      Olark Chat           No          No          0          0.0   \n",
       "1  Organic Search           No          No          0          5.0   \n",
       "2  Direct Traffic           No          No          1          2.0   \n",
       "3  Direct Traffic           No          No          0          1.0   \n",
       "4          Google           No          No          1          2.0   \n",
       "\n",
       "   Total Time Spent on Website  Page Views Per Visit            Last Activity  \\\n",
       "0                            0                   0.0  Page Visited on Website   \n",
       "1                          674                   2.5             Email Opened   \n",
       "2                         1532                   2.0             Email Opened   \n",
       "3                          305                   1.0              Unreachable   \n",
       "4                         1428                   1.0        Converted to Lead   \n",
       "\n",
       "  Country           Specialization How did you hear about X Education  \\\n",
       "0     NaN                   Select                             Select   \n",
       "1   India                   Select                             Select   \n",
       "2   India  Business Administration                             Select   \n",
       "3   India    Media and Advertising                      Word Of Mouth   \n",
       "4   India                   Select                              Other   \n",
       "\n",
       "  What is your current occupation  \\\n",
       "0                      Unemployed   \n",
       "1                      Unemployed   \n",
       "2                         Student   \n",
       "3                      Unemployed   \n",
       "4                      Unemployed   \n",
       "\n",
       "  What matters most to you in choosing a course Search Magazine  \\\n",
       "0                       Better Career Prospects     No       No   \n",
       "1                       Better Career Prospects     No       No   \n",
       "2                       Better Career Prospects     No       No   \n",
       "3                       Better Career Prospects     No       No   \n",
       "4                       Better Career Prospects     No       No   \n",
       "\n",
       "  Newspaper Article X Education Forums Newspaper Digital Advertisement  \\\n",
       "0                No                 No        No                    No   \n",
       "1                No                 No        No                    No   \n",
       "2                No                 No        No                    No   \n",
       "3                No                 No        No                    No   \n",
       "4                No                 No        No                    No   \n",
       "\n",
       "  Through Recommendations Receive More Updates About Our Courses  \\\n",
       "0                      No                                     No   \n",
       "1                      No                                     No   \n",
       "2                      No                                     No   \n",
       "3                      No                                     No   \n",
       "4                      No                                     No   \n",
       "\n",
       "                                  Tags      Lead Quality  \\\n",
       "0          Interested in other courses  Low in Relevance   \n",
       "1                              Ringing               NaN   \n",
       "2  Will revert after reading the email          Might be   \n",
       "3                              Ringing          Not Sure   \n",
       "4  Will revert after reading the email          Might be   \n",
       "\n",
       "  Update me on Supply Chain Content Get updates on DM Content    Lead Profile  \\\n",
       "0                                No                        No          Select   \n",
       "1                                No                        No          Select   \n",
       "2                                No                        No  Potential Lead   \n",
       "3                                No                        No          Select   \n",
       "4                                No                        No          Select   \n",
       "\n",
       "     City Asymmetrique Activity Index Asymmetrique Profile Index  \\\n",
       "0  Select                   02.Medium                  02.Medium   \n",
       "1  Select                   02.Medium                  02.Medium   \n",
       "2  Mumbai                   02.Medium                    01.High   \n",
       "3  Mumbai                   02.Medium                    01.High   \n",
       "4  Mumbai                   02.Medium                    01.High   \n",
       "\n",
       "   Asymmetrique Activity Score  Asymmetrique Profile Score  \\\n",
       "0                         15.0                        15.0   \n",
       "1                         15.0                        15.0   \n",
       "2                         14.0                        20.0   \n",
       "3                         13.0                        17.0   \n",
       "4                         15.0                        18.0   \n",
       "\n",
       "  I agree to pay the amount through cheque  \\\n",
       "0                                       No   \n",
       "1                                       No   \n",
       "2                                       No   \n",
       "3                                       No   \n",
       "4                                       No   \n",
       "\n",
       "  A free copy of Mastering The Interview Last Notable Activity  \n",
       "0                                     No              Modified  \n",
       "1                                     No          Email Opened  \n",
       "2                                    Yes          Email Opened  \n",
       "3                                     No              Modified  \n",
       "4                                     No              Modified  "
      ]
     },
     "execution_count": 3506,
     "metadata": {},
     "output_type": "execute_result"
    }
   ],
   "source": [
    "# Load Data and print head\n",
    "leads_data = pd.read_csv('Leads.csv')\n",
    "leads_data.head()"
   ]
  },
  {
   "cell_type": "code",
   "execution_count": 3507,
   "metadata": {},
   "outputs": [
    {
     "data": {
      "text/plain": [
       "(9240, 37)"
      ]
     },
     "execution_count": 3507,
     "metadata": {},
     "output_type": "execute_result"
    }
   ],
   "source": [
    "# Data Shape \n",
    "leads_data.shape"
   ]
  },
  {
   "cell_type": "code",
   "execution_count": 3508,
   "metadata": {},
   "outputs": [
    {
     "name": "stdout",
     "output_type": "stream",
     "text": [
      "<class 'pandas.core.frame.DataFrame'>\n",
      "RangeIndex: 9240 entries, 0 to 9239\n",
      "Data columns (total 37 columns):\n",
      "Prospect ID                                      9240 non-null object\n",
      "Lead Number                                      9240 non-null int64\n",
      "Lead Origin                                      9240 non-null object\n",
      "Lead Source                                      9204 non-null object\n",
      "Do Not Email                                     9240 non-null object\n",
      "Do Not Call                                      9240 non-null object\n",
      "Converted                                        9240 non-null int64\n",
      "TotalVisits                                      9103 non-null float64\n",
      "Total Time Spent on Website                      9240 non-null int64\n",
      "Page Views Per Visit                             9103 non-null float64\n",
      "Last Activity                                    9137 non-null object\n",
      "Country                                          6779 non-null object\n",
      "Specialization                                   7802 non-null object\n",
      "How did you hear about X Education               7033 non-null object\n",
      "What is your current occupation                  6550 non-null object\n",
      "What matters most to you in choosing a course    6531 non-null object\n",
      "Search                                           9240 non-null object\n",
      "Magazine                                         9240 non-null object\n",
      "Newspaper Article                                9240 non-null object\n",
      "X Education Forums                               9240 non-null object\n",
      "Newspaper                                        9240 non-null object\n",
      "Digital Advertisement                            9240 non-null object\n",
      "Through Recommendations                          9240 non-null object\n",
      "Receive More Updates About Our Courses           9240 non-null object\n",
      "Tags                                             5887 non-null object\n",
      "Lead Quality                                     4473 non-null object\n",
      "Update me on Supply Chain Content                9240 non-null object\n",
      "Get updates on DM Content                        9240 non-null object\n",
      "Lead Profile                                     6531 non-null object\n",
      "City                                             7820 non-null object\n",
      "Asymmetrique Activity Index                      5022 non-null object\n",
      "Asymmetrique Profile Index                       5022 non-null object\n",
      "Asymmetrique Activity Score                      5022 non-null float64\n",
      "Asymmetrique Profile Score                       5022 non-null float64\n",
      "I agree to pay the amount through cheque         9240 non-null object\n",
      "A free copy of Mastering The Interview           9240 non-null object\n",
      "Last Notable Activity                            9240 non-null object\n",
      "dtypes: float64(4), int64(3), object(30)\n",
      "memory usage: 2.6+ MB\n"
     ]
    }
   ],
   "source": [
    "# Info of all columns\n",
    "leads_data.info()"
   ]
  },
  {
   "cell_type": "code",
   "execution_count": 3509,
   "metadata": {},
   "outputs": [
    {
     "data": {
      "text/html": [
       "<div>\n",
       "<style scoped>\n",
       "    .dataframe tbody tr th:only-of-type {\n",
       "        vertical-align: middle;\n",
       "    }\n",
       "\n",
       "    .dataframe tbody tr th {\n",
       "        vertical-align: top;\n",
       "    }\n",
       "\n",
       "    .dataframe thead th {\n",
       "        text-align: right;\n",
       "    }\n",
       "</style>\n",
       "<table border=\"1\" class=\"dataframe\">\n",
       "  <thead>\n",
       "    <tr style=\"text-align: right;\">\n",
       "      <th></th>\n",
       "      <th>Lead Number</th>\n",
       "      <th>Converted</th>\n",
       "      <th>TotalVisits</th>\n",
       "      <th>Total Time Spent on Website</th>\n",
       "      <th>Page Views Per Visit</th>\n",
       "      <th>Asymmetrique Activity Score</th>\n",
       "      <th>Asymmetrique Profile Score</th>\n",
       "    </tr>\n",
       "  </thead>\n",
       "  <tbody>\n",
       "    <tr>\n",
       "      <td>count</td>\n",
       "      <td>9240.000000</td>\n",
       "      <td>9240.000000</td>\n",
       "      <td>9103.000000</td>\n",
       "      <td>9240.000000</td>\n",
       "      <td>9103.000000</td>\n",
       "      <td>5022.000000</td>\n",
       "      <td>5022.000000</td>\n",
       "    </tr>\n",
       "    <tr>\n",
       "      <td>mean</td>\n",
       "      <td>617188.435606</td>\n",
       "      <td>0.385390</td>\n",
       "      <td>3.445238</td>\n",
       "      <td>487.698268</td>\n",
       "      <td>2.362820</td>\n",
       "      <td>14.306252</td>\n",
       "      <td>16.344883</td>\n",
       "    </tr>\n",
       "    <tr>\n",
       "      <td>std</td>\n",
       "      <td>23405.995698</td>\n",
       "      <td>0.486714</td>\n",
       "      <td>4.854853</td>\n",
       "      <td>548.021466</td>\n",
       "      <td>2.161418</td>\n",
       "      <td>1.386694</td>\n",
       "      <td>1.811395</td>\n",
       "    </tr>\n",
       "    <tr>\n",
       "      <td>min</td>\n",
       "      <td>579533.000000</td>\n",
       "      <td>0.000000</td>\n",
       "      <td>0.000000</td>\n",
       "      <td>0.000000</td>\n",
       "      <td>0.000000</td>\n",
       "      <td>7.000000</td>\n",
       "      <td>11.000000</td>\n",
       "    </tr>\n",
       "    <tr>\n",
       "      <td>25%</td>\n",
       "      <td>596484.500000</td>\n",
       "      <td>0.000000</td>\n",
       "      <td>1.000000</td>\n",
       "      <td>12.000000</td>\n",
       "      <td>1.000000</td>\n",
       "      <td>14.000000</td>\n",
       "      <td>15.000000</td>\n",
       "    </tr>\n",
       "    <tr>\n",
       "      <td>50%</td>\n",
       "      <td>615479.000000</td>\n",
       "      <td>0.000000</td>\n",
       "      <td>3.000000</td>\n",
       "      <td>248.000000</td>\n",
       "      <td>2.000000</td>\n",
       "      <td>14.000000</td>\n",
       "      <td>16.000000</td>\n",
       "    </tr>\n",
       "    <tr>\n",
       "      <td>75%</td>\n",
       "      <td>637387.250000</td>\n",
       "      <td>1.000000</td>\n",
       "      <td>5.000000</td>\n",
       "      <td>936.000000</td>\n",
       "      <td>3.000000</td>\n",
       "      <td>15.000000</td>\n",
       "      <td>18.000000</td>\n",
       "    </tr>\n",
       "    <tr>\n",
       "      <td>max</td>\n",
       "      <td>660737.000000</td>\n",
       "      <td>1.000000</td>\n",
       "      <td>251.000000</td>\n",
       "      <td>2272.000000</td>\n",
       "      <td>55.000000</td>\n",
       "      <td>18.000000</td>\n",
       "      <td>20.000000</td>\n",
       "    </tr>\n",
       "  </tbody>\n",
       "</table>\n",
       "</div>"
      ],
      "text/plain": [
       "         Lead Number    Converted  TotalVisits  Total Time Spent on Website  \\\n",
       "count    9240.000000  9240.000000  9103.000000                  9240.000000   \n",
       "mean   617188.435606     0.385390     3.445238                   487.698268   \n",
       "std     23405.995698     0.486714     4.854853                   548.021466   \n",
       "min    579533.000000     0.000000     0.000000                     0.000000   \n",
       "25%    596484.500000     0.000000     1.000000                    12.000000   \n",
       "50%    615479.000000     0.000000     3.000000                   248.000000   \n",
       "75%    637387.250000     1.000000     5.000000                   936.000000   \n",
       "max    660737.000000     1.000000   251.000000                  2272.000000   \n",
       "\n",
       "       Page Views Per Visit  Asymmetrique Activity Score  \\\n",
       "count           9103.000000                  5022.000000   \n",
       "mean               2.362820                    14.306252   \n",
       "std                2.161418                     1.386694   \n",
       "min                0.000000                     7.000000   \n",
       "25%                1.000000                    14.000000   \n",
       "50%                2.000000                    14.000000   \n",
       "75%                3.000000                    15.000000   \n",
       "max               55.000000                    18.000000   \n",
       "\n",
       "       Asymmetrique Profile Score  \n",
       "count                 5022.000000  \n",
       "mean                    16.344883  \n",
       "std                      1.811395  \n",
       "min                     11.000000  \n",
       "25%                     15.000000  \n",
       "50%                     16.000000  \n",
       "75%                     18.000000  \n",
       "max                     20.000000  "
      ]
     },
     "execution_count": 3509,
     "metadata": {},
     "output_type": "execute_result"
    }
   ],
   "source": [
    "# Describe all numerical columns\n",
    "leads_data.describe()"
   ]
  },
  {
   "cell_type": "code",
   "execution_count": 3510,
   "metadata": {},
   "outputs": [
    {
     "name": "stdout",
     "output_type": "stream",
     "text": [
      "9240\n",
      "9240\n",
      "9240\n"
     ]
    }
   ],
   "source": [
    "# Basic checks to see if all customers id and lead number are unique\n",
    "print(len(leads_data['Lead Number'].unique()))\n",
    "print(len(leads_data['Prospect ID'].unique()))\n",
    "print(len(leads_data[['Prospect ID','Lead Number']].drop_duplicates()))\n",
    "\n",
    "# Every lead and customer is unique"
   ]
  },
  {
   "cell_type": "code",
   "execution_count": 3511,
   "metadata": {},
   "outputs": [
    {
     "name": "stdout",
     "output_type": "stream",
     "text": [
      "(6468, 36)\n",
      "(6468,)\n",
      "(2772, 36)\n",
      "(2772,)\n"
     ]
    }
   ],
   "source": [
    "# Lets split the data into test and train set, because whatever changes we do on train set now, we can do it on test set later, \n",
    "# This will make the program more robust so that as soon as users enter the raw file for testing, they will get the results\n",
    "Y = leads_data['Converted']\n",
    "X = leads_data.drop('Converted',axis = 1)\n",
    "X_Train,X_Test,Y_Train,Y_Test = train_test_split(X,Y,test_size = 0.3,random_state = 42)\n",
    "print(X_Train.shape)\n",
    "print(Y_Train.shape)\n",
    "print(X_Test.shape)\n",
    "print(Y_Test.shape)"
   ]
  },
  {
   "cell_type": "code",
   "execution_count": 3512,
   "metadata": {},
   "outputs": [
    {
     "name": "stdout",
     "output_type": "stream",
     "text": [
      "(6468, 37)\n"
     ]
    }
   ],
   "source": [
    "# Lets combine both X_Train and Y_Train so that any row removal will be easier\n",
    "lead_train = pd.concat([X_Train,Y_Train],axis = 1)\n",
    "print(lead_train.shape)"
   ]
  },
  {
   "cell_type": "code",
   "execution_count": 3513,
   "metadata": {},
   "outputs": [
    {
     "name": "stdout",
     "output_type": "stream",
     "text": [
      "(6468, 28)\n"
     ]
    }
   ],
   "source": [
    "# Drop unnecessary columns\n",
    "# Customer ID and Leads are unique identifiers and will not be needed\n",
    "# Also there are certain columns which already tries and identify whether the lead is a hot lead or not..We can drop such columns as well\n",
    "# These columns are 'Tags','Lead Quality','Lead Profile','Asymmetrique Activity Index', 'Asymmetrique Profile Index','Asymmetrique Activity Score','Asymmetrique Profile Score'\n",
    "col_to_drop = ['Prospect ID','Lead Number','Tags','Lead Quality','Lead Profile','Asymmetrique Activity Index', 'Asymmetrique Profile Index','Asymmetrique Activity Score','Asymmetrique Profile Score']\n",
    "lead_train = lead_train.drop(col_to_drop,axis = 1)\n",
    "print(lead_train.shape)\n",
    "\n",
    "# Maintaining a list of drop columns that will be useful for test set later\n",
    "drop_list = ['Prospect ID','Lead Number','Tags','Lead Quality','Lead Profile','Asymmetrique Activity Index', 'Asymmetrique Profile Index','Asymmetrique Activity Score','Asymmetrique Profile Score']\n"
   ]
  },
  {
   "cell_type": "code",
   "execution_count": 3514,
   "metadata": {},
   "outputs": [
    {
     "name": "stdout",
     "output_type": "stream",
     "text": [
      "['Specialization', 'How did you hear about X Education', 'City']\n"
     ]
    },
    {
     "data": {
      "text/html": [
       "<div>\n",
       "<style scoped>\n",
       "    .dataframe tbody tr th:only-of-type {\n",
       "        vertical-align: middle;\n",
       "    }\n",
       "\n",
       "    .dataframe tbody tr th {\n",
       "        vertical-align: top;\n",
       "    }\n",
       "\n",
       "    .dataframe thead th {\n",
       "        text-align: right;\n",
       "    }\n",
       "</style>\n",
       "<table border=\"1\" class=\"dataframe\">\n",
       "  <thead>\n",
       "    <tr style=\"text-align: right;\">\n",
       "      <th></th>\n",
       "      <th>columns</th>\n",
       "      <th>null_value_cent</th>\n",
       "    </tr>\n",
       "  </thead>\n",
       "  <tbody>\n",
       "    <tr>\n",
       "      <td>12</td>\n",
       "      <td>What matters most to you in choosing a course</td>\n",
       "      <td>29.205318</td>\n",
       "    </tr>\n",
       "    <tr>\n",
       "      <td>11</td>\n",
       "      <td>What is your current occupation</td>\n",
       "      <td>29.019790</td>\n",
       "    </tr>\n",
       "    <tr>\n",
       "      <td>8</td>\n",
       "      <td>Country</td>\n",
       "      <td>26.546073</td>\n",
       "    </tr>\n",
       "    <tr>\n",
       "      <td>10</td>\n",
       "      <td>How did you hear about X Education</td>\n",
       "      <td>23.902288</td>\n",
       "    </tr>\n",
       "    <tr>\n",
       "      <td>9</td>\n",
       "      <td>Specialization</td>\n",
       "      <td>15.553494</td>\n",
       "    </tr>\n",
       "    <tr>\n",
       "      <td>23</td>\n",
       "      <td>City</td>\n",
       "      <td>15.429808</td>\n",
       "    </tr>\n",
       "    <tr>\n",
       "      <td>4</td>\n",
       "      <td>TotalVisits</td>\n",
       "      <td>1.437848</td>\n",
       "    </tr>\n",
       "    <tr>\n",
       "      <td>6</td>\n",
       "      <td>Page Views Per Visit</td>\n",
       "      <td>1.437848</td>\n",
       "    </tr>\n",
       "    <tr>\n",
       "      <td>7</td>\n",
       "      <td>Last Activity</td>\n",
       "      <td>1.035869</td>\n",
       "    </tr>\n",
       "    <tr>\n",
       "      <td>1</td>\n",
       "      <td>Lead Source</td>\n",
       "      <td>0.432900</td>\n",
       "    </tr>\n",
       "    <tr>\n",
       "      <td>21</td>\n",
       "      <td>Update me on Supply Chain Content</td>\n",
       "      <td>0.000000</td>\n",
       "    </tr>\n",
       "    <tr>\n",
       "      <td>22</td>\n",
       "      <td>Get updates on DM Content</td>\n",
       "      <td>0.000000</td>\n",
       "    </tr>\n",
       "    <tr>\n",
       "      <td>0</td>\n",
       "      <td>Lead Origin</td>\n",
       "      <td>0.000000</td>\n",
       "    </tr>\n",
       "    <tr>\n",
       "      <td>19</td>\n",
       "      <td>Through Recommendations</td>\n",
       "      <td>0.000000</td>\n",
       "    </tr>\n",
       "    <tr>\n",
       "      <td>24</td>\n",
       "      <td>I agree to pay the amount through cheque</td>\n",
       "      <td>0.000000</td>\n",
       "    </tr>\n",
       "    <tr>\n",
       "      <td>25</td>\n",
       "      <td>A free copy of Mastering The Interview</td>\n",
       "      <td>0.000000</td>\n",
       "    </tr>\n",
       "    <tr>\n",
       "      <td>26</td>\n",
       "      <td>Last Notable Activity</td>\n",
       "      <td>0.000000</td>\n",
       "    </tr>\n",
       "    <tr>\n",
       "      <td>20</td>\n",
       "      <td>Receive More Updates About Our Courses</td>\n",
       "      <td>0.000000</td>\n",
       "    </tr>\n",
       "    <tr>\n",
       "      <td>14</td>\n",
       "      <td>Magazine</td>\n",
       "      <td>0.000000</td>\n",
       "    </tr>\n",
       "    <tr>\n",
       "      <td>18</td>\n",
       "      <td>Digital Advertisement</td>\n",
       "      <td>0.000000</td>\n",
       "    </tr>\n",
       "    <tr>\n",
       "      <td>17</td>\n",
       "      <td>Newspaper</td>\n",
       "      <td>0.000000</td>\n",
       "    </tr>\n",
       "    <tr>\n",
       "      <td>16</td>\n",
       "      <td>X Education Forums</td>\n",
       "      <td>0.000000</td>\n",
       "    </tr>\n",
       "    <tr>\n",
       "      <td>15</td>\n",
       "      <td>Newspaper Article</td>\n",
       "      <td>0.000000</td>\n",
       "    </tr>\n",
       "    <tr>\n",
       "      <td>13</td>\n",
       "      <td>Search</td>\n",
       "      <td>0.000000</td>\n",
       "    </tr>\n",
       "    <tr>\n",
       "      <td>5</td>\n",
       "      <td>Total Time Spent on Website</td>\n",
       "      <td>0.000000</td>\n",
       "    </tr>\n",
       "    <tr>\n",
       "      <td>3</td>\n",
       "      <td>Do Not Call</td>\n",
       "      <td>0.000000</td>\n",
       "    </tr>\n",
       "    <tr>\n",
       "      <td>2</td>\n",
       "      <td>Do Not Email</td>\n",
       "      <td>0.000000</td>\n",
       "    </tr>\n",
       "    <tr>\n",
       "      <td>27</td>\n",
       "      <td>Converted</td>\n",
       "      <td>0.000000</td>\n",
       "    </tr>\n",
       "  </tbody>\n",
       "</table>\n",
       "</div>"
      ],
      "text/plain": [
       "                                          columns  null_value_cent\n",
       "12  What matters most to you in choosing a course        29.205318\n",
       "11                What is your current occupation        29.019790\n",
       "8                                         Country        26.546073\n",
       "10             How did you hear about X Education        23.902288\n",
       "9                                  Specialization        15.553494\n",
       "23                                           City        15.429808\n",
       "4                                     TotalVisits         1.437848\n",
       "6                            Page Views Per Visit         1.437848\n",
       "7                                   Last Activity         1.035869\n",
       "1                                     Lead Source         0.432900\n",
       "21              Update me on Supply Chain Content         0.000000\n",
       "22                      Get updates on DM Content         0.000000\n",
       "0                                     Lead Origin         0.000000\n",
       "19                        Through Recommendations         0.000000\n",
       "24       I agree to pay the amount through cheque         0.000000\n",
       "25         A free copy of Mastering The Interview         0.000000\n",
       "26                          Last Notable Activity         0.000000\n",
       "20         Receive More Updates About Our Courses         0.000000\n",
       "14                                       Magazine         0.000000\n",
       "18                          Digital Advertisement         0.000000\n",
       "17                                      Newspaper         0.000000\n",
       "16                             X Education Forums         0.000000\n",
       "15                              Newspaper Article         0.000000\n",
       "13                                         Search         0.000000\n",
       "5                     Total Time Spent on Website         0.000000\n",
       "3                                     Do Not Call         0.000000\n",
       "2                                    Do Not Email         0.000000\n",
       "27                                      Converted         0.000000"
      ]
     },
     "execution_count": 3514,
     "metadata": {},
     "output_type": "execute_result"
    }
   ],
   "source": [
    "# Null value treatment\n",
    "null_value_df = (100*(lead_train.isnull().sum()/len(lead_train))).reset_index()\n",
    "null_value_df.columns = ['columns','null_value_cent']\n",
    "null_value_df = null_value_df.sort_values(by = 'null_value_cent',ascending  = False)\n",
    "\n",
    "# Keep in mind that if a column has 'select' value,it is also null\n",
    "# Printing all columns which has select as value in it\n",
    "select_val_list = []\n",
    "for col in lead_train.columns:\n",
    "    if((lead_train[col]=='Select').any(axis = 0)):\n",
    "        select_val_list.append(col)\n",
    "        \n",
    "print(select_val_list)\n",
    "\n",
    "# Printing Columns with NA values\n",
    "null_value_df\n",
    "        "
   ]
  },
  {
   "cell_type": "code",
   "execution_count": 3515,
   "metadata": {},
   "outputs": [
    {
     "name": "stdout",
     "output_type": "stream",
     "text": [
      "Better Career Prospects      4577\n",
      "Flexibility & Convenience       1\n",
      "Other                           1\n",
      "Name: What matters most to you in choosing a course, dtype: int64\n"
     ]
    }
   ],
   "source": [
    "# Start Null value Treatment with the above columns\n",
    "#What matters most to you in choosing a course\n",
    "# Null % - 29%\n",
    "print(lead_train['What matters most to you in choosing a course'].value_counts())\n",
    "\n",
    "# Since almost every data point is null or 1 category(Better Career Prospects), there is no point keeping this column\n",
    "lead_train = lead_train.drop('What matters most to you in choosing a course',axis  = 1)\n",
    "drop_list.append('What matters most to you in choosing a course')"
   ]
  },
  {
   "cell_type": "code",
   "execution_count": 3516,
   "metadata": {},
   "outputs": [
    {
     "name": "stdout",
     "output_type": "stream",
     "text": [
      "Unemployed              3942\n",
      "Other                   1899\n",
      "Working Professional     488\n",
      "Student                  139\n",
      "Name: What is your current occupation, dtype: int64\n"
     ]
    }
   ],
   "source": [
    "#What is your current occupation\n",
    "# Null % - 29%\n",
    "def replace_occupation(x):\n",
    "    if(x in ['Other','Housewife','Businessman']):\n",
    "        return 'Other'\n",
    "    else:\n",
    "        return x\n",
    "lead_train['What is your current occupation'].value_counts()\n",
    "# Majority of them are 'Unemployed'\n",
    "# Lets Impute the Null values with 'Others' and replace Others, Housewise and Businessman with it\n",
    "lead_train['What is your current occupation'] = lead_train['What is your current occupation'].fillna('Other')\n",
    "lead_train['What is your current occupation'] = lead_train['What is your current occupation'].apply(lambda x :replace_occupation(x))\n",
    "print(lead_train['What is your current occupation'].value_counts())"
   ]
  },
  {
   "cell_type": "code",
   "execution_count": 3517,
   "metadata": {},
   "outputs": [
    {
     "data": {
      "text/plain": [
       "India      4549\n",
       "Unknown    1717\n",
       "Others      202\n",
       "Name: Country, dtype: int64"
      ]
     },
     "execution_count": 3517,
     "metadata": {},
     "output_type": "execute_result"
    }
   ],
   "source": [
    "#Country\n",
    "# Null % - 26.5%\n",
    "\n",
    "def replace_country(country):\n",
    "    if(country =='India'):\n",
    "         return 'India'\n",
    "    elif(country =='Unknown'):\n",
    "         return 'Unknown'\n",
    "    else:\n",
    "         return 'Others'\n",
    "lead_train['Country'].value_counts()\n",
    "# Majority of the enteries are from India.. \n",
    "# Lets impute the missing values with Unknown and other countries with Others..\n",
    "lead_train['Country'] = lead_train['Country'].fillna('Unknown')\n",
    "lead_train['Country'] = lead_train['Country'].apply(lambda x :replace_country(x))\n",
    "lead_train['Country'].value_counts()"
   ]
  },
  {
   "cell_type": "code",
   "execution_count": 3518,
   "metadata": {},
   "outputs": [
    {
     "name": "stdout",
     "output_type": "stream",
     "text": [
      "Select                   3530\n",
      "Online Search             561\n",
      "Word Of Mouth             253\n",
      "Student of SomeSchool     215\n",
      "Other                     125\n",
      "Multiple Sources          104\n",
      "Social Media               52\n",
      "Advertisements             51\n",
      "Email                      16\n",
      "SMS                        15\n",
      "Name: How did you hear about X Education, dtype: int64\n"
     ]
    }
   ],
   "source": [
    "#How did you hear about X Education\n",
    "# Null % - 24%\n",
    "print(lead_train['How did you hear about X Education'].value_counts())\n",
    "# Majority of the enteries are either null or select..It is better to drop this column\n",
    "lead_train = lead_train.drop(['How did you hear about X Education'],axis = 1)\n",
    "drop_list.append('How did you hear about X Education')"
   ]
  },
  {
   "cell_type": "code",
   "execution_count": 3519,
   "metadata": {},
   "outputs": [
    {
     "name": "stdout",
     "output_type": "stream",
     "text": [
      "Management                           2986\n",
      "Other                                2339\n",
      "Business                              495\n",
      "Banking, Investment And Insurance     252\n",
      "Travel and Tourism                    147\n",
      "Media and Advertising                 145\n",
      "E-COMMERCE                             75\n",
      "Services Excellence                    29\n",
      "Name: Specialization, dtype: int64\n"
     ]
    }
   ],
   "source": [
    "#Specialization\n",
    "# Null % - 16%\n",
    "def replace_specialisation(specialisation):\n",
    "    if('business' in specialisation.lower()):\n",
    "        return 'Business'\n",
    "    elif('management' in specialisation.lower()):\n",
    "        return 'Management'\n",
    "    else:\n",
    "         return str(specialisation)\n",
    "\n",
    "lead_train['Specialization'].value_counts()\n",
    "# Including Null and Select, there are 36% Null values, But this seems like to be an important column..\n",
    "# Lets put NAN and Select values to a different categories\n",
    "\n",
    "lead_train['Specialization'] = lead_train['Specialization'].fillna('Other')\n",
    "lead_train['Specialization'] = lead_train['Specialization'].replace('Select','Other')\n",
    "lead_train['Specialization'] = lead_train['Specialization'].apply(lambda x :replace_specialisation(x))\n",
    "print(lead_train['Specialization'].value_counts())"
   ]
  },
  {
   "cell_type": "code",
   "execution_count": 3520,
   "metadata": {},
   "outputs": [
    {
     "name": "stdout",
     "output_type": "stream",
     "text": [
      "Mumbai                         2299\n",
      "Select                         1536\n",
      "Thane & Outskirts               529\n",
      "Other Cities                    471\n",
      "Other Cities of Maharashtra     321\n",
      "Other Metro Cities              263\n",
      "Tier II Cities                   51\n",
      "Name: City, dtype: int64\n"
     ]
    }
   ],
   "source": [
    "#City\n",
    "# Null % - 15%\n",
    "print(lead_train['City'].value_counts())\n",
    "# Majority of the enteries are either null or select or Mumbai..It is better to drop this column\n",
    "lead_train = lead_train.drop('City',axis= 1)\n",
    "drop_list.append('City')"
   ]
  },
  {
   "cell_type": "code",
   "execution_count": 3521,
   "metadata": {},
   "outputs": [
    {
     "name": "stdout",
     "output_type": "stream",
     "text": [
      "count    6375.000000\n",
      "mean        3.492549\n",
      "std         5.137449\n",
      "min         0.000000\n",
      "25%         1.000000\n",
      "50%         3.000000\n",
      "75%         5.000000\n",
      "max       251.000000\n",
      "Name: TotalVisits, dtype: float64\n",
      "0.0\n"
     ]
    }
   ],
   "source": [
    "#TotalVisits\n",
    "# Null % - 1%\n",
    "print(lead_train['TotalVisits'].describe())\n",
    "# Lets Impute the missing values by mode\n",
    "lead_train['TotalVisits'] = lead_train['TotalVisits'].fillna(float(lead_train['TotalVisits'].mode()))\n",
    "print(float(lead_train['TotalVisits'].mode()))"
   ]
  },
  {
   "cell_type": "code",
   "execution_count": 3522,
   "metadata": {},
   "outputs": [],
   "source": [
    "#Page Views Per Visit\n",
    "# Null % - 1%\n",
    "lead_train['Page Views Per Visit'].describe()\n",
    "#Lets Impute the missing values by mode\n",
    "lead_train['Page Views Per Visit'] = lead_train['Page Views Per Visit'].fillna(float(lead_train['Page Views Per Visit'].mode()))"
   ]
  },
  {
   "cell_type": "code",
   "execution_count": 3523,
   "metadata": {},
   "outputs": [
    {
     "name": "stdout",
     "output_type": "stream",
     "text": [
      "High_Intent      3013\n",
      "Low_Intent       2752\n",
      "Middle_Intent     703\n",
      "Name: Last Activity, dtype: int64\n"
     ]
    }
   ],
   "source": [
    "#Last Activity\n",
    "# Null % - 1%\n",
    "def replace_lastactivity(x):\n",
    "    if(x in ['SMS Sent','SMS Sent', 'Olark Chat Conversation','Form Submitted on Website','Had a Phone Conversation','Approached upfront','Converted to Lead']):\n",
    "        return 'High_Intent'\n",
    "    elif(x in ['Page Visited on Website','Email Link Clicked','View in browser link Clicked','Email Received','Visited Booth in Tradeshow',\"Middle_Intent\"]):\n",
    "        return 'Middle_Intent'\n",
    "    else:\n",
    "        return 'Low_Intent'\n",
    "lead_train['Last Activity'].value_counts()\n",
    "# Make 3 categories for them..\n",
    "# High_Intent, Middle_Intent, Low_Intent\n",
    "# High_Intent - ['SMS Sent','SMS Sent', Olark Chat Conversation','Form Submitted on Website','Had a Phone Conversation','Approached upfront','Converted to Lead']\n",
    "# Middle_Intent - ['Page Visited on Website','Email Link Clicked','View in browser link Clicked','Email Received','Visited Booth in Tradeshow']\n",
    "# Low_Intent - ['Email Bounced ','Unreachable','Unsubscribed','Email Marked Spam']\n",
    "#Lets Impute the missing values by 'Middle_Intent'\n",
    "lead_train['Last Activity'] = lead_train['Last Activity'].fillna('Middle_Intent')\n",
    "lead_train['Last Activity'] = lead_train['Last Activity'].apply(lambda x :replace_lastactivity(x))\n",
    "print(lead_train['Last Activity'].value_counts())"
   ]
  },
  {
   "cell_type": "code",
   "execution_count": 3524,
   "metadata": {},
   "outputs": [
    {
     "name": "stdout",
     "output_type": "stream",
     "text": [
      "Google            2023\n",
      "Direct Traffic    1797\n",
      "Olark Chat        1251\n",
      "Organic Search     789\n",
      "Reference          365\n",
      "Websites           163\n",
      "Other               80\n",
      "Name: Lead Source, dtype: int64\n"
     ]
    }
   ],
   "source": [
    "#Lead Source\n",
    "# Null % - 0.5%\n",
    "def replace_leadsource(x):\n",
    "    if x.lower() in ['google']:\n",
    "        return 'Google'\n",
    "    elif x.lower() in ['referral sites','welingak website']:\n",
    "        return 'Websites'\n",
    "    elif x.lower() in ['facebook','bing','other','social media','live chat','pay per click ads','youtubechannel','click2call','blog','nc_edm','welearn','press_release',\n",
    "'welearnblog_home', 'testone']:\n",
    "        return 'Other'\n",
    "    else:\n",
    "        return x\n",
    "lead_train['Lead Source'].value_counts()\n",
    "#Lets Impute the missing values by 'Others'\n",
    "lead_train['Lead Source'] = lead_train['Lead Source'].fillna('Other')\n",
    "lead_train['Lead Source'] =  lead_train['Lead Source'].apply(lambda x :replace_leadsource(x))\n",
    "print(lead_train['Lead Source'].value_counts())"
   ]
  },
  {
   "cell_type": "code",
   "execution_count": 3525,
   "metadata": {},
   "outputs": [
    {
     "name": "stdout",
     "output_type": "stream",
     "text": [
      "[]\n"
     ]
    },
    {
     "data": {
      "text/html": [
       "<div>\n",
       "<style scoped>\n",
       "    .dataframe tbody tr th:only-of-type {\n",
       "        vertical-align: middle;\n",
       "    }\n",
       "\n",
       "    .dataframe tbody tr th {\n",
       "        vertical-align: top;\n",
       "    }\n",
       "\n",
       "    .dataframe thead th {\n",
       "        text-align: right;\n",
       "    }\n",
       "</style>\n",
       "<table border=\"1\" class=\"dataframe\">\n",
       "  <thead>\n",
       "    <tr style=\"text-align: right;\">\n",
       "      <th></th>\n",
       "      <th>columns</th>\n",
       "      <th>null_value_cent</th>\n",
       "    </tr>\n",
       "  </thead>\n",
       "  <tbody>\n",
       "    <tr>\n",
       "      <td>0</td>\n",
       "      <td>Lead Origin</td>\n",
       "      <td>0.0</td>\n",
       "    </tr>\n",
       "    <tr>\n",
       "      <td>13</td>\n",
       "      <td>Newspaper Article</td>\n",
       "      <td>0.0</td>\n",
       "    </tr>\n",
       "    <tr>\n",
       "      <td>23</td>\n",
       "      <td>Last Notable Activity</td>\n",
       "      <td>0.0</td>\n",
       "    </tr>\n",
       "    <tr>\n",
       "      <td>22</td>\n",
       "      <td>A free copy of Mastering The Interview</td>\n",
       "      <td>0.0</td>\n",
       "    </tr>\n",
       "    <tr>\n",
       "      <td>21</td>\n",
       "      <td>I agree to pay the amount through cheque</td>\n",
       "      <td>0.0</td>\n",
       "    </tr>\n",
       "    <tr>\n",
       "      <td>20</td>\n",
       "      <td>Get updates on DM Content</td>\n",
       "      <td>0.0</td>\n",
       "    </tr>\n",
       "    <tr>\n",
       "      <td>19</td>\n",
       "      <td>Update me on Supply Chain Content</td>\n",
       "      <td>0.0</td>\n",
       "    </tr>\n",
       "    <tr>\n",
       "      <td>18</td>\n",
       "      <td>Receive More Updates About Our Courses</td>\n",
       "      <td>0.0</td>\n",
       "    </tr>\n",
       "    <tr>\n",
       "      <td>17</td>\n",
       "      <td>Through Recommendations</td>\n",
       "      <td>0.0</td>\n",
       "    </tr>\n",
       "    <tr>\n",
       "      <td>16</td>\n",
       "      <td>Digital Advertisement</td>\n",
       "      <td>0.0</td>\n",
       "    </tr>\n",
       "    <tr>\n",
       "      <td>15</td>\n",
       "      <td>Newspaper</td>\n",
       "      <td>0.0</td>\n",
       "    </tr>\n",
       "    <tr>\n",
       "      <td>14</td>\n",
       "      <td>X Education Forums</td>\n",
       "      <td>0.0</td>\n",
       "    </tr>\n",
       "    <tr>\n",
       "      <td>12</td>\n",
       "      <td>Magazine</td>\n",
       "      <td>0.0</td>\n",
       "    </tr>\n",
       "    <tr>\n",
       "      <td>1</td>\n",
       "      <td>Lead Source</td>\n",
       "      <td>0.0</td>\n",
       "    </tr>\n",
       "    <tr>\n",
       "      <td>11</td>\n",
       "      <td>Search</td>\n",
       "      <td>0.0</td>\n",
       "    </tr>\n",
       "    <tr>\n",
       "      <td>10</td>\n",
       "      <td>What is your current occupation</td>\n",
       "      <td>0.0</td>\n",
       "    </tr>\n",
       "    <tr>\n",
       "      <td>9</td>\n",
       "      <td>Specialization</td>\n",
       "      <td>0.0</td>\n",
       "    </tr>\n",
       "    <tr>\n",
       "      <td>8</td>\n",
       "      <td>Country</td>\n",
       "      <td>0.0</td>\n",
       "    </tr>\n",
       "    <tr>\n",
       "      <td>7</td>\n",
       "      <td>Last Activity</td>\n",
       "      <td>0.0</td>\n",
       "    </tr>\n",
       "    <tr>\n",
       "      <td>6</td>\n",
       "      <td>Page Views Per Visit</td>\n",
       "      <td>0.0</td>\n",
       "    </tr>\n",
       "    <tr>\n",
       "      <td>5</td>\n",
       "      <td>Total Time Spent on Website</td>\n",
       "      <td>0.0</td>\n",
       "    </tr>\n",
       "    <tr>\n",
       "      <td>4</td>\n",
       "      <td>TotalVisits</td>\n",
       "      <td>0.0</td>\n",
       "    </tr>\n",
       "    <tr>\n",
       "      <td>3</td>\n",
       "      <td>Do Not Call</td>\n",
       "      <td>0.0</td>\n",
       "    </tr>\n",
       "    <tr>\n",
       "      <td>2</td>\n",
       "      <td>Do Not Email</td>\n",
       "      <td>0.0</td>\n",
       "    </tr>\n",
       "    <tr>\n",
       "      <td>24</td>\n",
       "      <td>Converted</td>\n",
       "      <td>0.0</td>\n",
       "    </tr>\n",
       "  </tbody>\n",
       "</table>\n",
       "</div>"
      ],
      "text/plain": [
       "                                     columns  null_value_cent\n",
       "0                                Lead Origin              0.0\n",
       "13                         Newspaper Article              0.0\n",
       "23                     Last Notable Activity              0.0\n",
       "22    A free copy of Mastering The Interview              0.0\n",
       "21  I agree to pay the amount through cheque              0.0\n",
       "20                 Get updates on DM Content              0.0\n",
       "19         Update me on Supply Chain Content              0.0\n",
       "18    Receive More Updates About Our Courses              0.0\n",
       "17                   Through Recommendations              0.0\n",
       "16                     Digital Advertisement              0.0\n",
       "15                                 Newspaper              0.0\n",
       "14                        X Education Forums              0.0\n",
       "12                                  Magazine              0.0\n",
       "1                                Lead Source              0.0\n",
       "11                                    Search              0.0\n",
       "10           What is your current occupation              0.0\n",
       "9                             Specialization              0.0\n",
       "8                                    Country              0.0\n",
       "7                              Last Activity              0.0\n",
       "6                       Page Views Per Visit              0.0\n",
       "5                Total Time Spent on Website              0.0\n",
       "4                                TotalVisits              0.0\n",
       "3                                Do Not Call              0.0\n",
       "2                               Do Not Email              0.0\n",
       "24                                 Converted              0.0"
      ]
     },
     "execution_count": 3525,
     "metadata": {},
     "output_type": "execute_result"
    }
   ],
   "source": [
    "# Null Value and Select value check again\n",
    "null_value_df = (100*(lead_train.isnull().sum()/len(lead_train))).reset_index()\n",
    "null_value_df.columns = ['columns','null_value_cent']\n",
    "null_value_df = null_value_df.sort_values(by = 'null_value_cent',ascending  = False)\n",
    "\n",
    "# Keep in mind that if a column has 'select' value,it is also null\n",
    "# Printing all columns which has select as value in it\n",
    "select_val_list = []\n",
    "for col in lead_train.columns:\n",
    "    if((lead_train[col]=='Select').any(axis = 0)):\n",
    "        select_val_list.append(col)\n",
    "        \n",
    "print(select_val_list)\n",
    "\n",
    "# Printing Columns with NA values\n",
    "null_value_df\n",
    "\n",
    "# No null and select values present\n",
    "        "
   ]
  },
  {
   "cell_type": "code",
   "execution_count": 3526,
   "metadata": {},
   "outputs": [
    {
     "data": {
      "text/plain": [
       "(6468, 25)"
      ]
     },
     "execution_count": 3526,
     "metadata": {},
     "output_type": "execute_result"
    }
   ],
   "source": [
    "# Inspecting the shape of new data set now\n",
    "lead_train.shape"
   ]
  },
  {
   "cell_type": "code",
   "execution_count": 3527,
   "metadata": {},
   "outputs": [
    {
     "name": "stdout",
     "output_type": "stream",
     "text": [
      "Landing Page Submission     52.983921\n",
      "API                         39.100186\n",
      "Lead Import and Add Form     7.915894\n",
      "Name: Lead Origin, dtype: float64\n"
     ]
    }
   ],
   "source": [
    "# Start Univariate Analysis\n",
    "#Lead Origin\n",
    "\n",
    "def replace_leadform(x):\n",
    "    if(x in ['Lead Add Form','Lead Import','Quick Add Form']):\n",
    "        return 'Lead Import and Add Form'\n",
    "    else:\n",
    "        return x\n",
    "\n",
    "100*(lead_train['Lead Origin'].value_counts()/len(lead_train))\n",
    "# Majority of users either have Lead Page Submission and API\n",
    "\n",
    "lead_train['Lead Origin'] = lead_train['Lead Origin'].apply(lambda x : replace_leadform(x))\n",
    "print(100*(lead_train['Lead Origin'].value_counts()/len(lead_train)))"
   ]
  },
  {
   "cell_type": "code",
   "execution_count": 3528,
   "metadata": {},
   "outputs": [],
   "source": [
    "#Newspaper Article\n",
    "\n",
    "100*(lead_train['Newspaper Article'].value_counts()/len(lead_train))\n",
    "# Since Majority of people has yes, its better to drop this column\n",
    "lead_train = lead_train.drop('Newspaper Article',axis = 1)\n",
    "drop_list.append('Newspaper Article')"
   ]
  },
  {
   "cell_type": "code",
   "execution_count": 3529,
   "metadata": {},
   "outputs": [
    {
     "data": {
      "text/plain": [
       "Modified        36.750155\n",
       "Email Opened    30.952381\n",
       "SMS Sent        23.160173\n",
       "Other            9.137291\n",
       "Name: Last Notable Activity, dtype: float64"
      ]
     },
     "execution_count": 3529,
     "metadata": {},
     "output_type": "execute_result"
    }
   ],
   "source": [
    "#Last Notable Activity\n",
    "\n",
    "\n",
    "def replace_lastnotableactivity(x):\n",
    "    if(x not in ['Modified','Email Opened','SMS Sent']):\n",
    "        return 'Other'\n",
    "    else:\n",
    "        return x\n",
    "    \n",
    "100*(lead_train['Last Notable Activity'].value_counts()/len(lead_train))\n",
    "\n",
    "\n",
    "# Replace All categories other than Modified, Email Opened,SMS Sent to 'Other'  ..\n",
    "lead_train['Last Notable Activity'] = lead_train['Last Notable Activity'].apply(lambda x :replace_lastnotableactivity(x))\n",
    "100*(lead_train['Last Notable Activity'].value_counts()/len(lead_train))"
   ]
  },
  {
   "cell_type": "code",
   "execution_count": 3530,
   "metadata": {},
   "outputs": [
    {
     "data": {
      "text/plain": [
       "No     68.42919\n",
       "Yes    31.57081\n",
       "Name: A free copy of Mastering The Interview, dtype: float64"
      ]
     },
     "execution_count": 3530,
     "metadata": {},
     "output_type": "execute_result"
    }
   ],
   "source": [
    "#A free copy of Mastering The Interview\n",
    "\n",
    "100*(lead_train['A free copy of Mastering The Interview'].value_counts()/len(lead_train))"
   ]
  },
  {
   "cell_type": "code",
   "execution_count": 3531,
   "metadata": {},
   "outputs": [],
   "source": [
    "#I agree to pay the amount through cheque\n",
    "100*(lead_train['I agree to pay the amount through cheque'].value_counts()/len(lead_train))\n",
    "# Everyone says no.. Droping the column\n",
    "lead_train = lead_train.drop('I agree to pay the amount through cheque',axis = 1)\n",
    "drop_list.append('I agree to pay the amount through cheque')"
   ]
  },
  {
   "cell_type": "code",
   "execution_count": 3532,
   "metadata": {},
   "outputs": [],
   "source": [
    "#Get updates on DM Content\n",
    "100*(lead_train['Get updates on DM Content'].value_counts()/len(lead_train))\n",
    "# Everyone says no.. Droping the column\n",
    "lead_train = lead_train.drop('Get updates on DM Content',axis = 1)\n",
    "drop_list.append('Get updates on DM Content')"
   ]
  },
  {
   "cell_type": "code",
   "execution_count": 3533,
   "metadata": {},
   "outputs": [],
   "source": [
    "#Get updates on DM Content\n",
    "100*(lead_train['Update me on Supply Chain Content'].value_counts()/len(lead_train))\n",
    "# Everyone says no.. Droping the column\n",
    "lead_train = lead_train.drop('Update me on Supply Chain Content',axis = 1)\n",
    "drop_list.append('Update me on Supply Chain Content')"
   ]
  },
  {
   "cell_type": "code",
   "execution_count": 3534,
   "metadata": {},
   "outputs": [],
   "source": [
    "#Receive More Updates About Our Courses\n",
    "100*(lead_train['Receive More Updates About Our Courses'].value_counts()/len(lead_train))\n",
    "# Everyone says no.. Droping the column\n",
    "lead_train = lead_train.drop('Receive More Updates About Our Courses',axis = 1)\n",
    "drop_list.append('Receive More Updates About Our Courses')"
   ]
  },
  {
   "cell_type": "code",
   "execution_count": 3535,
   "metadata": {},
   "outputs": [],
   "source": [
    "#Through Recommendations\n",
    "100*(lead_train['Through Recommendations'].value_counts()/len(lead_train))\n",
    "# Almost everyone says no.. better to drop this columns\n",
    "lead_train = lead_train.drop('Through Recommendations',axis = 1)\n",
    "drop_list.append('Through Recommendations')"
   ]
  },
  {
   "cell_type": "code",
   "execution_count": 3536,
   "metadata": {},
   "outputs": [],
   "source": [
    "#Digital Advertisement\n",
    "100*(lead_train['Digital Advertisement'].value_counts()/len(lead_train))\n",
    "# Almost everyone says no.. better to drop this columns\n",
    "lead_train = lead_train.drop('Digital Advertisement',axis = 1)\n",
    "drop_list.append('Digital Advertisement')"
   ]
  },
  {
   "cell_type": "code",
   "execution_count": 3537,
   "metadata": {},
   "outputs": [],
   "source": [
    "#Newspaper\n",
    "100*(lead_train['Newspaper'].value_counts()/len(lead_train))\n",
    "# Almost everyone says no.. better to drop this columns\n",
    "lead_train = lead_train.drop('Newspaper',axis = 1)\n",
    "drop_list.append('Newspaper')"
   ]
  },
  {
   "cell_type": "code",
   "execution_count": 3538,
   "metadata": {},
   "outputs": [],
   "source": [
    "#X Education Forums\n",
    "100*(lead_train['X Education Forums'].value_counts()/len(lead_train))\n",
    "# Almost everyone says no.. better to drop this columns\n",
    "lead_train = lead_train.drop('X Education Forums',axis = 1)\n",
    "drop_list.append('X Education Forums')"
   ]
  },
  {
   "cell_type": "code",
   "execution_count": 3539,
   "metadata": {},
   "outputs": [],
   "source": [
    "#Magazine\n",
    "100*(lead_train['Magazine'].value_counts()/len(lead_train))\n",
    "# Almost everyone says no.. better to drop this columns\n",
    "lead_train = lead_train.drop('Magazine',axis = 1)\n",
    "drop_list.append('Magazine')"
   ]
  },
  {
   "cell_type": "code",
   "execution_count": 3540,
   "metadata": {},
   "outputs": [
    {
     "data": {
      "text/plain": [
       "Google            31.277056\n",
       "Direct Traffic    27.782931\n",
       "Olark Chat        19.341373\n",
       "Organic Search    12.198516\n",
       "Reference          5.643166\n",
       "Websites           2.520099\n",
       "Other              1.236858\n",
       "Name: Lead Source, dtype: float64"
      ]
     },
     "execution_count": 3540,
     "metadata": {},
     "output_type": "execute_result"
    }
   ],
   "source": [
    "#Lead Source\n",
    "100*(lead_train['Lead Source'].value_counts()/len(lead_train))"
   ]
  },
  {
   "cell_type": "code",
   "execution_count": 3541,
   "metadata": {},
   "outputs": [],
   "source": [
    "#Search\n",
    "100*(lead_train['Search'].value_counts()/len(lead_train))\n",
    "# Almost everyone says no.. better to drop this columns\n",
    "lead_train = lead_train.drop('Search',axis = 1)\n",
    "drop_list.append('Search')"
   ]
  },
  {
   "cell_type": "code",
   "execution_count": 3542,
   "metadata": {},
   "outputs": [
    {
     "data": {
      "text/plain": [
       "Unemployed              60.946197\n",
       "Other                   29.359926\n",
       "Working Professional     7.544836\n",
       "Student                  2.149041\n",
       "Name: What is your current occupation, dtype: float64"
      ]
     },
     "execution_count": 3542,
     "metadata": {},
     "output_type": "execute_result"
    }
   ],
   "source": [
    "#What is your current occupation\n",
    "100*(lead_train['What is your current occupation'].value_counts()/len(lead_train))"
   ]
  },
  {
   "cell_type": "code",
   "execution_count": 3543,
   "metadata": {},
   "outputs": [
    {
     "data": {
      "text/plain": [
       "Management                           46.165739\n",
       "Other                                36.162647\n",
       "Business                              7.653061\n",
       "Banking, Investment And Insurance     3.896104\n",
       "Travel and Tourism                    2.272727\n",
       "Media and Advertising                 2.241806\n",
       "E-COMMERCE                            1.159555\n",
       "Services Excellence                   0.448361\n",
       "Name: Specialization, dtype: float64"
      ]
     },
     "execution_count": 3543,
     "metadata": {},
     "output_type": "execute_result"
    }
   ],
   "source": [
    "#Specialization\n",
    "100*(lead_train['Specialization'].value_counts()/len(lead_train))"
   ]
  },
  {
   "cell_type": "code",
   "execution_count": 3544,
   "metadata": {},
   "outputs": [
    {
     "data": {
      "text/plain": [
       "India      70.330860\n",
       "Unknown    26.546073\n",
       "Others      3.123067\n",
       "Name: Country, dtype: float64"
      ]
     },
     "execution_count": 3544,
     "metadata": {},
     "output_type": "execute_result"
    }
   ],
   "source": [
    "#Country\n",
    "100*(lead_train['Country'].value_counts()/len(lead_train))"
   ]
  },
  {
   "cell_type": "code",
   "execution_count": 3545,
   "metadata": {},
   "outputs": [
    {
     "data": {
      "text/plain": [
       "High_Intent      46.583179\n",
       "Low_Intent       42.547928\n",
       "Middle_Intent    10.868893\n",
       "Name: Last Activity, dtype: float64"
      ]
     },
     "execution_count": 3545,
     "metadata": {},
     "output_type": "execute_result"
    }
   ],
   "source": [
    "#Last Activity\n",
    "100*(lead_train['Last Activity'].value_counts()/len(lead_train))"
   ]
  },
  {
   "cell_type": "code",
   "execution_count": 3546,
   "metadata": {},
   "outputs": [
    {
     "name": "stdout",
     "output_type": "stream",
     "text": [
      "No     99.984539\n",
      "Yes     0.015461\n",
      "Name: Do Not Call, dtype: float64\n"
     ]
    }
   ],
   "source": [
    "#Do Not Call\n",
    "print(100*(lead_train['Do Not Call'].value_counts()/len(lead_train)))\n",
    "# Drop this column because most of the enteries are no\n",
    "lead_train = lead_train.drop('Do Not Call',axis = 1)\n",
    "drop_list.append('Do Not Call')"
   ]
  },
  {
   "cell_type": "code",
   "execution_count": 3547,
   "metadata": {},
   "outputs": [
    {
     "name": "stdout",
     "output_type": "stream",
     "text": [
      "No     92.16141\n",
      "Yes     7.83859\n",
      "Name: Do Not Email, dtype: float64\n"
     ]
    }
   ],
   "source": [
    "#Do Not Email\n",
    "print(100*(lead_train['Do Not Email'].value_counts()/len(lead_train)))\n",
    "#Seems like an important column"
   ]
  },
  {
   "cell_type": "code",
   "execution_count": 3548,
   "metadata": {},
   "outputs": [
    {
     "data": {
      "image/png": "[encoded data removed]",
      "text/plain": [
       "<Figure size 432x288 with 2 Axes>"
      ]
     },
     "metadata": {
      "needs_background": "light"
     },
     "output_type": "display_data"
    },
    {
     "name": "stdout",
     "output_type": "stream",
     "text": [
      "0    0.0\n",
      "dtype: float64\n"
     ]
    }
   ],
   "source": [
    "# Numerical Columns\n",
    "#\"Page Views Per Visit\"\n",
    "\n",
    "fig,a =  plt.subplots(1,2)\n",
    "a[0].boxplot(lead_train[\"Page Views Per Visit\"])\n",
    "a[0].set_title('Before Outlier Removal')\n",
    "\n",
    "# Drop the data points greater than 20\n",
    "lead_train = lead_train[lead_train[\"Page Views Per Visit\"]<=20]\n",
    "\n",
    "\n",
    "# Lets Cap the remaining data points at Wiskers\n",
    "cap_limit = outlier_boundary(lead_train[\"Page Views Per Visit\"])\n",
    "lead_train[\"Page Views Per Visit\"] = lead_train[\"Page Views Per Visit\"].apply(lambda x: cap_limit if x>cap_limit else x)\n",
    "\n",
    "a[1].boxplot(lead_train[\"Page Views Per Visit\"])\n",
    "a[1].set_title('After Data Caping')\n",
    "plt.show()\n",
    "print(lead_train[\"Page Views Per Visit\"].mode())"
   ]
  },
  {
   "cell_type": "code",
   "execution_count": 3549,
   "metadata": {},
   "outputs": [
    {
     "data": {
      "image/png": "[encoded data removed]",
      "text/plain": [
       "<Figure size 432x288 with 2 Axes>"
      ]
     },
     "metadata": {
      "needs_background": "light"
     },
     "output_type": "display_data"
    }
   ],
   "source": [
    "#Total Time Spent on Website\n",
    "fig,a =  plt.subplots(1,2)\n",
    "a[0].boxplot(lead_train[\"Total Time Spent on Website\"])\n",
    "a[0].set_title('Before Outlier Removal')\n",
    "\n",
    "\n",
    "# Lets Cap the remaining data points at Wiskers\n",
    "cap_limit = outlier_boundary(lead_train[\"Total Time Spent on Website\"])\n",
    "lead_train[\"Total Time Spent on Website\"] = lead_train[\"Total Time Spent on Website\"].apply(lambda x: cap_limit if x>cap_limit else x)\n",
    "\n",
    "a[1].boxplot(lead_train[\"Total Time Spent on Website\"])\n",
    "a[1].set_title('Total Time Spent on Website')\n",
    "plt.show()"
   ]
  },
  {
   "cell_type": "code",
   "execution_count": 3550,
   "metadata": {},
   "outputs": [
    {
     "data": {
      "image/png": "[encoded data removed]",
      "text/plain": [
       "<Figure size 432x288 with 2 Axes>"
      ]
     },
     "metadata": {
      "needs_background": "light"
     },
     "output_type": "display_data"
    }
   ],
   "source": [
    "#TotalVisits\n",
    "fig,a =  plt.subplots(1,2)\n",
    "a[0].boxplot(lead_train[\"TotalVisits\"])\n",
    "a[0].set_title('TotalVisits Before Oulier Removal')\n",
    "\n",
    "# Remove data points above 100\n",
    "lead_train = lead_train[lead_train[\"TotalVisits\"]<=100]\n",
    "\n",
    "# Lets Cap the remaining data points at Wiskers\n",
    "cap_limit = outlier_boundary(lead_train[\"TotalVisits\"])\n",
    "lead_train[\"TotalVisits\"] = lead_train[\"TotalVisits\"].apply(lambda x: cap_limit if x>cap_limit else x)\n",
    "\n",
    "a[1].boxplot(lead_train[\"TotalVisits\"])\n",
    "a[1].set_title('TotalVisits After Caping')\n",
    "plt.show()"
   ]
  },
  {
   "cell_type": "code",
   "execution_count": 3551,
   "metadata": {},
   "outputs": [
    {
     "data": {
      "text/plain": [
       "(6464, 13)"
      ]
     },
     "execution_count": 3551,
     "metadata": {},
     "output_type": "execute_result"
    }
   ],
   "source": [
    "# Inspecting shape of df\n",
    "lead_train.shape"
   ]
  },
  {
   "cell_type": "code",
   "execution_count": 3552,
   "metadata": {},
   "outputs": [
    {
     "data": {
      "text/plain": [
       "<seaborn.axisgrid.PairGrid at 0x2325ccb8948>"
      ]
     },
     "execution_count": 3552,
     "metadata": {},
     "output_type": "execute_result"
    },
    {
     "data": {
      "image/png": "[encoded data removed]",
      "text/plain": [
       "<Figure size 540x540 with 12 Axes>"
      ]
     },
     "metadata": {
      "needs_background": "light"
     },
     "output_type": "display_data"
    }
   ],
   "source": [
    "# Bivariate Analysis\n",
    "#Numerical Columns\n",
    "num_col = ['Page Views Per Visit','TotalVisits','Total Time Spent on Website']\n",
    "num_df = lead_train[num_col]\n",
    "sns.pairplot(num_df)"
   ]
  },
  {
   "cell_type": "code",
   "execution_count": 3553,
   "metadata": {},
   "outputs": [
    {
     "data": {
      "text/html": [
       "<div>\n",
       "<style scoped>\n",
       "    .dataframe tbody tr th:only-of-type {\n",
       "        vertical-align: middle;\n",
       "    }\n",
       "\n",
       "    .dataframe tbody tr th {\n",
       "        vertical-align: top;\n",
       "    }\n",
       "\n",
       "    .dataframe thead th {\n",
       "        text-align: right;\n",
       "    }\n",
       "</style>\n",
       "<table border=\"1\" class=\"dataframe\">\n",
       "  <thead>\n",
       "    <tr style=\"text-align: right;\">\n",
       "      <th></th>\n",
       "      <th>Page Views Per Visit</th>\n",
       "      <th>TotalVisits</th>\n",
       "      <th>Total Time Spent on Website</th>\n",
       "    </tr>\n",
       "  </thead>\n",
       "  <tbody>\n",
       "    <tr>\n",
       "      <td>Page Views Per Visit</td>\n",
       "      <td>1.000000</td>\n",
       "      <td>0.778027</td>\n",
       "      <td>0.361600</td>\n",
       "    </tr>\n",
       "    <tr>\n",
       "      <td>TotalVisits</td>\n",
       "      <td>0.778027</td>\n",
       "      <td>1.000000</td>\n",
       "      <td>0.350066</td>\n",
       "    </tr>\n",
       "    <tr>\n",
       "      <td>Total Time Spent on Website</td>\n",
       "      <td>0.361600</td>\n",
       "      <td>0.350066</td>\n",
       "      <td>1.000000</td>\n",
       "    </tr>\n",
       "  </tbody>\n",
       "</table>\n",
       "</div>"
      ],
      "text/plain": [
       "                             Page Views Per Visit  TotalVisits  \\\n",
       "Page Views Per Visit                     1.000000     0.778027   \n",
       "TotalVisits                              0.778027     1.000000   \n",
       "Total Time Spent on Website              0.361600     0.350066   \n",
       "\n",
       "                             Total Time Spent on Website  \n",
       "Page Views Per Visit                            0.361600  \n",
       "TotalVisits                                     0.350066  \n",
       "Total Time Spent on Website                     1.000000  "
      ]
     },
     "execution_count": 3553,
     "metadata": {},
     "output_type": "execute_result"
    },
    {
     "data": {
      "image/png": "[encoded data removed]",
      "text/plain": [
       "<Figure size 432x288 with 2 Axes>"
      ]
     },
     "metadata": {
      "needs_background": "light"
     },
     "output_type": "display_data"
    }
   ],
   "source": [
    "sns.heatmap(num_df.corr(),annot = True)\n",
    "num_df.corr()\n",
    "# Page Views per visit and total visits are highly correlated.. Might cause Multi Colinearity issues.. Will resolve during VIQ Calculations"
   ]
  },
  {
   "cell_type": "code",
   "execution_count": 3554,
   "metadata": {},
   "outputs": [
    {
     "data": {
      "text/plain": [
       "'\\n<0.02              useless for prediction\\n0.02 to 0.1        week predictor\\n0.1 to 0.3         medium predictor \\n0.3 - 0.5          strong predictor\\n>0.5               suspisious or too good to be true\\n'"
      ]
     },
     "execution_count": 3554,
     "metadata": {},
     "output_type": "execute_result"
    }
   ],
   "source": [
    "# Weight of Evidence\n",
    "\n",
    "def woe_cal(df,feature,target):\n",
    "    df_woe_iv = (pd.crosstab(df[feature],df[target],\n",
    "                      normalize='columns')\n",
    "             .assign(woe=lambda dfx: np.log(dfx[1] / dfx[0]))\n",
    "             .assign(iv=lambda dfx: dfx['woe']*\n",
    "                                           (dfx[1]-dfx[0])))\n",
    "    return df_woe_iv\n",
    "\n",
    "\n",
    "'''\n",
    "<0.02              useless for prediction\n",
    "0.02 to 0.1        week predictor\n",
    "0.1 to 0.3         medium predictor \n",
    "0.3 - 0.5          strong predictor\n",
    ">0.5               suspisious or too good to be true\n",
    "'''"
   ]
  },
  {
   "cell_type": "code",
   "execution_count": 3555,
   "metadata": {},
   "outputs": [
    {
     "name": "stdout",
     "output_type": "stream",
     "text": [
      "Converted                        0         1       woe        iv\n",
      "Lead Origin                                                     \n",
      "API                       0.437720  0.316277 -0.324960  0.039464\n",
      "Landing Page Submission   0.545706  0.504029 -0.079446  0.003311\n",
      "Lead Import and Add Form  0.016575  0.179694  2.383384  0.388776\n"
     ]
    },
    {
     "data": {
      "text/plain": [
       "0.4315506582243546"
      ]
     },
     "execution_count": 3555,
     "metadata": {},
     "output_type": "execute_result"
    }
   ],
   "source": [
    "# Lead Origin\n",
    "res_df = woe_cal(lead_train,'Lead Origin','Converted')\n",
    "print(res_df)\n",
    "res_df[np.isfinite(res_df['iv'])]['iv'].sum()"
   ]
  },
  {
   "cell_type": "code",
   "execution_count": 3556,
   "metadata": {},
   "outputs": [
    {
     "name": "stdout",
     "output_type": "stream",
     "text": [
      "Converted              0         1       woe        iv\n",
      "Lead Source                                           \n",
      "Direct Traffic  0.304370  0.234488 -0.260837  0.018228\n",
      "Google          0.302863  0.329170  0.083294  0.002191\n",
      "Olark Chat      0.235560  0.126108 -0.624827  0.068389\n",
      "Organic Search  0.122300  0.121273 -0.008434  0.000009\n",
      "Other           0.011050  0.014504  0.272049  0.000940\n",
      "Reference       0.007534  0.134972  2.885653  0.367742\n",
      "Websites        0.016323  0.039484  0.883300  0.020458\n"
     ]
    },
    {
     "data": {
      "text/plain": [
       "0.4779554749129435"
      ]
     },
     "execution_count": 3556,
     "metadata": {},
     "output_type": "execute_result"
    }
   ],
   "source": [
    "# Lead Source\n",
    "res_df = woe_cal(lead_train,'Lead Source','Converted')\n",
    "print(res_df)\n",
    "res_df[np.isfinite(res_df['iv'])]['iv'].sum()"
   ]
  },
  {
   "cell_type": "code",
   "execution_count": 3557,
   "metadata": {},
   "outputs": [
    {
     "name": "stdout",
     "output_type": "stream",
     "text": [
      "Converted             0         1       woe        iv\n",
      "Last Activity                                        \n",
      "High_Intent    0.418634  0.542305  0.258831  0.032010\n",
      "Low_Intent     0.460070  0.370669 -0.216070  0.019317\n",
      "Middle_Intent  0.121296  0.087027 -0.332019  0.011378\n"
     ]
    },
    {
     "data": {
      "text/plain": [
       "0.06270488312857614"
      ]
     },
     "execution_count": 3557,
     "metadata": {},
     "output_type": "execute_result"
    }
   ],
   "source": [
    "# Last Activity\n",
    "res_df = woe_cal(lead_train,'Last Activity','Converted')\n",
    "print(res_df)\n",
    "res_df[np.isfinite(res_df['iv'])]['iv'].sum()"
   ]
  },
  {
   "cell_type": "code",
   "execution_count": 3558,
   "metadata": {},
   "outputs": [
    {
     "name": "stdout",
     "output_type": "stream",
     "text": [
      "Converted         0         1       woe        iv\n",
      "Country                                          \n",
      "India      0.716223  0.682514 -0.048208  0.001625\n",
      "Others     0.035660  0.023771 -0.405570  0.004822\n",
      "Unknown    0.248117  0.293715  0.168711  0.007693\n"
     ]
    },
    {
     "data": {
      "text/plain": [
       "0.014139905601356301"
      ]
     },
     "execution_count": 3558,
     "metadata": {},
     "output_type": "execute_result"
    }
   ],
   "source": [
    "# Country\n",
    "res_df = woe_cal(lead_train,'Country','Converted')\n",
    "print(res_df)\n",
    "res_df[np.isfinite(res_df['iv'])]['iv'].sum()"
   ]
  },
  {
   "cell_type": "code",
   "execution_count": 3559,
   "metadata": {},
   "outputs": [
    {
     "name": "stdout",
     "output_type": "stream",
     "text": [
      "Converted                                 0         1       woe        iv\n",
      "Specialization                                                           \n",
      "Banking, Investment And Insurance  0.031391  0.051168  0.488593  0.009663\n",
      "Business                           0.073581  0.081386  0.100815  0.000787\n",
      "E-COMMERCE                         0.011552  0.011684  0.011374  0.000002\n",
      "Management                         0.409091  0.545528  0.287816  0.039269\n",
      "Media and Advertising              0.021597  0.023771  0.095910  0.000209\n",
      "Other                              0.424159  0.261483 -0.483740  0.078693\n",
      "Services Excellence                0.005274  0.003223 -0.492361  0.001010\n",
      "Travel and Tourism                 0.023355  0.021757 -0.070896  0.000113\n"
     ]
    },
    {
     "data": {
      "text/plain": [
       "0.12974437475916265"
      ]
     },
     "execution_count": 3559,
     "metadata": {},
     "output_type": "execute_result"
    }
   ],
   "source": [
    "#Specialization\n",
    "res_df = woe_cal(lead_train,'Specialization','Converted')\n",
    "print(res_df)\n",
    "res_df[np.isfinite(res_df['iv'])]['iv'].sum()"
   ]
  },
  {
   "cell_type": "code",
   "execution_count": 3560,
   "metadata": {},
   "outputs": [
    {
     "name": "stdout",
     "output_type": "stream",
     "text": [
      "Converted                               0         1       woe        iv\n",
      "What is your current occupation                                        \n",
      "Other                            0.406077  0.112812 -1.280819  0.375619\n",
      "Student                          0.021346  0.021757  0.019052  0.000008\n",
      "Unemployed                       0.561527  0.686543  0.201009  0.025129\n",
      "Working Professional             0.011050  0.178888  2.784354  0.467321\n"
     ]
    },
    {
     "data": {
      "text/plain": [
       "0.8680779289252656"
      ]
     },
     "execution_count": 3560,
     "metadata": {},
     "output_type": "execute_result"
    }
   ],
   "source": [
    "#What is your current occupation\n",
    "res_df = woe_cal(lead_train,'What is your current occupation','Converted')\n",
    "print(res_df)\n",
    "res_df[np.isfinite(res_df['iv'])]['iv'].sum()"
   ]
  },
  {
   "cell_type": "code",
   "execution_count": 3561,
   "metadata": {},
   "outputs": [
    {
     "name": "stdout",
     "output_type": "stream",
     "text": [
      "Converted                     0         1       woe        iv\n",
      "Last Notable Activity                                        \n",
      "Email Opened           0.321195  0.291297 -0.097705  0.002921\n",
      "Modified               0.458312  0.221595 -0.726697  0.172022\n",
      "Other                  0.106228  0.066882 -0.462665  0.018204\n",
      "SMS Sent               0.114264  0.420226  1.302279  0.398447\n"
     ]
    },
    {
     "data": {
      "text/plain": [
       "0.5915940249663961"
      ]
     },
     "execution_count": 3561,
     "metadata": {},
     "output_type": "execute_result"
    }
   ],
   "source": [
    "#Last Notable Activity\n",
    "res_df = woe_cal(lead_train,'Last Notable Activity','Converted')\n",
    "print(res_df)\n",
    "res_df[np.isfinite(res_df['iv'])]['iv'].sum()"
   ]
  },
  {
   "cell_type": "code",
   "execution_count": 3562,
   "metadata": {},
   "outputs": [],
   "source": [
    "# WOE and IV Results\n",
    "# Removing columns with IV < 0.02 or IV > 0.5 except for last notable activity\n",
    "lead_train = lead_train.drop(['Country','What is your current occupation'],axis = 1)\n",
    "drop_list.extend(['Country','What is your current occupation'])"
   ]
  },
  {
   "cell_type": "code",
   "execution_count": 3563,
   "metadata": {},
   "outputs": [
    {
     "name": "stdout",
     "output_type": "stream",
     "text": [
      "(6464, 11)\n",
      "Index(['Lead Origin', 'Lead Source', 'Do Not Email', 'TotalVisits',\n",
      "       'Total Time Spent on Website', 'Page Views Per Visit', 'Last Activity',\n",
      "       'Specialization', 'A free copy of Mastering The Interview',\n",
      "       'Last Notable Activity', 'Converted'],\n",
      "      dtype='object')\n"
     ]
    }
   ],
   "source": [
    "# Inspect Shape\n",
    "print(lead_train.shape)\n",
    "print(lead_train.columns)"
   ]
  },
  {
   "cell_type": "code",
   "execution_count": 3564,
   "metadata": {},
   "outputs": [
    {
     "data": {
      "text/html": [
       "<div>\n",
       "<style scoped>\n",
       "    .dataframe tbody tr th:only-of-type {\n",
       "        vertical-align: middle;\n",
       "    }\n",
       "\n",
       "    .dataframe tbody tr th {\n",
       "        vertical-align: top;\n",
       "    }\n",
       "\n",
       "    .dataframe thead th {\n",
       "        text-align: right;\n",
       "    }\n",
       "</style>\n",
       "<table border=\"1\" class=\"dataframe\">\n",
       "  <thead>\n",
       "    <tr style=\"text-align: right;\">\n",
       "      <th></th>\n",
       "      <th>Lead Origin</th>\n",
       "      <th>Lead Source</th>\n",
       "      <th>Do Not Email</th>\n",
       "      <th>TotalVisits</th>\n",
       "      <th>Total Time Spent on Website</th>\n",
       "      <th>Page Views Per Visit</th>\n",
       "      <th>Last Activity</th>\n",
       "      <th>Specialization</th>\n",
       "      <th>A free copy of Mastering The Interview</th>\n",
       "      <th>Last Notable Activity</th>\n",
       "      <th>Converted</th>\n",
       "    </tr>\n",
       "  </thead>\n",
       "  <tbody>\n",
       "    <tr>\n",
       "      <td>4715</td>\n",
       "      <td>API</td>\n",
       "      <td>Olark Chat</td>\n",
       "      <td>1</td>\n",
       "      <td>0.0</td>\n",
       "      <td>0.0</td>\n",
       "      <td>0.00</td>\n",
       "      <td>Low_Intent</td>\n",
       "      <td>Other</td>\n",
       "      <td>0</td>\n",
       "      <td>Email Opened</td>\n",
       "      <td>0</td>\n",
       "    </tr>\n",
       "    <tr>\n",
       "      <td>7132</td>\n",
       "      <td>API</td>\n",
       "      <td>Organic Search</td>\n",
       "      <td>1</td>\n",
       "      <td>2.0</td>\n",
       "      <td>1248.0</td>\n",
       "      <td>1.00</td>\n",
       "      <td>Low_Intent</td>\n",
       "      <td>Other</td>\n",
       "      <td>0</td>\n",
       "      <td>Email Opened</td>\n",
       "      <td>1</td>\n",
       "    </tr>\n",
       "    <tr>\n",
       "      <td>8954</td>\n",
       "      <td>Landing Page Submission</td>\n",
       "      <td>Direct Traffic</td>\n",
       "      <td>1</td>\n",
       "      <td>4.0</td>\n",
       "      <td>387.0</td>\n",
       "      <td>1.33</td>\n",
       "      <td>High_Intent</td>\n",
       "      <td>Business</td>\n",
       "      <td>1</td>\n",
       "      <td>SMS Sent</td>\n",
       "      <td>0</td>\n",
       "    </tr>\n",
       "    <tr>\n",
       "      <td>5283</td>\n",
       "      <td>Landing Page Submission</td>\n",
       "      <td>Direct Traffic</td>\n",
       "      <td>0</td>\n",
       "      <td>9.0</td>\n",
       "      <td>1209.0</td>\n",
       "      <td>5.00</td>\n",
       "      <td>Middle_Intent</td>\n",
       "      <td>Other</td>\n",
       "      <td>0</td>\n",
       "      <td>Other</td>\n",
       "      <td>0</td>\n",
       "    </tr>\n",
       "    <tr>\n",
       "      <td>3003</td>\n",
       "      <td>Landing Page Submission</td>\n",
       "      <td>Direct Traffic</td>\n",
       "      <td>1</td>\n",
       "      <td>3.0</td>\n",
       "      <td>1354.0</td>\n",
       "      <td>3.00</td>\n",
       "      <td>High_Intent</td>\n",
       "      <td>Management</td>\n",
       "      <td>1</td>\n",
       "      <td>Modified</td>\n",
       "      <td>0</td>\n",
       "    </tr>\n",
       "  </tbody>\n",
       "</table>\n",
       "</div>"
      ],
      "text/plain": [
       "                  Lead Origin     Lead Source  Do Not Email  TotalVisits  \\\n",
       "4715                      API      Olark Chat             1          0.0   \n",
       "7132                      API  Organic Search             1          2.0   \n",
       "8954  Landing Page Submission  Direct Traffic             1          4.0   \n",
       "5283  Landing Page Submission  Direct Traffic             0          9.0   \n",
       "3003  Landing Page Submission  Direct Traffic             1          3.0   \n",
       "\n",
       "      Total Time Spent on Website  Page Views Per Visit  Last Activity  \\\n",
       "4715                          0.0                  0.00     Low_Intent   \n",
       "7132                       1248.0                  1.00     Low_Intent   \n",
       "8954                        387.0                  1.33    High_Intent   \n",
       "5283                       1209.0                  5.00  Middle_Intent   \n",
       "3003                       1354.0                  3.00    High_Intent   \n",
       "\n",
       "     Specialization  A free copy of Mastering The Interview  \\\n",
       "4715          Other                                       0   \n",
       "7132          Other                                       0   \n",
       "8954       Business                                       1   \n",
       "5283          Other                                       0   \n",
       "3003     Management                                       1   \n",
       "\n",
       "     Last Notable Activity  Converted  \n",
       "4715          Email Opened          0  \n",
       "7132          Email Opened          1  \n",
       "8954              SMS Sent          0  \n",
       "5283                 Other          0  \n",
       "3003              Modified          0  "
      ]
     },
     "execution_count": 3564,
     "metadata": {},
     "output_type": "execute_result"
    }
   ],
   "source": [
    "# Variable Transformation and Scaling\n",
    "# Creating 0 and 1 values for yes and no variables(In case of Do Not Email, It will be reverse)\n",
    "# In case of Yes to \"Do to Email\", he is a bad lead, hence marked as 0\n",
    "binary_list = ['A free copy of Mastering The Interview']\n",
    "binary_list_not_email = ['Do Not Email']\n",
    "def binary_map(x):\n",
    "    return x.map({'Yes': 1, \"No\": 0})\n",
    "\n",
    "def binary_map_not_email(x):\n",
    "    return x.map({'Yes': 0, \"No\": 1})\n",
    "lead_train[binary_list] = leads_data[binary_list].apply(binary_map)\n",
    "lead_train[binary_list_not_email] = leads_data[binary_list_not_email].apply(binary_map_not_email)\n",
    "\n",
    "lead_train.head()"
   ]
  },
  {
   "cell_type": "code",
   "execution_count": 3565,
   "metadata": {},
   "outputs": [],
   "source": [
    "# Converting into dummy variables for categorical varibales with more than 2 unique values\n",
    "dummy_list = ['Lead Origin','Lead Source','Last Activity','Specialization','Last Notable Activity']\n",
    "\n",
    "dummy_var = pd.get_dummies(lead_train[dummy_list], drop_first = True)\n",
    "\n",
    "# Adding to dataframe\n",
    "lead_train = pd.concat([lead_train, dummy_var], axis=1)\n",
    "lead_train.drop(dummy_list, axis = 1, inplace =  True)\n"
   ]
  },
  {
   "cell_type": "code",
   "execution_count": 3566,
   "metadata": {},
   "outputs": [
    {
     "name": "stdout",
     "output_type": "stream",
     "text": [
      "(6464, 26)\n"
     ]
    }
   ],
   "source": [
    "# Inspect the final dataframe\n",
    "print(lead_train.shape)"
   ]
  },
  {
   "cell_type": "code",
   "execution_count": 3567,
   "metadata": {},
   "outputs": [
    {
     "name": "stdout",
     "output_type": "stream",
     "text": [
      "Index(['Page Views Per Visit', 'TotalVisits', 'Total Time Spent on Website'], dtype='object')\n"
     ]
    },
    {
     "data": {
      "text/html": [
       "<div>\n",
       "<style scoped>\n",
       "    .dataframe tbody tr th:only-of-type {\n",
       "        vertical-align: middle;\n",
       "    }\n",
       "\n",
       "    .dataframe tbody tr th {\n",
       "        vertical-align: top;\n",
       "    }\n",
       "\n",
       "    .dataframe thead th {\n",
       "        text-align: right;\n",
       "    }\n",
       "</style>\n",
       "<table border=\"1\" class=\"dataframe\">\n",
       "  <thead>\n",
       "    <tr style=\"text-align: right;\">\n",
       "      <th></th>\n",
       "      <th>Page Views Per Visit</th>\n",
       "      <th>TotalVisits</th>\n",
       "      <th>Total Time Spent on Website</th>\n",
       "    </tr>\n",
       "  </thead>\n",
       "  <tbody>\n",
       "    <tr>\n",
       "      <td>4715</td>\n",
       "      <td>0.000</td>\n",
       "      <td>0.000000</td>\n",
       "      <td>0.000000</td>\n",
       "    </tr>\n",
       "    <tr>\n",
       "      <td>7132</td>\n",
       "      <td>0.200</td>\n",
       "      <td>0.222222</td>\n",
       "      <td>0.767764</td>\n",
       "    </tr>\n",
       "    <tr>\n",
       "      <td>8954</td>\n",
       "      <td>0.266</td>\n",
       "      <td>0.444444</td>\n",
       "      <td>0.238081</td>\n",
       "    </tr>\n",
       "    <tr>\n",
       "      <td>5283</td>\n",
       "      <td>1.000</td>\n",
       "      <td>1.000000</td>\n",
       "      <td>0.743771</td>\n",
       "    </tr>\n",
       "    <tr>\n",
       "      <td>3003</td>\n",
       "      <td>0.600</td>\n",
       "      <td>0.333333</td>\n",
       "      <td>0.832974</td>\n",
       "    </tr>\n",
       "  </tbody>\n",
       "</table>\n",
       "</div>"
      ],
      "text/plain": [
       "      Page Views Per Visit  TotalVisits  Total Time Spent on Website\n",
       "4715                 0.000     0.000000                     0.000000\n",
       "7132                 0.200     0.222222                     0.767764\n",
       "8954                 0.266     0.444444                     0.238081\n",
       "5283                 1.000     1.000000                     0.743771\n",
       "3003                 0.600     0.333333                     0.832974"
      ]
     },
     "execution_count": 3567,
     "metadata": {},
     "output_type": "execute_result"
    }
   ],
   "source": [
    "# Standardise Numerical Variables\n",
    "print(num_df.columns)\n",
    "scaler = MinMaxScaler()\n",
    "lead_train[num_df.columns] = scaler.fit_transform(lead_train[num_df.columns])\n",
    "lead_train[num_df.columns].head()"
   ]
  },
  {
   "cell_type": "code",
   "execution_count": 3568,
   "metadata": {},
   "outputs": [],
   "source": [
    "# Feature Selection Using RFE(Top 15)\n",
    "Y_Train = lead_train[['Converted']]\n",
    "X_Train = lead_train.drop('Converted',axis = 1)\n",
    "\n",
    "logreg = LogisticRegression()\n",
    "rfe = RFE(logreg, 20)\n",
    "rfe = rfe.fit(X_Train, Y_Train)"
   ]
  },
  {
   "cell_type": "code",
   "execution_count": 3569,
   "metadata": {},
   "outputs": [
    {
     "data": {
      "text/plain": [
       "[('Do Not Email', True, 1),\n",
       " ('TotalVisits', True, 1),\n",
       " ('Total Time Spent on Website', True, 1),\n",
       " ('Page Views Per Visit', True, 1),\n",
       " ('A free copy of Mastering The Interview', True, 1),\n",
       " ('Lead Origin_Landing Page Submission', True, 1),\n",
       " ('Lead Origin_Lead Import and Add Form', True, 1),\n",
       " ('Lead Source_Google', True, 1),\n",
       " ('Lead Source_Olark Chat', True, 1),\n",
       " ('Lead Source_Organic Search', True, 1),\n",
       " ('Lead Source_Other', True, 1),\n",
       " ('Lead Source_Reference', False, 6),\n",
       " ('Lead Source_Websites', True, 1),\n",
       " ('Last Activity_Low_Intent', True, 1),\n",
       " ('Last Activity_Middle_Intent', False, 4),\n",
       " ('Specialization_Business', True, 1),\n",
       " ('Specialization_E-COMMERCE', False, 5),\n",
       " ('Specialization_Management', False, 2),\n",
       " ('Specialization_Media and Advertising', True, 1),\n",
       " ('Specialization_Other', True, 1),\n",
       " ('Specialization_Services Excellence', True, 1),\n",
       " ('Specialization_Travel and Tourism', False, 3),\n",
       " ('Last Notable Activity_Modified', True, 1),\n",
       " ('Last Notable Activity_Other', True, 1),\n",
       " ('Last Notable Activity_SMS Sent', True, 1)]"
      ]
     },
     "execution_count": 3569,
     "metadata": {},
     "output_type": "execute_result"
    }
   ],
   "source": [
    "# Print RFE Results\n",
    "list(zip(X_Train.columns, rfe.support_, rfe.ranking_))"
   ]
  },
  {
   "cell_type": "code",
   "execution_count": 3570,
   "metadata": {},
   "outputs": [
    {
     "data": {
      "text/plain": [
       "Index(['Do Not Email', 'TotalVisits', 'Total Time Spent on Website',\n",
       "       'Page Views Per Visit', 'A free copy of Mastering The Interview',\n",
       "       'Lead Origin_Landing Page Submission',\n",
       "       'Lead Origin_Lead Import and Add Form', 'Lead Source_Google',\n",
       "       'Lead Source_Olark Chat', 'Lead Source_Organic Search',\n",
       "       'Lead Source_Other', 'Lead Source_Websites', 'Last Activity_Low_Intent',\n",
       "       'Specialization_Business', 'Specialization_Media and Advertising',\n",
       "       'Specialization_Other', 'Specialization_Services Excellence',\n",
       "       'Last Notable Activity_Modified', 'Last Notable Activity_Other',\n",
       "       'Last Notable Activity_SMS Sent'],\n",
       "      dtype='object')"
      ]
     },
     "execution_count": 3570,
     "metadata": {},
     "output_type": "execute_result"
    }
   ],
   "source": [
    "# Print the top features selected by RFE\n",
    "col = X_Train.columns[rfe.support_]\n",
    "col"
   ]
  },
  {
   "cell_type": "code",
   "execution_count": 3571,
   "metadata": {},
   "outputs": [
    {
     "name": "stdout",
     "output_type": "stream",
     "text": [
      "                 Generalized Linear Model Regression Results                  \n",
      "==============================================================================\n",
      "Dep. Variable:              Converted   No. Observations:                 6464\n",
      "Model:                            GLM   Df Residuals:                     6443\n",
      "Model Family:                Binomial   Df Model:                           20\n",
      "Link Function:                  logit   Scale:                          1.0000\n",
      "Method:                          IRLS   Log-Likelihood:                -2850.1\n",
      "Date:                Mon, 07 Sep 2020   Deviance:                       5700.1\n",
      "Time:                        13:57:59   Pearson chi2:                 6.55e+03\n",
      "No. Iterations:                     6                                         \n",
      "Covariance Type:            nonrobust                                         \n",
      "==========================================================================================================\n",
      "                                             coef    std err          z      P>|z|      [0.025      0.975]\n",
      "----------------------------------------------------------------------------------------------------------\n",
      "const                                     -2.8083      0.286     -9.812      0.000      -3.369      -2.247\n",
      "Do Not Email                               1.2883      0.160      8.054      0.000       0.975       1.602\n",
      "TotalVisits                                0.9464      0.178      5.306      0.000       0.597       1.296\n",
      "Total Time Spent on Website                3.2363      0.117     27.719      0.000       3.007       3.465\n",
      "Page Views Per Visit                      -1.0766      0.186     -5.775      0.000      -1.442      -0.711\n",
      "A free copy of Mastering The Interview    -0.3272      0.102     -3.199      0.001      -0.528      -0.127\n",
      "Lead Origin_Landing Page Submission       -0.8422      0.127     -6.647      0.000      -1.091      -0.594\n",
      "Lead Origin_Lead Import and Add Form       3.5938      0.232     15.497      0.000       3.139       4.048\n",
      "Lead Source_Google                         0.2350      0.108      2.178      0.029       0.024       0.446\n",
      "Lead Source_Olark Chat                     0.9006      0.156      5.788      0.000       0.596       1.205\n",
      "Lead Source_Organic Search                 0.2402      0.123      1.951      0.051      -0.001       0.482\n",
      "Lead Source_Other                         -1.7062      0.323     -5.279      0.000      -2.340      -1.073\n",
      "Lead Source_Websites                       0.7689      0.247      3.115      0.002       0.285       1.253\n",
      "Last Activity_Low_Intent                   0.5878      0.126      4.679      0.000       0.342       0.834\n",
      "Specialization_Business                   -0.0797      0.125     -0.638      0.523      -0.324       0.165\n",
      "Specialization_Media and Advertising      -0.1701      0.216     -0.787      0.431      -0.594       0.253\n",
      "Specialization_Other                      -1.4875      0.120    -12.419      0.000      -1.722      -1.253\n",
      "Specialization_Services Excellence        -0.2191      0.506     -0.433      0.665      -1.210       0.772\n",
      "Last Notable Activity_Modified            -0.1469      0.123     -1.198      0.231      -0.387       0.093\n",
      "Last Notable Activity_Other                0.2931      0.169      1.731      0.084      -0.039       0.625\n",
      "Last Notable Activity_SMS Sent             2.1974      0.156     14.062      0.000       1.891       2.504\n",
      "==========================================================================================================\n",
      "                                  Features   VIF\n",
      "3                     Page Views Per Visit  9.70\n",
      "0                             Do Not Email  9.60\n",
      "1                              TotalVisits  6.65\n",
      "5      Lead Origin_Landing Page Submission  6.61\n",
      "15                    Specialization_Other  3.78\n",
      "12                Last Activity_Low_Intent  3.57\n",
      "8                   Lead Source_Olark Chat  3.37\n",
      "19          Last Notable Activity_SMS Sent  3.33\n",
      "7                       Lead Source_Google  3.17\n",
      "17          Last Notable Activity_Modified  3.17\n",
      "4   A free copy of Mastering The Interview  3.00\n",
      "2              Total Time Spent on Website  2.29\n",
      "6     Lead Origin_Lead Import and Add Form  2.14\n",
      "9               Lead Source_Organic Search  1.71\n",
      "18             Last Notable Activity_Other  1.71\n",
      "11                    Lead Source_Websites  1.22\n",
      "10                       Lead Source_Other  1.16\n",
      "13                 Specialization_Business  1.14\n",
      "14    Specialization_Media and Advertising  1.05\n",
      "16      Specialization_Services Excellence  1.01\n"
     ]
    }
   ],
   "source": [
    "# Model 1 \n",
    "X_Train_sm = sm.add_constant(X_Train[col])\n",
    "log_model = sm.GLM(Y_Train,X_Train_sm, family = sm.families.Binomial())\n",
    "res = log_model.fit()\n",
    "print(res.summary())\n",
    "\n",
    "\n",
    "# Calculating VIF\n",
    "from statsmodels.stats.outliers_influence import variance_inflation_factor\n",
    "vif = pd.DataFrame()\n",
    "X = X_Train_sm[col]\n",
    "vif['Features'] = X.columns\n",
    "vif['VIF'] = [variance_inflation_factor(X.values, i) for i in range(X.shape[1])]\n",
    "vif['VIF'] = round(vif['VIF'], 2)\n",
    "vif = vif.sort_values(by = \"VIF\", ascending = False)\n",
    "print(vif)\n",
    "# High VIF Variables\n",
    "#['Page Views Per Visit','TotalVisits','Lead Origin_Landing Page Submission']"
   ]
  },
  {
   "cell_type": "code",
   "execution_count": 3572,
   "metadata": {},
   "outputs": [
    {
     "name": "stdout",
     "output_type": "stream",
     "text": [
      "                 Generalized Linear Model Regression Results                  \n",
      "==============================================================================\n",
      "Dep. Variable:              Converted   No. Observations:                 6464\n",
      "Model:                            GLM   Df Residuals:                     6444\n",
      "Model Family:                Binomial   Df Model:                           19\n",
      "Link Function:                  logit   Scale:                          1.0000\n",
      "Method:                          IRLS   Log-Likelihood:                -2867.0\n",
      "Date:                Mon, 07 Sep 2020   Deviance:                       5733.9\n",
      "Time:                        13:57:59   Pearson chi2:                 6.53e+03\n",
      "No. Iterations:                     6                                         \n",
      "Covariance Type:            nonrobust                                         \n",
      "==========================================================================================================\n",
      "                                             coef    std err          z      P>|z|      [0.025      0.975]\n",
      "----------------------------------------------------------------------------------------------------------\n",
      "const                                     -3.0713      0.282    -10.876      0.000      -3.625      -2.518\n",
      "Do Not Email                               1.2913      0.160      8.095      0.000       0.979       1.604\n",
      "TotalVisits                                0.4148      0.153      2.708      0.007       0.115       0.715\n",
      "Total Time Spent on Website                3.2267      0.117     27.689      0.000       2.998       3.455\n",
      "A free copy of Mastering The Interview    -0.2808      0.102     -2.761      0.006      -0.480      -0.081\n",
      "Lead Origin_Landing Page Submission       -0.9445      0.125     -7.584      0.000      -1.189      -0.700\n",
      "Lead Origin_Lead Import and Add Form       3.8620      0.228     16.973      0.000       3.416       4.308\n",
      "Lead Source_Google                         0.1817      0.107      1.698      0.089      -0.028       0.391\n",
      "Lead Source_Olark Chat                     1.1163      0.151      7.379      0.000       0.820       1.413\n",
      "Lead Source_Organic Search                 0.1229      0.121      1.019      0.308      -0.114       0.359\n",
      "Lead Source_Other                         -1.7267      0.323     -5.341      0.000      -2.360      -1.093\n",
      "Lead Source_Websites                       0.6627      0.244      2.711      0.007       0.184       1.142\n",
      "Last Activity_Low_Intent                   0.5523      0.125      4.412      0.000       0.307       0.798\n",
      "Specialization_Business                   -0.0666      0.124     -0.535      0.593      -0.310       0.177\n",
      "Specialization_Media and Advertising      -0.1733      0.216     -0.804      0.421      -0.596       0.249\n",
      "Specialization_Other                      -1.4208      0.118    -11.995      0.000      -1.653      -1.189\n",
      "Specialization_Services Excellence        -0.2091      0.510     -0.410      0.682      -1.208       0.790\n",
      "Last Notable Activity_Modified            -0.1597      0.122     -1.306      0.192      -0.399       0.080\n",
      "Last Notable Activity_Other                0.3440      0.168      2.047      0.041       0.015       0.673\n",
      "Last Notable Activity_SMS Sent             2.1285      0.155     13.718      0.000       1.824       2.433\n",
      "==========================================================================================================\n"
     ]
    },
    {
     "data": {
      "text/html": [
       "<div>\n",
       "<style scoped>\n",
       "    .dataframe tbody tr th:only-of-type {\n",
       "        vertical-align: middle;\n",
       "    }\n",
       "\n",
       "    .dataframe tbody tr th {\n",
       "        vertical-align: top;\n",
       "    }\n",
       "\n",
       "    .dataframe thead th {\n",
       "        text-align: right;\n",
       "    }\n",
       "</style>\n",
       "<table border=\"1\" class=\"dataframe\">\n",
       "  <thead>\n",
       "    <tr style=\"text-align: right;\">\n",
       "      <th></th>\n",
       "      <th>Features</th>\n",
       "      <th>VIF</th>\n",
       "    </tr>\n",
       "  </thead>\n",
       "  <tbody>\n",
       "    <tr>\n",
       "      <td>0</td>\n",
       "      <td>const</td>\n",
       "      <td>65.93</td>\n",
       "    </tr>\n",
       "    <tr>\n",
       "      <td>19</td>\n",
       "      <td>Last Notable Activity_SMS Sent</td>\n",
       "      <td>3.85</td>\n",
       "    </tr>\n",
       "    <tr>\n",
       "      <td>5</td>\n",
       "      <td>Lead Origin_Landing Page Submission</td>\n",
       "      <td>3.60</td>\n",
       "    </tr>\n",
       "    <tr>\n",
       "      <td>17</td>\n",
       "      <td>Last Notable Activity_Modified</td>\n",
       "      <td>3.25</td>\n",
       "    </tr>\n",
       "    <tr>\n",
       "      <td>12</td>\n",
       "      <td>Last Activity_Low_Intent</td>\n",
       "      <td>3.20</td>\n",
       "    </tr>\n",
       "    <tr>\n",
       "      <td>8</td>\n",
       "      <td>Lead Source_Olark Chat</td>\n",
       "      <td>3.08</td>\n",
       "    </tr>\n",
       "    <tr>\n",
       "      <td>15</td>\n",
       "      <td>Specialization_Other</td>\n",
       "      <td>2.87</td>\n",
       "    </tr>\n",
       "    <tr>\n",
       "      <td>7</td>\n",
       "      <td>Lead Source_Google</td>\n",
       "      <td>2.31</td>\n",
       "    </tr>\n",
       "    <tr>\n",
       "      <td>6</td>\n",
       "      <td>Lead Origin_Lead Import and Add Form</td>\n",
       "      <td>2.28</td>\n",
       "    </tr>\n",
       "    <tr>\n",
       "      <td>4</td>\n",
       "      <td>A free copy of Mastering The Interview</td>\n",
       "      <td>2.13</td>\n",
       "    </tr>\n",
       "    <tr>\n",
       "      <td>18</td>\n",
       "      <td>Last Notable Activity_Other</td>\n",
       "      <td>2.12</td>\n",
       "    </tr>\n",
       "    <tr>\n",
       "      <td>2</td>\n",
       "      <td>TotalVisits</td>\n",
       "      <td>2.01</td>\n",
       "    </tr>\n",
       "    <tr>\n",
       "      <td>9</td>\n",
       "      <td>Lead Source_Organic Search</td>\n",
       "      <td>1.49</td>\n",
       "    </tr>\n",
       "    <tr>\n",
       "      <td>3</td>\n",
       "      <td>Total Time Spent on Website</td>\n",
       "      <td>1.29</td>\n",
       "    </tr>\n",
       "    <tr>\n",
       "      <td>1</td>\n",
       "      <td>Do Not Email</td>\n",
       "      <td>1.21</td>\n",
       "    </tr>\n",
       "    <tr>\n",
       "      <td>11</td>\n",
       "      <td>Lead Source_Websites</td>\n",
       "      <td>1.18</td>\n",
       "    </tr>\n",
       "    <tr>\n",
       "      <td>10</td>\n",
       "      <td>Lead Source_Other</td>\n",
       "      <td>1.14</td>\n",
       "    </tr>\n",
       "    <tr>\n",
       "      <td>13</td>\n",
       "      <td>Specialization_Business</td>\n",
       "      <td>1.06</td>\n",
       "    </tr>\n",
       "    <tr>\n",
       "      <td>14</td>\n",
       "      <td>Specialization_Media and Advertising</td>\n",
       "      <td>1.03</td>\n",
       "    </tr>\n",
       "    <tr>\n",
       "      <td>16</td>\n",
       "      <td>Specialization_Services Excellence</td>\n",
       "      <td>1.01</td>\n",
       "    </tr>\n",
       "  </tbody>\n",
       "</table>\n",
       "</div>"
      ],
      "text/plain": [
       "                                  Features    VIF\n",
       "0                                    const  65.93\n",
       "19          Last Notable Activity_SMS Sent   3.85\n",
       "5      Lead Origin_Landing Page Submission   3.60\n",
       "17          Last Notable Activity_Modified   3.25\n",
       "12                Last Activity_Low_Intent   3.20\n",
       "8                   Lead Source_Olark Chat   3.08\n",
       "15                    Specialization_Other   2.87\n",
       "7                       Lead Source_Google   2.31\n",
       "6     Lead Origin_Lead Import and Add Form   2.28\n",
       "4   A free copy of Mastering The Interview   2.13\n",
       "18             Last Notable Activity_Other   2.12\n",
       "2                              TotalVisits   2.01\n",
       "9               Lead Source_Organic Search   1.49\n",
       "3              Total Time Spent on Website   1.29\n",
       "1                             Do Not Email   1.21\n",
       "11                    Lead Source_Websites   1.18\n",
       "10                       Lead Source_Other   1.14\n",
       "13                 Specialization_Business   1.06\n",
       "14    Specialization_Media and Advertising   1.03\n",
       "16      Specialization_Services Excellence   1.01"
      ]
     },
     "execution_count": 3572,
     "metadata": {},
     "output_type": "execute_result"
    }
   ],
   "source": [
    "# Removing High VIF Variable - Page Views Per Visit\n",
    "\n",
    "# Model 2\n",
    "X_Train_sm = X_Train[col]\n",
    "X_Train_sm = X_Train_sm.drop('Page Views Per Visit',axis = 1)\n",
    "col = X_Train_sm.columns\n",
    "X_Train_sm = sm.add_constant(X_Train_sm)\n",
    "log_model = sm.GLM(Y_Train,X_Train_sm, family = sm.families.Binomial())\n",
    "res = log_model.fit()\n",
    "print(res.summary())\n",
    "\n",
    "# Calculating VIF\n",
    "from statsmodels.stats.outliers_influence import variance_inflation_factor\n",
    "vif = pd.DataFrame()\n",
    "X = X_Train_sm\n",
    "vif['Features'] = X.columns\n",
    "vif['VIF'] = [variance_inflation_factor(X.values, i) for i in range(X.shape[1])]\n",
    "vif['VIF'] = round(vif['VIF'], 2)\n",
    "vif = vif.sort_values(by = \"VIF\", ascending = False)\n",
    "vif"
   ]
  },
  {
   "cell_type": "code",
   "execution_count": 3573,
   "metadata": {},
   "outputs": [
    {
     "name": "stdout",
     "output_type": "stream",
     "text": [
      "                 Generalized Linear Model Regression Results                  \n",
      "==============================================================================\n",
      "Dep. Variable:              Converted   No. Observations:                 6464\n",
      "Model:                            GLM   Df Residuals:                     6445\n",
      "Model Family:                Binomial   Df Model:                           18\n",
      "Link Function:                  logit   Scale:                          1.0000\n",
      "Method:                          IRLS   Log-Likelihood:                -2867.0\n",
      "Date:                Mon, 07 Sep 2020   Deviance:                       5734.1\n",
      "Time:                        13:57:59   Pearson chi2:                 6.53e+03\n",
      "No. Iterations:                     6                                         \n",
      "Covariance Type:            nonrobust                                         \n",
      "==========================================================================================================\n",
      "                                             coef    std err          z      P>|z|      [0.025      0.975]\n",
      "----------------------------------------------------------------------------------------------------------\n",
      "const                                     -3.0768      0.282    -10.907      0.000      -3.630      -2.524\n",
      "Do Not Email                               1.2941      0.159      8.119      0.000       0.982       1.606\n",
      "TotalVisits                                0.4143      0.153      2.706      0.007       0.114       0.714\n",
      "Total Time Spent on Website                3.2276      0.117     27.699      0.000       2.999       3.456\n",
      "A free copy of Mastering The Interview    -0.2814      0.102     -2.768      0.006      -0.481      -0.082\n",
      "Lead Origin_Landing Page Submission       -0.9444      0.125     -7.583      0.000      -1.188      -0.700\n",
      "Lead Origin_Lead Import and Add Form       3.8634      0.228     16.980      0.000       3.417       4.309\n",
      "Lead Source_Google                         0.1831      0.107      1.712      0.087      -0.026       0.393\n",
      "Lead Source_Olark Chat                     1.1172      0.151      7.386      0.000       0.821       1.414\n",
      "Lead Source_Organic Search                 0.1235      0.121      1.024      0.306      -0.113       0.360\n",
      "Lead Source_Other                         -1.7263      0.323     -5.339      0.000      -2.360      -1.093\n",
      "Lead Source_Websites                       0.6595      0.244      2.700      0.007       0.181       1.138\n",
      "Last Activity_Low_Intent                   0.5529      0.125      4.417      0.000       0.308       0.798\n",
      "Specialization_Business                   -0.0648      0.124     -0.521      0.602      -0.309       0.179\n",
      "Specialization_Media and Advertising      -0.1718      0.216     -0.797      0.425      -0.594       0.251\n",
      "Specialization_Other                      -1.4195      0.118    -11.988      0.000      -1.652      -1.187\n",
      "Last Notable Activity_Modified            -0.1593      0.122     -1.302      0.193      -0.399       0.080\n",
      "Last Notable Activity_Other                0.3446      0.168      2.051      0.040       0.015       0.674\n",
      "Last Notable Activity_SMS Sent             2.1294      0.155     13.724      0.000       1.825       2.433\n",
      "==========================================================================================================\n"
     ]
    },
    {
     "data": {
      "text/html": [
       "<div>\n",
       "<style scoped>\n",
       "    .dataframe tbody tr th:only-of-type {\n",
       "        vertical-align: middle;\n",
       "    }\n",
       "\n",
       "    .dataframe tbody tr th {\n",
       "        vertical-align: top;\n",
       "    }\n",
       "\n",
       "    .dataframe thead th {\n",
       "        text-align: right;\n",
       "    }\n",
       "</style>\n",
       "<table border=\"1\" class=\"dataframe\">\n",
       "  <thead>\n",
       "    <tr style=\"text-align: right;\">\n",
       "      <th></th>\n",
       "      <th>Features</th>\n",
       "      <th>VIF</th>\n",
       "    </tr>\n",
       "  </thead>\n",
       "  <tbody>\n",
       "    <tr>\n",
       "      <td>0</td>\n",
       "      <td>const</td>\n",
       "      <td>65.86</td>\n",
       "    </tr>\n",
       "    <tr>\n",
       "      <td>18</td>\n",
       "      <td>Last Notable Activity_SMS Sent</td>\n",
       "      <td>3.85</td>\n",
       "    </tr>\n",
       "    <tr>\n",
       "      <td>5</td>\n",
       "      <td>Lead Origin_Landing Page Submission</td>\n",
       "      <td>3.60</td>\n",
       "    </tr>\n",
       "    <tr>\n",
       "      <td>16</td>\n",
       "      <td>Last Notable Activity_Modified</td>\n",
       "      <td>3.25</td>\n",
       "    </tr>\n",
       "    <tr>\n",
       "      <td>12</td>\n",
       "      <td>Last Activity_Low_Intent</td>\n",
       "      <td>3.20</td>\n",
       "    </tr>\n",
       "    <tr>\n",
       "      <td>8</td>\n",
       "      <td>Lead Source_Olark Chat</td>\n",
       "      <td>3.08</td>\n",
       "    </tr>\n",
       "    <tr>\n",
       "      <td>15</td>\n",
       "      <td>Specialization_Other</td>\n",
       "      <td>2.87</td>\n",
       "    </tr>\n",
       "    <tr>\n",
       "      <td>7</td>\n",
       "      <td>Lead Source_Google</td>\n",
       "      <td>2.31</td>\n",
       "    </tr>\n",
       "    <tr>\n",
       "      <td>6</td>\n",
       "      <td>Lead Origin_Lead Import and Add Form</td>\n",
       "      <td>2.28</td>\n",
       "    </tr>\n",
       "    <tr>\n",
       "      <td>4</td>\n",
       "      <td>A free copy of Mastering The Interview</td>\n",
       "      <td>2.13</td>\n",
       "    </tr>\n",
       "    <tr>\n",
       "      <td>17</td>\n",
       "      <td>Last Notable Activity_Other</td>\n",
       "      <td>2.12</td>\n",
       "    </tr>\n",
       "    <tr>\n",
       "      <td>2</td>\n",
       "      <td>TotalVisits</td>\n",
       "      <td>2.01</td>\n",
       "    </tr>\n",
       "    <tr>\n",
       "      <td>9</td>\n",
       "      <td>Lead Source_Organic Search</td>\n",
       "      <td>1.49</td>\n",
       "    </tr>\n",
       "    <tr>\n",
       "      <td>3</td>\n",
       "      <td>Total Time Spent on Website</td>\n",
       "      <td>1.29</td>\n",
       "    </tr>\n",
       "    <tr>\n",
       "      <td>1</td>\n",
       "      <td>Do Not Email</td>\n",
       "      <td>1.21</td>\n",
       "    </tr>\n",
       "    <tr>\n",
       "      <td>11</td>\n",
       "      <td>Lead Source_Websites</td>\n",
       "      <td>1.18</td>\n",
       "    </tr>\n",
       "    <tr>\n",
       "      <td>10</td>\n",
       "      <td>Lead Source_Other</td>\n",
       "      <td>1.14</td>\n",
       "    </tr>\n",
       "    <tr>\n",
       "      <td>13</td>\n",
       "      <td>Specialization_Business</td>\n",
       "      <td>1.06</td>\n",
       "    </tr>\n",
       "    <tr>\n",
       "      <td>14</td>\n",
       "      <td>Specialization_Media and Advertising</td>\n",
       "      <td>1.03</td>\n",
       "    </tr>\n",
       "  </tbody>\n",
       "</table>\n",
       "</div>"
      ],
      "text/plain": [
       "                                  Features    VIF\n",
       "0                                    const  65.86\n",
       "18          Last Notable Activity_SMS Sent   3.85\n",
       "5      Lead Origin_Landing Page Submission   3.60\n",
       "16          Last Notable Activity_Modified   3.25\n",
       "12                Last Activity_Low_Intent   3.20\n",
       "8                   Lead Source_Olark Chat   3.08\n",
       "15                    Specialization_Other   2.87\n",
       "7                       Lead Source_Google   2.31\n",
       "6     Lead Origin_Lead Import and Add Form   2.28\n",
       "4   A free copy of Mastering The Interview   2.13\n",
       "17             Last Notable Activity_Other   2.12\n",
       "2                              TotalVisits   2.01\n",
       "9               Lead Source_Organic Search   1.49\n",
       "3              Total Time Spent on Website   1.29\n",
       "1                             Do Not Email   1.21\n",
       "11                    Lead Source_Websites   1.18\n",
       "10                       Lead Source_Other   1.14\n",
       "13                 Specialization_Business   1.06\n",
       "14    Specialization_Media and Advertising   1.03"
      ]
     },
     "execution_count": 3573,
     "metadata": {},
     "output_type": "execute_result"
    }
   ],
   "source": [
    "# Removing High P Value Variable - Specialization_Services Excellence\n",
    "\n",
    "# Model 3\n",
    "X_Train_sm = X_Train[col]\n",
    "X_Train_sm = X_Train_sm.drop('Specialization_Services Excellence',axis = 1)\n",
    "col = X_Train_sm.columns\n",
    "X_Train_sm = sm.add_constant(X_Train_sm)\n",
    "log_model = sm.GLM(Y_Train,X_Train_sm, family = sm.families.Binomial())\n",
    "res = log_model.fit()\n",
    "print(res.summary())\n",
    "\n",
    "# Calculating VIF\n",
    "from statsmodels.stats.outliers_influence import variance_inflation_factor\n",
    "vif = pd.DataFrame()\n",
    "X = X_Train_sm\n",
    "vif['Features'] = X.columns\n",
    "vif['VIF'] = [variance_inflation_factor(X.values, i) for i in range(X.shape[1])]\n",
    "vif['VIF'] = round(vif['VIF'], 2)\n",
    "vif = vif.sort_values(by = \"VIF\", ascending = False)\n",
    "vif"
   ]
  },
  {
   "cell_type": "code",
   "execution_count": 3574,
   "metadata": {},
   "outputs": [
    {
     "name": "stdout",
     "output_type": "stream",
     "text": [
      "                 Generalized Linear Model Regression Results                  \n",
      "==============================================================================\n",
      "Dep. Variable:              Converted   No. Observations:                 6464\n",
      "Model:                            GLM   Df Residuals:                     6446\n",
      "Model Family:                Binomial   Df Model:                           17\n",
      "Link Function:                  logit   Scale:                          1.0000\n",
      "Method:                          IRLS   Log-Likelihood:                -2867.2\n",
      "Date:                Mon, 07 Sep 2020   Deviance:                       5734.4\n",
      "Time:                        13:57:59   Pearson chi2:                 6.53e+03\n",
      "No. Iterations:                     6                                         \n",
      "Covariance Type:            nonrobust                                         \n",
      "==========================================================================================================\n",
      "                                             coef    std err          z      P>|z|      [0.025      0.975]\n",
      "----------------------------------------------------------------------------------------------------------\n",
      "const                                     -3.0864      0.282    -10.964      0.000      -3.638      -2.535\n",
      "Do Not Email                               1.2959      0.159      8.131      0.000       0.983       1.608\n",
      "TotalVisits                                0.4136      0.153      2.701      0.007       0.113       0.714\n",
      "Total Time Spent on Website                3.2280      0.117     27.702      0.000       3.000       3.456\n",
      "A free copy of Mastering The Interview    -0.2814      0.102     -2.769      0.006      -0.481      -0.082\n",
      "Lead Origin_Landing Page Submission       -0.9451      0.125     -7.591      0.000      -1.189      -0.701\n",
      "Lead Origin_Lead Import and Add Form       3.8644      0.228     16.985      0.000       3.418       4.310\n",
      "Lead Source_Google                         0.1840      0.107      1.721      0.085      -0.026       0.393\n",
      "Lead Source_Olark Chat                     1.1174      0.151      7.388      0.000       0.821       1.414\n",
      "Lead Source_Organic Search                 0.1228      0.121      1.019      0.308      -0.114       0.359\n",
      "Lead Source_Other                         -1.7261      0.323     -5.340      0.000      -2.360      -1.093\n",
      "Lead Source_Websites                       0.6599      0.244      2.702      0.007       0.181       1.139\n",
      "Last Activity_Low_Intent                   0.5529      0.125      4.418      0.000       0.308       0.798\n",
      "Specialization_Media and Advertising      -0.1636      0.215     -0.761      0.447      -0.585       0.258\n",
      "Specialization_Other                      -1.4123      0.118    -12.012      0.000      -1.643      -1.182\n",
      "Last Notable Activity_Modified            -0.1584      0.122     -1.295      0.195      -0.398       0.081\n",
      "Last Notable Activity_Other                0.3445      0.168      2.050      0.040       0.015       0.674\n",
      "Last Notable Activity_SMS Sent             2.1296      0.155     13.727      0.000       1.826       2.434\n",
      "==========================================================================================================\n"
     ]
    },
    {
     "data": {
      "text/html": [
       "<div>\n",
       "<style scoped>\n",
       "    .dataframe tbody tr th:only-of-type {\n",
       "        vertical-align: middle;\n",
       "    }\n",
       "\n",
       "    .dataframe tbody tr th {\n",
       "        vertical-align: top;\n",
       "    }\n",
       "\n",
       "    .dataframe thead th {\n",
       "        text-align: right;\n",
       "    }\n",
       "</style>\n",
       "<table border=\"1\" class=\"dataframe\">\n",
       "  <thead>\n",
       "    <tr style=\"text-align: right;\">\n",
       "      <th></th>\n",
       "      <th>Features</th>\n",
       "      <th>VIF</th>\n",
       "    </tr>\n",
       "  </thead>\n",
       "  <tbody>\n",
       "    <tr>\n",
       "      <td>0</td>\n",
       "      <td>const</td>\n",
       "      <td>65.64</td>\n",
       "    </tr>\n",
       "    <tr>\n",
       "      <td>17</td>\n",
       "      <td>Last Notable Activity_SMS Sent</td>\n",
       "      <td>3.85</td>\n",
       "    </tr>\n",
       "    <tr>\n",
       "      <td>5</td>\n",
       "      <td>Lead Origin_Landing Page Submission</td>\n",
       "      <td>3.60</td>\n",
       "    </tr>\n",
       "    <tr>\n",
       "      <td>15</td>\n",
       "      <td>Last Notable Activity_Modified</td>\n",
       "      <td>3.25</td>\n",
       "    </tr>\n",
       "    <tr>\n",
       "      <td>12</td>\n",
       "      <td>Last Activity_Low_Intent</td>\n",
       "      <td>3.20</td>\n",
       "    </tr>\n",
       "    <tr>\n",
       "      <td>8</td>\n",
       "      <td>Lead Source_Olark Chat</td>\n",
       "      <td>3.08</td>\n",
       "    </tr>\n",
       "    <tr>\n",
       "      <td>14</td>\n",
       "      <td>Specialization_Other</td>\n",
       "      <td>2.83</td>\n",
       "    </tr>\n",
       "    <tr>\n",
       "      <td>7</td>\n",
       "      <td>Lead Source_Google</td>\n",
       "      <td>2.31</td>\n",
       "    </tr>\n",
       "    <tr>\n",
       "      <td>6</td>\n",
       "      <td>Lead Origin_Lead Import and Add Form</td>\n",
       "      <td>2.28</td>\n",
       "    </tr>\n",
       "    <tr>\n",
       "      <td>4</td>\n",
       "      <td>A free copy of Mastering The Interview</td>\n",
       "      <td>2.13</td>\n",
       "    </tr>\n",
       "    <tr>\n",
       "      <td>16</td>\n",
       "      <td>Last Notable Activity_Other</td>\n",
       "      <td>2.12</td>\n",
       "    </tr>\n",
       "    <tr>\n",
       "      <td>2</td>\n",
       "      <td>TotalVisits</td>\n",
       "      <td>2.01</td>\n",
       "    </tr>\n",
       "    <tr>\n",
       "      <td>9</td>\n",
       "      <td>Lead Source_Organic Search</td>\n",
       "      <td>1.49</td>\n",
       "    </tr>\n",
       "    <tr>\n",
       "      <td>3</td>\n",
       "      <td>Total Time Spent on Website</td>\n",
       "      <td>1.29</td>\n",
       "    </tr>\n",
       "    <tr>\n",
       "      <td>1</td>\n",
       "      <td>Do Not Email</td>\n",
       "      <td>1.21</td>\n",
       "    </tr>\n",
       "    <tr>\n",
       "      <td>11</td>\n",
       "      <td>Lead Source_Websites</td>\n",
       "      <td>1.18</td>\n",
       "    </tr>\n",
       "    <tr>\n",
       "      <td>10</td>\n",
       "      <td>Lead Source_Other</td>\n",
       "      <td>1.14</td>\n",
       "    </tr>\n",
       "    <tr>\n",
       "      <td>13</td>\n",
       "      <td>Specialization_Media and Advertising</td>\n",
       "      <td>1.02</td>\n",
       "    </tr>\n",
       "  </tbody>\n",
       "</table>\n",
       "</div>"
      ],
      "text/plain": [
       "                                  Features    VIF\n",
       "0                                    const  65.64\n",
       "17          Last Notable Activity_SMS Sent   3.85\n",
       "5      Lead Origin_Landing Page Submission   3.60\n",
       "15          Last Notable Activity_Modified   3.25\n",
       "12                Last Activity_Low_Intent   3.20\n",
       "8                   Lead Source_Olark Chat   3.08\n",
       "14                    Specialization_Other   2.83\n",
       "7                       Lead Source_Google   2.31\n",
       "6     Lead Origin_Lead Import and Add Form   2.28\n",
       "4   A free copy of Mastering The Interview   2.13\n",
       "16             Last Notable Activity_Other   2.12\n",
       "2                              TotalVisits   2.01\n",
       "9               Lead Source_Organic Search   1.49\n",
       "3              Total Time Spent on Website   1.29\n",
       "1                             Do Not Email   1.21\n",
       "11                    Lead Source_Websites   1.18\n",
       "10                       Lead Source_Other   1.14\n",
       "13    Specialization_Media and Advertising   1.02"
      ]
     },
     "execution_count": 3574,
     "metadata": {},
     "output_type": "execute_result"
    }
   ],
   "source": [
    "# Removing High P Value Variable - Specialization_Business \n",
    "\n",
    "# Model 3\n",
    "X_Train_sm = X_Train[col]\n",
    "X_Train_sm = X_Train_sm.drop('Specialization_Business',axis = 1)\n",
    "col = X_Train_sm.columns\n",
    "X_Train_sm = sm.add_constant(X_Train_sm)\n",
    "log_model = sm.GLM(Y_Train,X_Train_sm, family = sm.families.Binomial())\n",
    "res = log_model.fit()\n",
    "print(res.summary())\n",
    "\n",
    "# Calculating VIF\n",
    "from statsmodels.stats.outliers_influence import variance_inflation_factor\n",
    "vif = pd.DataFrame()\n",
    "X = X_Train_sm\n",
    "vif['Features'] = X.columns\n",
    "vif['VIF'] = [variance_inflation_factor(X.values, i) for i in range(X.shape[1])]\n",
    "vif['VIF'] = round(vif['VIF'], 2)\n",
    "vif = vif.sort_values(by = \"VIF\", ascending = False)\n",
    "vif"
   ]
  },
  {
   "cell_type": "code",
   "execution_count": 3575,
   "metadata": {},
   "outputs": [
    {
     "name": "stdout",
     "output_type": "stream",
     "text": [
      "                 Generalized Linear Model Regression Results                  \n",
      "==============================================================================\n",
      "Dep. Variable:              Converted   No. Observations:                 6464\n",
      "Model:                            GLM   Df Residuals:                     6447\n",
      "Model Family:                Binomial   Df Model:                           16\n",
      "Link Function:                  logit   Scale:                          1.0000\n",
      "Method:                          IRLS   Log-Likelihood:                -2867.5\n",
      "Date:                Mon, 07 Sep 2020   Deviance:                       5734.9\n",
      "Time:                        13:57:59   Pearson chi2:                 6.53e+03\n",
      "No. Iterations:                     6                                         \n",
      "Covariance Type:            nonrobust                                         \n",
      "==========================================================================================================\n",
      "                                             coef    std err          z      P>|z|      [0.025      0.975]\n",
      "----------------------------------------------------------------------------------------------------------\n",
      "const                                     -3.0910      0.281    -10.986      0.000      -3.642      -2.539\n",
      "Do Not Email                               1.2951      0.159      8.128      0.000       0.983       1.607\n",
      "TotalVisits                                0.4151      0.153      2.712      0.007       0.115       0.715\n",
      "Total Time Spent on Website                3.2293      0.117     27.714      0.000       3.001       3.458\n",
      "A free copy of Mastering The Interview    -0.2820      0.102     -2.776      0.006      -0.481      -0.083\n",
      "Lead Origin_Landing Page Submission       -0.9457      0.124     -7.599      0.000      -1.190      -0.702\n",
      "Lead Origin_Lead Import and Add Form       3.8643      0.227     16.986      0.000       3.418       4.310\n",
      "Lead Source_Google                         0.1811      0.107      1.695      0.090      -0.028       0.390\n",
      "Lead Source_Olark Chat                     1.1149      0.151      7.374      0.000       0.819       1.411\n",
      "Lead Source_Organic Search                 0.1168      0.120      0.971      0.332      -0.119       0.353\n",
      "Lead Source_Other                         -1.7291      0.323     -5.348      0.000      -2.363      -1.095\n",
      "Lead Source_Websites                       0.6583      0.244      2.696      0.007       0.180       1.137\n",
      "Last Activity_Low_Intent                   0.5542      0.125      4.430      0.000       0.309       0.799\n",
      "Specialization_Other                      -1.4055      0.117    -11.995      0.000      -1.635      -1.176\n",
      "Last Notable Activity_Modified            -0.1578      0.122     -1.291      0.197      -0.397       0.082\n",
      "Last Notable Activity_Other                0.3449      0.168      2.053      0.040       0.016       0.674\n",
      "Last Notable Activity_SMS Sent             2.1295      0.155     13.728      0.000       1.825       2.433\n",
      "==========================================================================================================\n"
     ]
    },
    {
     "data": {
      "text/html": [
       "<div>\n",
       "<style scoped>\n",
       "    .dataframe tbody tr th:only-of-type {\n",
       "        vertical-align: middle;\n",
       "    }\n",
       "\n",
       "    .dataframe tbody tr th {\n",
       "        vertical-align: top;\n",
       "    }\n",
       "\n",
       "    .dataframe thead th {\n",
       "        text-align: right;\n",
       "    }\n",
       "</style>\n",
       "<table border=\"1\" class=\"dataframe\">\n",
       "  <thead>\n",
       "    <tr style=\"text-align: right;\">\n",
       "      <th></th>\n",
       "      <th>Features</th>\n",
       "      <th>VIF</th>\n",
       "    </tr>\n",
       "  </thead>\n",
       "  <tbody>\n",
       "    <tr>\n",
       "      <td>0</td>\n",
       "      <td>const</td>\n",
       "      <td>65.64</td>\n",
       "    </tr>\n",
       "    <tr>\n",
       "      <td>16</td>\n",
       "      <td>Last Notable Activity_SMS Sent</td>\n",
       "      <td>3.85</td>\n",
       "    </tr>\n",
       "    <tr>\n",
       "      <td>5</td>\n",
       "      <td>Lead Origin_Landing Page Submission</td>\n",
       "      <td>3.60</td>\n",
       "    </tr>\n",
       "    <tr>\n",
       "      <td>14</td>\n",
       "      <td>Last Notable Activity_Modified</td>\n",
       "      <td>3.25</td>\n",
       "    </tr>\n",
       "    <tr>\n",
       "      <td>12</td>\n",
       "      <td>Last Activity_Low_Intent</td>\n",
       "      <td>3.20</td>\n",
       "    </tr>\n",
       "    <tr>\n",
       "      <td>8</td>\n",
       "      <td>Lead Source_Olark Chat</td>\n",
       "      <td>3.08</td>\n",
       "    </tr>\n",
       "    <tr>\n",
       "      <td>13</td>\n",
       "      <td>Specialization_Other</td>\n",
       "      <td>2.82</td>\n",
       "    </tr>\n",
       "    <tr>\n",
       "      <td>7</td>\n",
       "      <td>Lead Source_Google</td>\n",
       "      <td>2.31</td>\n",
       "    </tr>\n",
       "    <tr>\n",
       "      <td>6</td>\n",
       "      <td>Lead Origin_Lead Import and Add Form</td>\n",
       "      <td>2.28</td>\n",
       "    </tr>\n",
       "    <tr>\n",
       "      <td>4</td>\n",
       "      <td>A free copy of Mastering The Interview</td>\n",
       "      <td>2.13</td>\n",
       "    </tr>\n",
       "    <tr>\n",
       "      <td>15</td>\n",
       "      <td>Last Notable Activity_Other</td>\n",
       "      <td>2.12</td>\n",
       "    </tr>\n",
       "    <tr>\n",
       "      <td>2</td>\n",
       "      <td>TotalVisits</td>\n",
       "      <td>2.01</td>\n",
       "    </tr>\n",
       "    <tr>\n",
       "      <td>9</td>\n",
       "      <td>Lead Source_Organic Search</td>\n",
       "      <td>1.48</td>\n",
       "    </tr>\n",
       "    <tr>\n",
       "      <td>3</td>\n",
       "      <td>Total Time Spent on Website</td>\n",
       "      <td>1.29</td>\n",
       "    </tr>\n",
       "    <tr>\n",
       "      <td>1</td>\n",
       "      <td>Do Not Email</td>\n",
       "      <td>1.21</td>\n",
       "    </tr>\n",
       "    <tr>\n",
       "      <td>11</td>\n",
       "      <td>Lead Source_Websites</td>\n",
       "      <td>1.18</td>\n",
       "    </tr>\n",
       "    <tr>\n",
       "      <td>10</td>\n",
       "      <td>Lead Source_Other</td>\n",
       "      <td>1.14</td>\n",
       "    </tr>\n",
       "  </tbody>\n",
       "</table>\n",
       "</div>"
      ],
      "text/plain": [
       "                                  Features    VIF\n",
       "0                                    const  65.64\n",
       "16          Last Notable Activity_SMS Sent   3.85\n",
       "5      Lead Origin_Landing Page Submission   3.60\n",
       "14          Last Notable Activity_Modified   3.25\n",
       "12                Last Activity_Low_Intent   3.20\n",
       "8                   Lead Source_Olark Chat   3.08\n",
       "13                    Specialization_Other   2.82\n",
       "7                       Lead Source_Google   2.31\n",
       "6     Lead Origin_Lead Import and Add Form   2.28\n",
       "4   A free copy of Mastering The Interview   2.13\n",
       "15             Last Notable Activity_Other   2.12\n",
       "2                              TotalVisits   2.01\n",
       "9               Lead Source_Organic Search   1.48\n",
       "3              Total Time Spent on Website   1.29\n",
       "1                             Do Not Email   1.21\n",
       "11                    Lead Source_Websites   1.18\n",
       "10                       Lead Source_Other   1.14"
      ]
     },
     "execution_count": 3575,
     "metadata": {},
     "output_type": "execute_result"
    }
   ],
   "source": [
    "# Removing High P Value Variable - Specialization_Media and Advertising\n",
    "\n",
    "# Model 4\n",
    "X_Train_sm = X_Train[col]\n",
    "X_Train_sm = X_Train_sm.drop('Specialization_Media and Advertising',axis = 1)\n",
    "col = X_Train_sm.columns\n",
    "X_Train_sm = sm.add_constant(X_Train_sm)\n",
    "log_model = sm.GLM(Y_Train,X_Train_sm, family = sm.families.Binomial())\n",
    "res = log_model.fit()\n",
    "print(res.summary())\n",
    "\n",
    "# Calculating VIF\n",
    "from statsmodels.stats.outliers_influence import variance_inflation_factor\n",
    "vif = pd.DataFrame()\n",
    "X = X_Train_sm\n",
    "vif['Features'] = X.columns\n",
    "vif['VIF'] = [variance_inflation_factor(X.values, i) for i in range(X.shape[1])]\n",
    "vif['VIF'] = round(vif['VIF'], 2)\n",
    "vif = vif.sort_values(by = \"VIF\", ascending = False)\n",
    "vif"
   ]
  },
  {
   "cell_type": "code",
   "execution_count": 3576,
   "metadata": {},
   "outputs": [
    {
     "name": "stdout",
     "output_type": "stream",
     "text": [
      "                 Generalized Linear Model Regression Results                  \n",
      "==============================================================================\n",
      "Dep. Variable:              Converted   No. Observations:                 6464\n",
      "Model:                            GLM   Df Residuals:                     6448\n",
      "Model Family:                Binomial   Df Model:                           15\n",
      "Link Function:                  logit   Scale:                          1.0000\n",
      "Method:                          IRLS   Log-Likelihood:                -2867.9\n",
      "Date:                Mon, 07 Sep 2020   Deviance:                       5735.9\n",
      "Time:                        13:58:00   Pearson chi2:                 6.53e+03\n",
      "No. Iterations:                     6                                         \n",
      "Covariance Type:            nonrobust                                         \n",
      "==========================================================================================================\n",
      "                                             coef    std err          z      P>|z|      [0.025      0.975]\n",
      "----------------------------------------------------------------------------------------------------------\n",
      "const                                     -3.0431      0.277    -10.997      0.000      -3.585      -2.501\n",
      "Do Not Email                               1.2923      0.159      8.113      0.000       0.980       1.605\n",
      "TotalVisits                                0.4544      0.148      3.080      0.002       0.165       0.744\n",
      "Total Time Spent on Website                3.2290      0.117     27.710      0.000       3.001       3.457\n",
      "A free copy of Mastering The Interview    -0.2964      0.101     -2.949      0.003      -0.493      -0.099\n",
      "Lead Origin_Landing Page Submission       -0.9663      0.123     -7.881      0.000      -1.207      -0.726\n",
      "Lead Origin_Lead Import and Add Form       3.8289      0.225     17.054      0.000       3.389       4.269\n",
      "Lead Source_Google                         0.1323      0.094      1.405      0.160      -0.052       0.317\n",
      "Lead Source_Olark Chat                     1.0676      0.143      7.467      0.000       0.787       1.348\n",
      "Lead Source_Other                         -1.7427      0.323     -5.397      0.000      -2.376      -1.110\n",
      "Lead Source_Websites                       0.6128      0.239      2.567      0.010       0.145       1.081\n",
      "Last Activity_Low_Intent                   0.5527      0.125      4.418      0.000       0.307       0.798\n",
      "Specialization_Other                      -1.4024      0.117    -11.977      0.000      -1.632      -1.173\n",
      "Last Notable Activity_Modified            -0.1580      0.122     -1.292      0.196      -0.398       0.082\n",
      "Last Notable Activity_Other                0.3371      0.168      2.008      0.045       0.008       0.666\n",
      "Last Notable Activity_SMS Sent             2.1298      0.155     13.733      0.000       1.826       2.434\n",
      "==========================================================================================================\n"
     ]
    },
    {
     "data": {
      "text/html": [
       "<div>\n",
       "<style scoped>\n",
       "    .dataframe tbody tr th:only-of-type {\n",
       "        vertical-align: middle;\n",
       "    }\n",
       "\n",
       "    .dataframe tbody tr th {\n",
       "        vertical-align: top;\n",
       "    }\n",
       "\n",
       "    .dataframe thead th {\n",
       "        text-align: right;\n",
       "    }\n",
       "</style>\n",
       "<table border=\"1\" class=\"dataframe\">\n",
       "  <thead>\n",
       "    <tr style=\"text-align: right;\">\n",
       "      <th></th>\n",
       "      <th>Features</th>\n",
       "      <th>VIF</th>\n",
       "    </tr>\n",
       "  </thead>\n",
       "  <tbody>\n",
       "    <tr>\n",
       "      <td>0</td>\n",
       "      <td>const</td>\n",
       "      <td>63.59</td>\n",
       "    </tr>\n",
       "    <tr>\n",
       "      <td>15</td>\n",
       "      <td>Last Notable Activity_SMS Sent</td>\n",
       "      <td>3.85</td>\n",
       "    </tr>\n",
       "    <tr>\n",
       "      <td>5</td>\n",
       "      <td>Lead Origin_Landing Page Submission</td>\n",
       "      <td>3.49</td>\n",
       "    </tr>\n",
       "    <tr>\n",
       "      <td>13</td>\n",
       "      <td>Last Notable Activity_Modified</td>\n",
       "      <td>3.25</td>\n",
       "    </tr>\n",
       "    <tr>\n",
       "      <td>11</td>\n",
       "      <td>Last Activity_Low_Intent</td>\n",
       "      <td>3.20</td>\n",
       "    </tr>\n",
       "    <tr>\n",
       "      <td>12</td>\n",
       "      <td>Specialization_Other</td>\n",
       "      <td>2.82</td>\n",
       "    </tr>\n",
       "    <tr>\n",
       "      <td>8</td>\n",
       "      <td>Lead Source_Olark Chat</td>\n",
       "      <td>2.76</td>\n",
       "    </tr>\n",
       "    <tr>\n",
       "      <td>6</td>\n",
       "      <td>Lead Origin_Lead Import and Add Form</td>\n",
       "      <td>2.18</td>\n",
       "    </tr>\n",
       "    <tr>\n",
       "      <td>14</td>\n",
       "      <td>Last Notable Activity_Other</td>\n",
       "      <td>2.12</td>\n",
       "    </tr>\n",
       "    <tr>\n",
       "      <td>4</td>\n",
       "      <td>A free copy of Mastering The Interview</td>\n",
       "      <td>2.09</td>\n",
       "    </tr>\n",
       "    <tr>\n",
       "      <td>2</td>\n",
       "      <td>TotalVisits</td>\n",
       "      <td>1.87</td>\n",
       "    </tr>\n",
       "    <tr>\n",
       "      <td>7</td>\n",
       "      <td>Lead Source_Google</td>\n",
       "      <td>1.82</td>\n",
       "    </tr>\n",
       "    <tr>\n",
       "      <td>3</td>\n",
       "      <td>Total Time Spent on Website</td>\n",
       "      <td>1.29</td>\n",
       "    </tr>\n",
       "    <tr>\n",
       "      <td>1</td>\n",
       "      <td>Do Not Email</td>\n",
       "      <td>1.21</td>\n",
       "    </tr>\n",
       "    <tr>\n",
       "      <td>10</td>\n",
       "      <td>Lead Source_Websites</td>\n",
       "      <td>1.15</td>\n",
       "    </tr>\n",
       "    <tr>\n",
       "      <td>9</td>\n",
       "      <td>Lead Source_Other</td>\n",
       "      <td>1.14</td>\n",
       "    </tr>\n",
       "  </tbody>\n",
       "</table>\n",
       "</div>"
      ],
      "text/plain": [
       "                                  Features    VIF\n",
       "0                                    const  63.59\n",
       "15          Last Notable Activity_SMS Sent   3.85\n",
       "5      Lead Origin_Landing Page Submission   3.49\n",
       "13          Last Notable Activity_Modified   3.25\n",
       "11                Last Activity_Low_Intent   3.20\n",
       "12                    Specialization_Other   2.82\n",
       "8                   Lead Source_Olark Chat   2.76\n",
       "6     Lead Origin_Lead Import and Add Form   2.18\n",
       "14             Last Notable Activity_Other   2.12\n",
       "4   A free copy of Mastering The Interview   2.09\n",
       "2                              TotalVisits   1.87\n",
       "7                       Lead Source_Google   1.82\n",
       "3              Total Time Spent on Website   1.29\n",
       "1                             Do Not Email   1.21\n",
       "10                    Lead Source_Websites   1.15\n",
       "9                        Lead Source_Other   1.14"
      ]
     },
     "execution_count": 3576,
     "metadata": {},
     "output_type": "execute_result"
    }
   ],
   "source": [
    "# Removing High P Value Variable - Lead Source_Organic Search\n",
    "\n",
    "# Model 5\n",
    "X_Train_sm = X_Train[col]\n",
    "X_Train_sm = X_Train_sm.drop('Lead Source_Organic Search',axis = 1)\n",
    "col = X_Train_sm.columns\n",
    "X_Train_sm = sm.add_constant(X_Train_sm)\n",
    "log_model = sm.GLM(Y_Train,X_Train_sm, family = sm.families.Binomial())\n",
    "res = log_model.fit()\n",
    "print(res.summary())\n",
    "\n",
    "# Calculating VIF\n",
    "from statsmodels.stats.outliers_influence import variance_inflation_factor\n",
    "vif = pd.DataFrame()\n",
    "X = X_Train_sm\n",
    "vif['Features'] = X.columns\n",
    "vif['VIF'] = [variance_inflation_factor(X.values, i) for i in range(X.shape[1])]\n",
    "vif['VIF'] = round(vif['VIF'], 2)\n",
    "vif = vif.sort_values(by = \"VIF\", ascending = False)\n",
    "vif"
   ]
  },
  {
   "cell_type": "code",
   "execution_count": 3577,
   "metadata": {},
   "outputs": [
    {
     "name": "stdout",
     "output_type": "stream",
     "text": [
      "                 Generalized Linear Model Regression Results                  \n",
      "==============================================================================\n",
      "Dep. Variable:              Converted   No. Observations:                 6464\n",
      "Model:                            GLM   Df Residuals:                     6449\n",
      "Model Family:                Binomial   Df Model:                           14\n",
      "Link Function:                  logit   Scale:                          1.0000\n",
      "Method:                          IRLS   Log-Likelihood:                -2868.8\n",
      "Date:                Mon, 07 Sep 2020   Deviance:                       5737.6\n",
      "Time:                        13:58:00   Pearson chi2:                 6.53e+03\n",
      "No. Iterations:                     6                                         \n",
      "Covariance Type:            nonrobust                                         \n",
      "==========================================================================================================\n",
      "                                             coef    std err          z      P>|z|      [0.025      0.975]\n",
      "----------------------------------------------------------------------------------------------------------\n",
      "const                                     -3.2492      0.226    -14.358      0.000      -3.693      -2.806\n",
      "Do Not Email                               1.3427      0.154      8.710      0.000       1.041       1.645\n",
      "TotalVisits                                0.4690      0.147      3.188      0.001       0.181       0.757\n",
      "Total Time Spent on Website                3.2283      0.116     27.710      0.000       3.000       3.457\n",
      "A free copy of Mastering The Interview    -0.2943      0.100     -2.929      0.003      -0.491      -0.097\n",
      "Lead Origin_Landing Page Submission       -0.9678      0.123     -7.898      0.000      -1.208      -0.728\n",
      "Lead Origin_Lead Import and Add Form       3.8342      0.225     17.073      0.000       3.394       4.274\n",
      "Lead Source_Google                         0.1307      0.094      1.389      0.165      -0.054       0.315\n",
      "Lead Source_Olark Chat                     1.0704      0.143      7.490      0.000       0.790       1.350\n",
      "Lead Source_Other                         -1.7435      0.323     -5.396      0.000      -2.377      -1.110\n",
      "Lead Source_Websites                       0.6054      0.238      2.543      0.011       0.139       1.072\n",
      "Last Activity_Low_Intent                   0.6702      0.085      7.845      0.000       0.503       0.838\n",
      "Specialization_Other                      -1.4035      0.117    -11.994      0.000      -1.633      -1.174\n",
      "Last Notable Activity_Other                0.4754      0.129      3.678      0.000       0.222       0.729\n",
      "Last Notable Activity_SMS Sent             2.2847      0.099     23.162      0.000       2.091       2.478\n",
      "==========================================================================================================\n"
     ]
    },
    {
     "data": {
      "text/html": [
       "<div>\n",
       "<style scoped>\n",
       "    .dataframe tbody tr th:only-of-type {\n",
       "        vertical-align: middle;\n",
       "    }\n",
       "\n",
       "    .dataframe tbody tr th {\n",
       "        vertical-align: top;\n",
       "    }\n",
       "\n",
       "    .dataframe thead th {\n",
       "        text-align: right;\n",
       "    }\n",
       "</style>\n",
       "<table border=\"1\" class=\"dataframe\">\n",
       "  <thead>\n",
       "    <tr style=\"text-align: right;\">\n",
       "      <th></th>\n",
       "      <th>Features</th>\n",
       "      <th>VIF</th>\n",
       "    </tr>\n",
       "  </thead>\n",
       "  <tbody>\n",
       "    <tr>\n",
       "      <td>0</td>\n",
       "      <td>const</td>\n",
       "      <td>37.65</td>\n",
       "    </tr>\n",
       "    <tr>\n",
       "      <td>5</td>\n",
       "      <td>Lead Origin_Landing Page Submission</td>\n",
       "      <td>3.49</td>\n",
       "    </tr>\n",
       "    <tr>\n",
       "      <td>12</td>\n",
       "      <td>Specialization_Other</td>\n",
       "      <td>2.82</td>\n",
       "    </tr>\n",
       "    <tr>\n",
       "      <td>8</td>\n",
       "      <td>Lead Source_Olark Chat</td>\n",
       "      <td>2.76</td>\n",
       "    </tr>\n",
       "    <tr>\n",
       "      <td>6</td>\n",
       "      <td>Lead Origin_Lead Import and Add Form</td>\n",
       "      <td>2.18</td>\n",
       "    </tr>\n",
       "    <tr>\n",
       "      <td>4</td>\n",
       "      <td>A free copy of Mastering The Interview</td>\n",
       "      <td>2.09</td>\n",
       "    </tr>\n",
       "    <tr>\n",
       "      <td>2</td>\n",
       "      <td>TotalVisits</td>\n",
       "      <td>1.85</td>\n",
       "    </tr>\n",
       "    <tr>\n",
       "      <td>7</td>\n",
       "      <td>Lead Source_Google</td>\n",
       "      <td>1.82</td>\n",
       "    </tr>\n",
       "    <tr>\n",
       "      <td>14</td>\n",
       "      <td>Last Notable Activity_SMS Sent</td>\n",
       "      <td>1.47</td>\n",
       "    </tr>\n",
       "    <tr>\n",
       "      <td>11</td>\n",
       "      <td>Last Activity_Low_Intent</td>\n",
       "      <td>1.45</td>\n",
       "    </tr>\n",
       "    <tr>\n",
       "      <td>3</td>\n",
       "      <td>Total Time Spent on Website</td>\n",
       "      <td>1.28</td>\n",
       "    </tr>\n",
       "    <tr>\n",
       "      <td>13</td>\n",
       "      <td>Last Notable Activity_Other</td>\n",
       "      <td>1.20</td>\n",
       "    </tr>\n",
       "    <tr>\n",
       "      <td>10</td>\n",
       "      <td>Lead Source_Websites</td>\n",
       "      <td>1.15</td>\n",
       "    </tr>\n",
       "    <tr>\n",
       "      <td>9</td>\n",
       "      <td>Lead Source_Other</td>\n",
       "      <td>1.14</td>\n",
       "    </tr>\n",
       "    <tr>\n",
       "      <td>1</td>\n",
       "      <td>Do Not Email</td>\n",
       "      <td>1.07</td>\n",
       "    </tr>\n",
       "  </tbody>\n",
       "</table>\n",
       "</div>"
      ],
      "text/plain": [
       "                                  Features    VIF\n",
       "0                                    const  37.65\n",
       "5      Lead Origin_Landing Page Submission   3.49\n",
       "12                    Specialization_Other   2.82\n",
       "8                   Lead Source_Olark Chat   2.76\n",
       "6     Lead Origin_Lead Import and Add Form   2.18\n",
       "4   A free copy of Mastering The Interview   2.09\n",
       "2                              TotalVisits   1.85\n",
       "7                       Lead Source_Google   1.82\n",
       "14          Last Notable Activity_SMS Sent   1.47\n",
       "11                Last Activity_Low_Intent   1.45\n",
       "3              Total Time Spent on Website   1.28\n",
       "13             Last Notable Activity_Other   1.20\n",
       "10                    Lead Source_Websites   1.15\n",
       "9                        Lead Source_Other   1.14\n",
       "1                             Do Not Email   1.07"
      ]
     },
     "execution_count": 3577,
     "metadata": {},
     "output_type": "execute_result"
    }
   ],
   "source": [
    "\n",
    "# Removing High P Value Variable - Last Notable Activity_Modified\n",
    "\n",
    "# Model 5\n",
    "X_Train_sm = X_Train[col]\n",
    "X_Train_sm = X_Train_sm.drop('Last Notable Activity_Modified',axis = 1)\n",
    "col = X_Train_sm.columns\n",
    "X_Train_sm = sm.add_constant(X_Train_sm)\n",
    "log_model = sm.GLM(Y_Train,X_Train_sm, family = sm.families.Binomial())\n",
    "res = log_model.fit()\n",
    "print(res.summary())\n",
    "\n",
    "# Calculating VIF\n",
    "from statsmodels.stats.outliers_influence import variance_inflation_factor\n",
    "vif = pd.DataFrame()\n",
    "X = X_Train_sm\n",
    "vif['Features'] = X.columns\n",
    "vif['VIF'] = [variance_inflation_factor(X.values, i) for i in range(X.shape[1])]\n",
    "vif['VIF'] = round(vif['VIF'], 2)\n",
    "vif = vif.sort_values(by = \"VIF\", ascending = False)\n",
    "vif"
   ]
  },
  {
   "cell_type": "code",
   "execution_count": 3578,
   "metadata": {},
   "outputs": [
    {
     "name": "stdout",
     "output_type": "stream",
     "text": [
      "                 Generalized Linear Model Regression Results                  \n",
      "==============================================================================\n",
      "Dep. Variable:              Converted   No. Observations:                 6464\n",
      "Model:                            GLM   Df Residuals:                     6450\n",
      "Model Family:                Binomial   Df Model:                           13\n",
      "Link Function:                  logit   Scale:                          1.0000\n",
      "Method:                          IRLS   Log-Likelihood:                -2869.7\n",
      "Date:                Mon, 07 Sep 2020   Deviance:                       5739.5\n",
      "Time:                        13:58:00   Pearson chi2:                 6.53e+03\n",
      "No. Iterations:                     6                                         \n",
      "Covariance Type:            nonrobust                                         \n",
      "==========================================================================================================\n",
      "                                             coef    std err          z      P>|z|      [0.025      0.975]\n",
      "----------------------------------------------------------------------------------------------------------\n",
      "const                                     -3.1661      0.218    -14.531      0.000      -3.593      -2.739\n",
      "Do Not Email                               1.3584      0.154      8.838      0.000       1.057       1.660\n",
      "TotalVisits                                0.4727      0.147      3.217      0.001       0.185       0.761\n",
      "Total Time Spent on Website                3.2310      0.116     27.743      0.000       3.003       3.459\n",
      "A free copy of Mastering The Interview    -0.3697      0.084     -4.378      0.000      -0.535      -0.204\n",
      "Lead Origin_Landing Page Submission       -0.9771      0.122     -7.987      0.000      -1.217      -0.737\n",
      "Lead Origin_Lead Import and Add Form       3.7595      0.218     17.239      0.000       3.332       4.187\n",
      "Lead Source_Olark Chat                     0.9870      0.129      7.628      0.000       0.733       1.241\n",
      "Lead Source_Other                         -1.7580      0.323     -5.448      0.000      -2.391      -1.126\n",
      "Lead Source_Websites                       0.5511      0.234      2.359      0.018       0.093       1.009\n",
      "Last Activity_Low_Intent                   0.6706      0.085      7.848      0.000       0.503       0.838\n",
      "Specialization_Other                      -1.4179      0.117    -12.161      0.000      -1.646      -1.189\n",
      "Last Notable Activity_Other                0.4765      0.129      3.686      0.000       0.223       0.730\n",
      "Last Notable Activity_SMS Sent             2.2823      0.099     23.146      0.000       2.089       2.476\n",
      "==========================================================================================================\n"
     ]
    },
    {
     "data": {
      "text/html": [
       "<div>\n",
       "<style scoped>\n",
       "    .dataframe tbody tr th:only-of-type {\n",
       "        vertical-align: middle;\n",
       "    }\n",
       "\n",
       "    .dataframe tbody tr th {\n",
       "        vertical-align: top;\n",
       "    }\n",
       "\n",
       "    .dataframe thead th {\n",
       "        text-align: right;\n",
       "    }\n",
       "</style>\n",
       "<table border=\"1\" class=\"dataframe\">\n",
       "  <thead>\n",
       "    <tr style=\"text-align: right;\">\n",
       "      <th></th>\n",
       "      <th>Features</th>\n",
       "      <th>VIF</th>\n",
       "    </tr>\n",
       "  </thead>\n",
       "  <tbody>\n",
       "    <tr>\n",
       "      <td>0</td>\n",
       "      <td>const</td>\n",
       "      <td>34.56</td>\n",
       "    </tr>\n",
       "    <tr>\n",
       "      <td>5</td>\n",
       "      <td>Lead Origin_Landing Page Submission</td>\n",
       "      <td>3.47</td>\n",
       "    </tr>\n",
       "    <tr>\n",
       "      <td>11</td>\n",
       "      <td>Specialization_Other</td>\n",
       "      <td>2.80</td>\n",
       "    </tr>\n",
       "    <tr>\n",
       "      <td>7</td>\n",
       "      <td>Lead Source_Olark Chat</td>\n",
       "      <td>2.23</td>\n",
       "    </tr>\n",
       "    <tr>\n",
       "      <td>6</td>\n",
       "      <td>Lead Origin_Lead Import and Add Form</td>\n",
       "      <td>1.94</td>\n",
       "    </tr>\n",
       "    <tr>\n",
       "      <td>2</td>\n",
       "      <td>TotalVisits</td>\n",
       "      <td>1.85</td>\n",
       "    </tr>\n",
       "    <tr>\n",
       "      <td>4</td>\n",
       "      <td>A free copy of Mastering The Interview</td>\n",
       "      <td>1.53</td>\n",
       "    </tr>\n",
       "    <tr>\n",
       "      <td>13</td>\n",
       "      <td>Last Notable Activity_SMS Sent</td>\n",
       "      <td>1.47</td>\n",
       "    </tr>\n",
       "    <tr>\n",
       "      <td>10</td>\n",
       "      <td>Last Activity_Low_Intent</td>\n",
       "      <td>1.45</td>\n",
       "    </tr>\n",
       "    <tr>\n",
       "      <td>3</td>\n",
       "      <td>Total Time Spent on Website</td>\n",
       "      <td>1.28</td>\n",
       "    </tr>\n",
       "    <tr>\n",
       "      <td>12</td>\n",
       "      <td>Last Notable Activity_Other</td>\n",
       "      <td>1.20</td>\n",
       "    </tr>\n",
       "    <tr>\n",
       "      <td>8</td>\n",
       "      <td>Lead Source_Other</td>\n",
       "      <td>1.14</td>\n",
       "    </tr>\n",
       "    <tr>\n",
       "      <td>9</td>\n",
       "      <td>Lead Source_Websites</td>\n",
       "      <td>1.13</td>\n",
       "    </tr>\n",
       "    <tr>\n",
       "      <td>1</td>\n",
       "      <td>Do Not Email</td>\n",
       "      <td>1.06</td>\n",
       "    </tr>\n",
       "  </tbody>\n",
       "</table>\n",
       "</div>"
      ],
      "text/plain": [
       "                                  Features    VIF\n",
       "0                                    const  34.56\n",
       "5      Lead Origin_Landing Page Submission   3.47\n",
       "11                    Specialization_Other   2.80\n",
       "7                   Lead Source_Olark Chat   2.23\n",
       "6     Lead Origin_Lead Import and Add Form   1.94\n",
       "2                              TotalVisits   1.85\n",
       "4   A free copy of Mastering The Interview   1.53\n",
       "13          Last Notable Activity_SMS Sent   1.47\n",
       "10                Last Activity_Low_Intent   1.45\n",
       "3              Total Time Spent on Website   1.28\n",
       "12             Last Notable Activity_Other   1.20\n",
       "8                        Lead Source_Other   1.14\n",
       "9                     Lead Source_Websites   1.13\n",
       "1                             Do Not Email   1.06"
      ]
     },
     "execution_count": 3578,
     "metadata": {},
     "output_type": "execute_result"
    }
   ],
   "source": [
    "\n",
    "# Removing High P Value Variable - Lead Source_Google\n",
    "\n",
    "# Model 5\n",
    "X_Train_sm = X_Train[col]\n",
    "X_Train_sm = X_Train_sm.drop('Lead Source_Google',axis = 1)\n",
    "col = X_Train_sm.columns\n",
    "X_Train_sm = sm.add_constant(X_Train_sm)\n",
    "log_model = sm.GLM(Y_Train,X_Train_sm, family = sm.families.Binomial())\n",
    "res = log_model.fit()\n",
    "print(res.summary())\n",
    "\n",
    "# Calculating VIF\n",
    "from statsmodels.stats.outliers_influence import variance_inflation_factor\n",
    "vif = pd.DataFrame()\n",
    "X = X_Train_sm\n",
    "vif['Features'] = X.columns\n",
    "vif['VIF'] = [variance_inflation_factor(X.values, i) for i in range(X.shape[1])]\n",
    "vif['VIF'] = round(vif['VIF'], 2)\n",
    "vif = vif.sort_values(by = \"VIF\", ascending = False)\n",
    "vif"
   ]
  },
  {
   "cell_type": "code",
   "execution_count": 3579,
   "metadata": {},
   "outputs": [
    {
     "name": "stdout",
     "output_type": "stream",
     "text": [
      "(6464, 14)\n",
      "Index(['const', 'Do Not Email', 'TotalVisits', 'Total Time Spent on Website',\n",
      "       'A free copy of Mastering The Interview',\n",
      "       'Lead Origin_Landing Page Submission',\n",
      "       'Lead Origin_Lead Import and Add Form', 'Lead Source_Olark Chat',\n",
      "       'Lead Source_Other', 'Lead Source_Websites', 'Last Activity_Low_Intent',\n",
      "       'Specialization_Other', 'Last Notable Activity_Other',\n",
      "       'Last Notable Activity_SMS Sent'],\n",
      "      dtype='object')\n"
     ]
    },
    {
     "data": {
      "text/plain": [
       "(6464, 1)"
      ]
     },
     "execution_count": 3579,
     "metadata": {},
     "output_type": "execute_result"
    }
   ],
   "source": [
    "# Inspect Shape and columns\n",
    "print(X_Train_sm.shape)\n",
    "print(X_Train_sm.columns)\n",
    "\n",
    "Y_Train.shape"
   ]
  },
  {
   "cell_type": "code",
   "execution_count": 3580,
   "metadata": {},
   "outputs": [
    {
     "name": "stdout",
     "output_type": "stream",
     "text": [
      "(6464, 3)\n"
     ]
    }
   ],
   "source": [
    "# Making Predictions on Y Variables\n",
    "Y_Train_pred = pd.DataFrame(res.predict(X_Train_sm)).reset_index(drop = True)\n",
    "Y_Train_pred.columns = ['Predicted']\n",
    "# Lets set cutoff to be 0.5 now\n",
    "cutoff  = 0.5\n",
    "Y_Train = Y_Train.reset_index(drop = True)\n",
    "Y_Train['Predicted'] = Y_Train_pred['Predicted']\n",
    "\n",
    "\n",
    "Y_Train['Predicted_Label'] = Y_Train['Predicted'].apply(lambda x : 1 if x>=cutoff else 0)\n",
    "print(Y_Train.shape)"
   ]
  },
  {
   "cell_type": "code",
   "execution_count": 3581,
   "metadata": {},
   "outputs": [
    {
     "name": "stdout",
     "output_type": "stream",
     "text": [
      "[[3443  539]\n",
      " [ 762 1720]]\n",
      "(6464, 3)\n",
      "Accuracy:  0.7987314356435643\n",
      "Sensitivity:  0.6929895245769541\n",
      "Specificity:  0.8646408839779005\n",
      "False Positive Rate:  0.13535911602209943\n",
      "Positive Predictive Value:  0.7613988490482514\n",
      "Negative Predictive Value:  0.8187871581450654\n"
     ]
    }
   ],
   "source": [
    "# Confusion matrix \n",
    "confusion_matrix = metrics.confusion_matrix(Y_Train.Converted, Y_Train.Predicted_Label )\n",
    "print(confusion_matrix)\n",
    "print(Y_Train.shape)\n",
    "\n",
    "# Checking other metrics\n",
    "TP = confusion_matrix[1,1] # true positive \n",
    "TN = confusion_matrix[0,0] # true negatives\n",
    "FP = confusion_matrix[0,1] # false positives\n",
    "FN = confusion_matrix[1,0] # false negatives\n",
    "\n",
    "# Checking Accuracy\n",
    "# Checking the overall accuracy.\n",
    "print(\"Accuracy: \",metrics.accuracy_score(Y_Train.Converted, Y_Train.Predicted_Label))\n",
    "# Checking the sensitivity of the model\n",
    "print(\"Sensitivity: \",TP / float(TP+FN))\n",
    "# Calculating specificity\n",
    "print(\"Specificity: \",TN / float(TN+FP))\n",
    "# Calculating false postive rate - predicting converted rate when lead actually did not get converted\n",
    "print(\"False Positive Rate: \",FP/ float(TN+FP))\n",
    "# Calculating positive predictive value \n",
    "print (\"Positive Predictive Value: \",TP / float(TP+FP))\n",
    "# Calculating negative predictive value\n",
    "print (\"Negative Predictive Value: \",TN / float(TN+ FN))"
   ]
  },
  {
   "cell_type": "code",
   "execution_count": 3582,
   "metadata": {},
   "outputs": [],
   "source": [
    "# Draw ROC Curve\n",
    "def draw_roc( actual, probs ):\n",
    "    fpr, tpr, thresholds = metrics.roc_curve( actual, probs,\n",
    "                                              drop_intermediate = False )\n",
    "    auc_score = metrics.roc_auc_score( actual, probs )\n",
    "    plt.figure(figsize=(5, 5))\n",
    "    plt.plot( fpr, tpr, label='ROC curve (area = %0.2f)' % auc_score )\n",
    "    plt.plot([0, 1], [0, 1], 'k--')\n",
    "    plt.xlim([0.0, 1.0])\n",
    "    plt.ylim([0.0, 1.05])\n",
    "    plt.xlabel('False Positive Rate or [1 - True Negative Rate]')\n",
    "    plt.ylabel('True Positive Rate')\n",
    "    plt.title('Receiver operating characteristic example')\n",
    "    plt.legend(loc=\"lower right\")\n",
    "    plt.show()\n",
    "    print(Y_Train.shape)\n",
    "\n",
    "    return None"
   ]
  },
  {
   "cell_type": "code",
   "execution_count": 3583,
   "metadata": {},
   "outputs": [
    {
     "data": {
      "image/png": "[encoded data removed]",
      "text/plain": [
       "<Figure size 360x360 with 1 Axes>"
      ]
     },
     "metadata": {
      "needs_background": "light"
     },
     "output_type": "display_data"
    },
    {
     "name": "stdout",
     "output_type": "stream",
     "text": [
      "(6464, 3)\n"
     ]
    }
   ],
   "source": [
    "fpr, tpr, thresholds = metrics.roc_curve( Y_Train.Converted, Y_Train.Predicted,drop_intermediate = False )\n",
    "draw_roc(Y_Train.Converted, Y_Train.Predicted)"
   ]
  },
  {
   "cell_type": "code",
   "execution_count": 3584,
   "metadata": {},
   "outputs": [],
   "source": [
    "# Creating columns with different probability cutoffs \n",
    "Y_Train_v2 = Y_Train.copy()\n",
    "numbers = [float(x)/10 for x in range(10)]\n",
    "for i in numbers:\n",
    "    Y_Train_v2[i]= Y_Train_v2.Predicted.map(lambda x: 1 if x > i else 0)"
   ]
  },
  {
   "cell_type": "code",
   "execution_count": 3585,
   "metadata": {},
   "outputs": [
    {
     "name": "stdout",
     "output_type": "stream",
     "text": [
      "     prob  accuracy     sensi     speci\n",
      "0.0   0.0  0.383973  1.000000  0.000000\n",
      "0.1   0.1  0.575031  0.966559  0.330989\n",
      "0.2   0.2  0.751083  0.881144  0.670015\n",
      "0.3   0.3  0.786200  0.839645  0.752888\n",
      "0.4   0.4  0.799350  0.774778  0.814666\n",
      "0.5   0.5  0.798731  0.692990  0.864641\n",
      "0.6   0.6  0.786046  0.570911  0.920141\n",
      "0.7   0.7  0.766089  0.477035  0.946258\n",
      "0.8   0.8  0.739480  0.372683  0.968106\n",
      "0.9   0.9  0.691522  0.219581  0.985686\n"
     ]
    }
   ],
   "source": [
    "# Calculating accuracy sensitivity and specificity for various probability cutoffs.\n",
    "cutoff_df = pd.DataFrame( columns = ['prob','accuracy','sensi','speci'])\n",
    "from sklearn.metrics import confusion_matrix\n",
    "\n",
    "# TP = confusion[1,1] # true positive \n",
    "# TN = confusion[0,0] # true negatives\n",
    "# FP = confusion[0,1] # false positives\n",
    "# FN = confusion[1,0] # false negatives\n",
    "\n",
    "num = [0.0,0.1,0.2,0.3,0.4,0.5,0.6,0.7,0.8,0.9]\n",
    "for i in num:\n",
    "    cm1 = metrics.confusion_matrix(Y_Train_v2.Converted, Y_Train_v2[i] )\n",
    "    total1=sum(sum(cm1))\n",
    "    accuracy = (cm1[0,0]+cm1[1,1])/total1\n",
    "    speci = cm1[0,0]/(cm1[0,0]+cm1[0,1])\n",
    "    sensi = cm1[1,1]/(cm1[1,0]+cm1[1,1])\n",
    "    cutoff_df.loc[i] =[ i ,accuracy,sensi,speci]\n",
    "print(cutoff_df)"
   ]
  },
  {
   "cell_type": "code",
   "execution_count": 3586,
   "metadata": {},
   "outputs": [
    {
     "data": {
      "image/png": "[encoded data removed]",
      "text/plain": [
       "<Figure size 432x288 with 1 Axes>"
      ]
     },
     "metadata": {
      "needs_background": "light"
     },
     "output_type": "display_data"
    }
   ],
   "source": [
    "# Plotting accuracy sensitivity and specificity for various probabilities.\n",
    "cutoff_df.plot.line(x='prob', y=['accuracy','sensi','speci'])\n",
    "plt.show()\n",
    "\n",
    "# Lets Keep the cutoff to be 0.35 and repeat the same analysis"
   ]
  },
  {
   "cell_type": "code",
   "execution_count": 3587,
   "metadata": {},
   "outputs": [],
   "source": [
    "# Making Predictions on Y Variables\n",
    "Y_Train_pred = pd.DataFrame(res.predict(X_Train_sm)).reset_index(drop = True)\n",
    "Y_Train_pred.columns = ['Predicted']\n",
    "# Lets set cutoff to be 0.30 now\n",
    "cutoff  = 0.30\n",
    "Y_Train = Y_Train.reset_index(drop = True)\n",
    "Y_Train['Predicted'] = Y_Train_pred['Predicted']\n",
    "\n",
    "\n",
    "Y_Train['Predicted_Label'] = Y_Train['Predicted'].apply(lambda x : 1 if x>=cutoff else 0)"
   ]
  },
  {
   "cell_type": "code",
   "execution_count": 3588,
   "metadata": {},
   "outputs": [
    {
     "name": "stdout",
     "output_type": "stream",
     "text": [
      "[[2998  984]\n",
      " [ 398 2084]]\n"
     ]
    }
   ],
   "source": [
    "# Confusion matrix \n",
    "confusion_matrix = metrics.confusion_matrix(Y_Train.Converted, Y_Train.Predicted_Label )\n",
    "print(confusion_matrix)"
   ]
  },
  {
   "cell_type": "code",
   "execution_count": 3589,
   "metadata": {},
   "outputs": [
    {
     "name": "stdout",
     "output_type": "stream",
     "text": [
      "Accuracy:  0.786200495049505\n",
      "Sensitivity:  0.8396454472199839\n",
      "Specificity:  0.7528879959819186\n",
      "False Positive Rate:  0.24711200401808137\n",
      "Positive Predictive Value:  0.6792698826597132\n",
      "Negative Predictive Value:  0.8828032979976443\n"
     ]
    }
   ],
   "source": [
    "# Checking other metrics\n",
    "TP = confusion_matrix[1,1] # true positive \n",
    "TN = confusion_matrix[0,0] # true negatives\n",
    "FP = confusion_matrix[0,1] # false positives\n",
    "FN = confusion_matrix[1,0] # false negatives\n",
    "\n",
    "# Checking Accuracy\n",
    "# Checking the overall accuracy.\n",
    "print(\"Accuracy: \",metrics.accuracy_score(Y_Train.Converted, Y_Train.Predicted_Label))\n",
    "# Checking the sensitivity of the model\n",
    "print(\"Sensitivity: \",TP / float(TP+FN))\n",
    "# Calculating specificity\n",
    "print(\"Specificity: \",TN / float(TN+FP))\n",
    "# Calculating false postive rate - predicting converted rate when lead actually did not get converted\n",
    "print(\"False Positive Rate: \",FP/ float(TN+FP))\n",
    "# Calculating positive predictive value \n",
    "print (\"Positive Predictive Value: \",TP / float(TP+FP))\n",
    "# Calculating negative predictive value\n",
    "print (\"Negative Predictive Value: \",TN / float(TN+ FN))"
   ]
  },
  {
   "cell_type": "code",
   "execution_count": 3590,
   "metadata": {},
   "outputs": [],
   "source": [
    "# Testing Starts\n",
    "lead_test = pd.concat([X_Test,Y_Test],axis = 1)\n",
    "\n",
    "# Final Columns for selection \n",
    "col_names = ['Do Not Email','TotalVisits','Total Time Spent on Website','A free copy of Mastering The Interview','Lead Origin','Lead Source','Last Activity','Specialization',\n",
    "            'Last Notable Activity','Converted']\n",
    "lead_test = lead_test[col_names]"
   ]
  },
  {
   "cell_type": "code",
   "execution_count": 3591,
   "metadata": {},
   "outputs": [
    {
     "name": "stdout",
     "output_type": "stream",
     "text": [
      "Do Not Email                               0.000000\n",
      "TotalVisits                                1.587302\n",
      "Total Time Spent on Website                0.000000\n",
      "A free copy of Mastering The Interview     0.000000\n",
      "Lead Origin                                0.000000\n",
      "Lead Source                                0.288600\n",
      "Last Activity                              1.298701\n",
      "Specialization                            15.584416\n",
      "Last Notable Activity                      0.000000\n",
      "Converted                                  0.000000\n",
      "dtype: float64\n",
      "['Specialization']\n"
     ]
    }
   ],
   "source": [
    "print(lead_test.isnull().sum()/len(lead_test)*100)\n",
    "for col in lead_test.columns:\n",
    "    if((lead_test[col]=='Select').any(axis = 0)):\n",
    "        select_val_list.append(col)\n",
    "print(select_val_list)\n"
   ]
  },
  {
   "cell_type": "code",
   "execution_count": 3592,
   "metadata": {},
   "outputs": [
    {
     "name": "stdout",
     "output_type": "stream",
     "text": [
      "Google            850\n",
      "Direct Traffic    746\n",
      "Olark Chat        504\n",
      "Organic Search    365\n",
      "Reference         169\n",
      "Websites          104\n",
      "Other              34\n",
      "Name: Lead Source, dtype: int64\n"
     ]
    }
   ],
   "source": [
    "# Imputing Null values directly from the values of train dataset\n",
    "# Lead Source\n",
    "\n",
    "lead_test['Lead Source'].value_counts()\n",
    "#Lets Impute the missing values by 'Others'\n",
    "lead_test['Lead Source'] = lead_test['Lead Source'].fillna('Other')\n",
    "lead_test['Lead Source'] =  lead_test['Lead Source'].apply(lambda x :replace_leadsource(x))\n",
    "print(lead_test['Lead Source'].value_counts())\n"
   ]
  },
  {
   "cell_type": "code",
   "execution_count": 3593,
   "metadata": {},
   "outputs": [
    {
     "name": "stdout",
     "output_type": "stream",
     "text": [
      "Management                           1267\n",
      "Other                                1041\n",
      "Business                              216\n",
      "Banking, Investment And Insurance      86\n",
      "Media and Advertising                  58\n",
      "Travel and Tourism                     56\n",
      "E-COMMERCE                             37\n",
      "Services Excellence                    11\n",
      "Name: Specialization, dtype: int64\n"
     ]
    }
   ],
   "source": [
    "# Specialization\n",
    "\n",
    "lead_test['Specialization'].value_counts()\n",
    "#Lets Impute the missing values by 'Others'\n",
    "lead_test['Specialization'] = lead_test['Specialization'].fillna('Other')\n",
    "lead_test['Specialization'] = lead_test['Specialization'].replace('Select','Other')\n",
    "lead_test['Specialization'] = lead_test['Specialization'].apply(lambda x :replace_specialisation(x))\n",
    "print(lead_test['Specialization'].value_counts())"
   ]
  },
  {
   "cell_type": "code",
   "execution_count": 3594,
   "metadata": {},
   "outputs": [
    {
     "name": "stdout",
     "output_type": "stream",
     "text": [
      "High_Intent      1288\n",
      "Low_Intent       1168\n",
      "Middle_Intent     316\n",
      "Name: Last Activity, dtype: int64\n"
     ]
    }
   ],
   "source": [
    "# Last Activity\n",
    "\n",
    "lead_test['Last Activity'].value_counts()\n",
    "#Lets Impute the missing values by 'Others'\n",
    "lead_test['Last Activity'] = lead_test['Last Activity'].fillna('Middle_Intent')\n",
    "lead_test['Last Activity'] = lead_test['Last Activity'].apply(lambda x :replace_lastactivity(x))\n",
    "print(lead_test['Last Activity'].value_counts())"
   ]
  },
  {
   "cell_type": "code",
   "execution_count": 3595,
   "metadata": {},
   "outputs": [],
   "source": [
    "#TotalVisits\n",
    "lead_test['TotalVisits'] = lead_test['TotalVisits'].fillna(float(0))\n",
    "cap_limit = outlier_boundary(lead_test[\"TotalVisits\"])\n",
    "lead_test[\"TotalVisits\"] = lead_test[\"TotalVisits\"].apply(lambda x: cap_limit if x>cap_limit else x)"
   ]
  },
  {
   "cell_type": "code",
   "execution_count": 3596,
   "metadata": {},
   "outputs": [],
   "source": [
    "#Total Time Spent on Website\n",
    "cap_limit = outlier_boundary(lead_test[\"Total Time Spent on Website\"])\n",
    "lead_test[\"Total Time Spent on Website\"] = lead_test[\"Total Time Spent on Website\"].apply(lambda x: cap_limit if x>cap_limit else x)\n"
   ]
  },
  {
   "cell_type": "code",
   "execution_count": 3597,
   "metadata": {},
   "outputs": [
    {
     "name": "stdout",
     "output_type": "stream",
     "text": [
      "Landing Page Submission     52.633478\n",
      "API                         37.914863\n",
      "Lead Import and Add Form     9.451659\n",
      "Name: Lead Origin, dtype: float64\n"
     ]
    }
   ],
   "source": [
    "#Lead Origin\n",
    "lead_test['Lead Origin'] = lead_test['Lead Origin'].apply(lambda x : replace_leadform(x))\n",
    "print(100*(lead_test['Lead Origin'].value_counts()/len(lead_test)))\n"
   ]
  },
  {
   "cell_type": "code",
   "execution_count": 3598,
   "metadata": {},
   "outputs": [
    {
     "data": {
      "text/plain": [
       "Modified        37.157287\n",
       "Email Opened    29.761905\n",
       "SMS Sent        24.314574\n",
       "Other            8.766234\n",
       "Name: Last Notable Activity, dtype: float64"
      ]
     },
     "execution_count": 3598,
     "metadata": {},
     "output_type": "execute_result"
    }
   ],
   "source": [
    "#Last Notable Activity \n",
    "lead_test['Last Notable Activity'] = lead_test['Last Notable Activity'].apply(lambda x :replace_lastnotableactivity(x))\n",
    "100*(lead_test['Last Notable Activity'].value_counts()/len(lead_test))"
   ]
  },
  {
   "cell_type": "code",
   "execution_count": 3599,
   "metadata": {},
   "outputs": [
    {
     "name": "stdout",
     "output_type": "stream",
     "text": [
      "Do Not Email                              0.0\n",
      "TotalVisits                               0.0\n",
      "Total Time Spent on Website               0.0\n",
      "A free copy of Mastering The Interview    0.0\n",
      "Lead Origin                               0.0\n",
      "Lead Source                               0.0\n",
      "Last Activity                             0.0\n",
      "Specialization                            0.0\n",
      "Last Notable Activity                     0.0\n",
      "Converted                                 0.0\n",
      "dtype: float64\n",
      "[]\n"
     ]
    }
   ],
   "source": [
    "select_val_list =[]\n",
    "print(lead_test.isnull().sum()/len(lead_test)*100)\n",
    "for col in lead_test.columns:\n",
    "    if((lead_test[col]=='Select').any(axis = 0)):\n",
    "        select_val_list.append(col)\n",
    "print(select_val_list)\n"
   ]
  },
  {
   "cell_type": "code",
   "execution_count": 3600,
   "metadata": {},
   "outputs": [],
   "source": [
    "# Variable Transformation and Scaling\n",
    "# Creating 0 and 1 values for yes and no variables\n",
    "binary_list = ['A free copy of Mastering The Interview']\n",
    "binary_list_not_email = ['Do Not Email']\n",
    "def binary_map(x):\n",
    "    return x.map({'Yes': 1, \"No\": 0})\n",
    "\n",
    "def binary_map_not_email(x):\n",
    "    return x.map({'Yes': 0, \"No\": 1})\n",
    "lead_test[binary_list] = lead_test[binary_list].apply(binary_map)\n",
    "lead_test[binary_list_not_email] = lead_test[binary_list_not_email].apply(binary_map_not_email)\n"
   ]
  },
  {
   "cell_type": "code",
   "execution_count": 3601,
   "metadata": {},
   "outputs": [
    {
     "name": "stdout",
     "output_type": "stream",
     "text": [
      "(2772, 25)\n",
      "Index(['Do Not Email', 'TotalVisits', 'Total Time Spent on Website',\n",
      "       'A free copy of Mastering The Interview', 'Converted',\n",
      "       'Lead Origin_Landing Page Submission',\n",
      "       'Lead Origin_Lead Import and Add Form', 'Lead Source_Google',\n",
      "       'Lead Source_Olark Chat', 'Lead Source_Organic Search',\n",
      "       'Lead Source_Other', 'Lead Source_Reference', 'Lead Source_Websites',\n",
      "       'Last Activity_Low_Intent', 'Last Activity_Middle_Intent',\n",
      "       'Specialization_Business', 'Specialization_E-COMMERCE',\n",
      "       'Specialization_Management', 'Specialization_Media and Advertising',\n",
      "       'Specialization_Other', 'Specialization_Services Excellence',\n",
      "       'Specialization_Travel and Tourism', 'Last Notable Activity_Modified',\n",
      "       'Last Notable Activity_Other', 'Last Notable Activity_SMS Sent'],\n",
      "      dtype='object')\n"
     ]
    }
   ],
   "source": [
    "# Converting into dummy variables for categorical varibales with more than 2 unique values\n",
    "dummy_list = ['Lead Origin','Lead Source','Last Activity','Specialization','Last Notable Activity']\n",
    "\n",
    "dummy_var = pd.get_dummies(lead_test[dummy_list], drop_first = True)\n",
    "\n",
    "# Adding to dataframe\n",
    "lead_test = pd.concat([lead_test, dummy_var], axis=1)\n",
    "lead_test.drop(dummy_list, axis = 1, inplace =  True)\n",
    "print(lead_test.shape)\n",
    "print(lead_test.columns)"
   ]
  },
  {
   "cell_type": "code",
   "execution_count": 3602,
   "metadata": {},
   "outputs": [],
   "source": [
    "# Standardise Numerical Variables\n",
    "num_cols = ['TotalVisits','Total Time Spent on Website']\n",
    "num_df = lead_train[num_cols]\n",
    "scaler = MinMaxScaler()\n",
    "lead_test[num_df.columns] = scaler.fit_transform(lead_test[num_df.columns])\n"
   ]
  },
  {
   "cell_type": "code",
   "execution_count": 3603,
   "metadata": {},
   "outputs": [
    {
     "data": {
      "text/html": [
       "<div>\n",
       "<style scoped>\n",
       "    .dataframe tbody tr th:only-of-type {\n",
       "        vertical-align: middle;\n",
       "    }\n",
       "\n",
       "    .dataframe tbody tr th {\n",
       "        vertical-align: top;\n",
       "    }\n",
       "\n",
       "    .dataframe thead th {\n",
       "        text-align: right;\n",
       "    }\n",
       "</style>\n",
       "<table border=\"1\" class=\"dataframe\">\n",
       "  <thead>\n",
       "    <tr style=\"text-align: right;\">\n",
       "      <th></th>\n",
       "      <th>Do Not Email</th>\n",
       "      <th>TotalVisits</th>\n",
       "      <th>Total Time Spent on Website</th>\n",
       "      <th>A free copy of Mastering The Interview</th>\n",
       "      <th>Converted</th>\n",
       "      <th>Lead Origin_Landing Page Submission</th>\n",
       "      <th>Lead Origin_Lead Import and Add Form</th>\n",
       "      <th>Lead Source_Google</th>\n",
       "      <th>Lead Source_Olark Chat</th>\n",
       "      <th>Lead Source_Organic Search</th>\n",
       "      <th>Lead Source_Other</th>\n",
       "      <th>Lead Source_Reference</th>\n",
       "      <th>Lead Source_Websites</th>\n",
       "      <th>Last Activity_Low_Intent</th>\n",
       "      <th>Last Activity_Middle_Intent</th>\n",
       "      <th>Specialization_Business</th>\n",
       "      <th>Specialization_E-COMMERCE</th>\n",
       "      <th>Specialization_Management</th>\n",
       "      <th>Specialization_Media and Advertising</th>\n",
       "      <th>Specialization_Other</th>\n",
       "      <th>Specialization_Services Excellence</th>\n",
       "      <th>Specialization_Travel and Tourism</th>\n",
       "      <th>Last Notable Activity_Modified</th>\n",
       "      <th>Last Notable Activity_Other</th>\n",
       "      <th>Last Notable Activity_SMS Sent</th>\n",
       "    </tr>\n",
       "  </thead>\n",
       "  <tbody>\n",
       "    <tr>\n",
       "      <td>4608</td>\n",
       "      <td>1</td>\n",
       "      <td>0.761905</td>\n",
       "      <td>0.152971</td>\n",
       "      <td>1</td>\n",
       "      <td>1</td>\n",
       "      <td>1</td>\n",
       "      <td>0</td>\n",
       "      <td>1</td>\n",
       "      <td>0</td>\n",
       "      <td>0</td>\n",
       "      <td>0</td>\n",
       "      <td>0</td>\n",
       "      <td>0</td>\n",
       "      <td>1</td>\n",
       "      <td>0</td>\n",
       "      <td>0</td>\n",
       "      <td>0</td>\n",
       "      <td>1</td>\n",
       "      <td>0</td>\n",
       "      <td>0</td>\n",
       "      <td>0</td>\n",
       "      <td>0</td>\n",
       "      <td>0</td>\n",
       "      <td>0</td>\n",
       "      <td>0</td>\n",
       "    </tr>\n",
       "    <tr>\n",
       "      <td>7935</td>\n",
       "      <td>0</td>\n",
       "      <td>0.190476</td>\n",
       "      <td>0.563927</td>\n",
       "      <td>1</td>\n",
       "      <td>0</td>\n",
       "      <td>1</td>\n",
       "      <td>0</td>\n",
       "      <td>0</td>\n",
       "      <td>0</td>\n",
       "      <td>0</td>\n",
       "      <td>0</td>\n",
       "      <td>0</td>\n",
       "      <td>0</td>\n",
       "      <td>1</td>\n",
       "      <td>0</td>\n",
       "      <td>0</td>\n",
       "      <td>0</td>\n",
       "      <td>1</td>\n",
       "      <td>0</td>\n",
       "      <td>0</td>\n",
       "      <td>0</td>\n",
       "      <td>0</td>\n",
       "      <td>1</td>\n",
       "      <td>0</td>\n",
       "      <td>0</td>\n",
       "    </tr>\n",
       "    <tr>\n",
       "      <td>4043</td>\n",
       "      <td>0</td>\n",
       "      <td>0.095238</td>\n",
       "      <td>0.001214</td>\n",
       "      <td>0</td>\n",
       "      <td>0</td>\n",
       "      <td>1</td>\n",
       "      <td>0</td>\n",
       "      <td>0</td>\n",
       "      <td>0</td>\n",
       "      <td>0</td>\n",
       "      <td>0</td>\n",
       "      <td>0</td>\n",
       "      <td>0</td>\n",
       "      <td>1</td>\n",
       "      <td>0</td>\n",
       "      <td>0</td>\n",
       "      <td>0</td>\n",
       "      <td>0</td>\n",
       "      <td>0</td>\n",
       "      <td>1</td>\n",
       "      <td>0</td>\n",
       "      <td>0</td>\n",
       "      <td>1</td>\n",
       "      <td>0</td>\n",
       "      <td>0</td>\n",
       "    </tr>\n",
       "    <tr>\n",
       "      <td>7821</td>\n",
       "      <td>1</td>\n",
       "      <td>0.190476</td>\n",
       "      <td>0.196070</td>\n",
       "      <td>0</td>\n",
       "      <td>0</td>\n",
       "      <td>1</td>\n",
       "      <td>0</td>\n",
       "      <td>0</td>\n",
       "      <td>0</td>\n",
       "      <td>0</td>\n",
       "      <td>0</td>\n",
       "      <td>0</td>\n",
       "      <td>0</td>\n",
       "      <td>1</td>\n",
       "      <td>0</td>\n",
       "      <td>0</td>\n",
       "      <td>0</td>\n",
       "      <td>0</td>\n",
       "      <td>0</td>\n",
       "      <td>1</td>\n",
       "      <td>0</td>\n",
       "      <td>0</td>\n",
       "      <td>0</td>\n",
       "      <td>0</td>\n",
       "      <td>0</td>\n",
       "    </tr>\n",
       "    <tr>\n",
       "      <td>856</td>\n",
       "      <td>1</td>\n",
       "      <td>0.285714</td>\n",
       "      <td>0.122012</td>\n",
       "      <td>0</td>\n",
       "      <td>0</td>\n",
       "      <td>1</td>\n",
       "      <td>0</td>\n",
       "      <td>1</td>\n",
       "      <td>0</td>\n",
       "      <td>0</td>\n",
       "      <td>0</td>\n",
       "      <td>0</td>\n",
       "      <td>0</td>\n",
       "      <td>1</td>\n",
       "      <td>0</td>\n",
       "      <td>0</td>\n",
       "      <td>0</td>\n",
       "      <td>1</td>\n",
       "      <td>0</td>\n",
       "      <td>0</td>\n",
       "      <td>0</td>\n",
       "      <td>0</td>\n",
       "      <td>0</td>\n",
       "      <td>0</td>\n",
       "      <td>0</td>\n",
       "    </tr>\n",
       "  </tbody>\n",
       "</table>\n",
       "</div>"
      ],
      "text/plain": [
       "      Do Not Email  TotalVisits  Total Time Spent on Website  \\\n",
       "4608             1     0.761905                     0.152971   \n",
       "7935             0     0.190476                     0.563927   \n",
       "4043             0     0.095238                     0.001214   \n",
       "7821             1     0.190476                     0.196070   \n",
       "856              1     0.285714                     0.122012   \n",
       "\n",
       "      A free copy of Mastering The Interview  Converted  \\\n",
       "4608                                       1          1   \n",
       "7935                                       1          0   \n",
       "4043                                       0          0   \n",
       "7821                                       0          0   \n",
       "856                                        0          0   \n",
       "\n",
       "      Lead Origin_Landing Page Submission  \\\n",
       "4608                                    1   \n",
       "7935                                    1   \n",
       "4043                                    1   \n",
       "7821                                    1   \n",
       "856                                     1   \n",
       "\n",
       "      Lead Origin_Lead Import and Add Form  Lead Source_Google  \\\n",
       "4608                                     0                   1   \n",
       "7935                                     0                   0   \n",
       "4043                                     0                   0   \n",
       "7821                                     0                   0   \n",
       "856                                      0                   1   \n",
       "\n",
       "      Lead Source_Olark Chat  Lead Source_Organic Search  Lead Source_Other  \\\n",
       "4608                       0                           0                  0   \n",
       "7935                       0                           0                  0   \n",
       "4043                       0                           0                  0   \n",
       "7821                       0                           0                  0   \n",
       "856                        0                           0                  0   \n",
       "\n",
       "      Lead Source_Reference  Lead Source_Websites  Last Activity_Low_Intent  \\\n",
       "4608                      0                     0                         1   \n",
       "7935                      0                     0                         1   \n",
       "4043                      0                     0                         1   \n",
       "7821                      0                     0                         1   \n",
       "856                       0                     0                         1   \n",
       "\n",
       "      Last Activity_Middle_Intent  Specialization_Business  \\\n",
       "4608                            0                        0   \n",
       "7935                            0                        0   \n",
       "4043                            0                        0   \n",
       "7821                            0                        0   \n",
       "856                             0                        0   \n",
       "\n",
       "      Specialization_E-COMMERCE  Specialization_Management  \\\n",
       "4608                          0                          1   \n",
       "7935                          0                          1   \n",
       "4043                          0                          0   \n",
       "7821                          0                          0   \n",
       "856                           0                          1   \n",
       "\n",
       "      Specialization_Media and Advertising  Specialization_Other  \\\n",
       "4608                                     0                     0   \n",
       "7935                                     0                     0   \n",
       "4043                                     0                     1   \n",
       "7821                                     0                     1   \n",
       "856                                      0                     0   \n",
       "\n",
       "      Specialization_Services Excellence  Specialization_Travel and Tourism  \\\n",
       "4608                                   0                                  0   \n",
       "7935                                   0                                  0   \n",
       "4043                                   0                                  0   \n",
       "7821                                   0                                  0   \n",
       "856                                    0                                  0   \n",
       "\n",
       "      Last Notable Activity_Modified  Last Notable Activity_Other  \\\n",
       "4608                               0                            0   \n",
       "7935                               1                            0   \n",
       "4043                               1                            0   \n",
       "7821                               0                            0   \n",
       "856                                0                            0   \n",
       "\n",
       "      Last Notable Activity_SMS Sent  \n",
       "4608                               0  \n",
       "7935                               0  \n",
       "4043                               0  \n",
       "7821                               0  \n",
       "856                                0  "
      ]
     },
     "execution_count": 3603,
     "metadata": {},
     "output_type": "execute_result"
    }
   ],
   "source": [
    "lead_test.head()"
   ]
  },
  {
   "cell_type": "code",
   "execution_count": 3604,
   "metadata": {},
   "outputs": [],
   "source": [
    "# Preparing Final Column list for test set\n",
    "final_col_list =  ['Do Not Email', 'TotalVisits', 'Total Time Spent on Website',\n",
    "       'A free copy of Mastering The Interview',\n",
    "       'Lead Origin_Landing Page Submission',\n",
    "       'Lead Origin_Lead Import and Add Form', 'Lead Source_Olark Chat',\n",
    "       'Lead Source_Other', 'Lead Source_Websites', 'Last Activity_Low_Intent',\n",
    "       'Specialization_Other', 'Last Notable Activity_Other',\n",
    "       'Last Notable Activity_SMS Sent']\n",
    "X_Test = lead_test[final_col_list]\n",
    "Y_Test = lead_test['Converted']"
   ]
  },
  {
   "cell_type": "code",
   "execution_count": 3605,
   "metadata": {},
   "outputs": [
    {
     "name": "stdout",
     "output_type": "stream",
     "text": [
      "(2772, 13)\n",
      "(2772, 1)\n"
     ]
    }
   ],
   "source": [
    "#Inspecting the test set\n",
    "print(X_Test.shape)\n",
    "Y_Test = pd.DataFrame(Y_Test)\n",
    "print(Y_Test.shape)"
   ]
  },
  {
   "cell_type": "code",
   "execution_count": 3606,
   "metadata": {},
   "outputs": [],
   "source": [
    "# Making Predictions on Y Variables\n",
    "X_Test_sm = sm.add_constant(X_Test)\n",
    "Y_Test_pred = pd.DataFrame(res.predict(X_Test_sm)).reset_index(drop = True)\n",
    "Y_Test_pred.columns = ['Predicted']\n",
    "# Lets set cutoff to be 0.30 now\n",
    "cutoff  = 0.30\n",
    "Y_Test2 = Y_Test.reset_index(drop = True)\n",
    "Y_Test2['Predicted'] = Y_Test_pred['Predicted']\n",
    "\n",
    "\n",
    "Y_Test2['Predicted_Label'] = Y_Test2['Predicted'].apply(lambda x : 1 if x>=cutoff else 0)\n"
   ]
  },
  {
   "cell_type": "code",
   "execution_count": 3607,
   "metadata": {},
   "outputs": [
    {
     "name": "stdout",
     "output_type": "stream",
     "text": [
      "[[1285  410]\n",
      " [ 151  926]]\n",
      "Accuracy:  0.7976190476190477\n",
      "Sensitivity:  0.8597957288765088\n",
      "Specificity:  0.7581120943952803\n",
      "False Positive Rate:  0.24188790560471976\n",
      "Positive Predictive Value:  0.6931137724550899\n",
      "Negative Predictive Value:  0.8948467966573816\n"
     ]
    }
   ],
   "source": [
    "# Confusion matrix \n",
    "confusion_matrix = metrics.confusion_matrix(Y_Test2.Converted, Y_Test2.Predicted_Label )\n",
    "print(confusion_matrix)\n",
    "\n",
    "# Checking other metrics\n",
    "TP = confusion_matrix[1,1] # true positive \n",
    "TN = confusion_matrix[0,0] # true negatives\n",
    "FP = confusion_matrix[0,1] # false positives\n",
    "FN = confusion_matrix[1,0] # false negatives\n",
    "\n",
    "# Checking Accuracy\n",
    "# Checking the overall accuracy.\n",
    "print(\"Accuracy: \",metrics.accuracy_score(Y_Test2.Converted, Y_Test2.Predicted_Label))\n",
    "# Checking the sensitivity of the model\n",
    "print(\"Sensitivity: \",TP / float(TP+FN))\n",
    "# Calculating specificity\n",
    "print(\"Specificity: \",TN / float(TN+FP))\n",
    "# Calculating false postive rate - predicting converted rate when lead actually did not get converted\n",
    "print(\"False Positive Rate: \",FP/ float(TN+FP))\n",
    "# Calculating positive predictive value \n",
    "print (\"Positive Predictive Value: \",TP / float(TP+FP))\n",
    "# Calculating negative predictive value\n",
    "print (\"Negative Predictive Value: \",TN / float(TN+ FN))"
   ]
  },
  {
   "cell_type": "code",
   "execution_count": 3608,
   "metadata": {},
   "outputs": [],
   "source": [
    "# Finding the hot leads Cutoff and Score\n",
    "Y_Test2['Predicted_Score'] = Y_Test2['Predicted']*100\n",
    "# If the score is > 30, he/she is a hot lead, else not"
   ]
  },
  {
   "cell_type": "code",
   "execution_count": 3609,
   "metadata": {},
   "outputs": [
    {
     "data": {
      "text/plain": [
       "\"\\n'Do Not Email', 'TotalVisits', 'Total Time Spent on Website','A free copy of Mastering The Interview','Lead Origin',\\n'Lead Source','Last Activity' , 'Specialization', 'Last Notable Activity'\\n\\n# Most of the columns are either related to a site activity or the origin/ source from where they got the info\\n# Also depends on whether they want an interview mastery and their specialisation \\n\""
      ]
     },
     "execution_count": 3609,
     "metadata": {},
     "output_type": "execute_result"
    }
   ],
   "source": [
    "# Final Remarks\n",
    "\n",
    "# The Training Model has the following variables \n",
    "'''\n",
    "'Do Not Email', 'TotalVisits', 'Total Time Spent on Website','A free copy of Mastering The Interview','Lead Origin',\n",
    "'Lead Source','Last Activity' , 'Specialization', 'Last Notable Activity'\n",
    "\n",
    "# Most of the columns are either related to a site activity or the origin/ source from where they got the info\n",
    "# Also depends on whether they want an interview mastery and their specialisation \n",
    "'''\n",
    "\n",
    "# We have considered 13 variables in the final model after excluding variables causing multi colinearity and p values issues\n",
    "# The optimal cutoff choosen after performing Sensitivity, Specificity and Accuracy Analysis is 0.3\n",
    "# The Optimal score for hot leads is hence choosen as 30, Anyone above 30 is a hot lead\n",
    "# The Train [accuracy, sensitivity and specificity] = [0.79,0.84,0.75]\n",
    "# The Test [accuracy, sensitivity and specificity] = [0.80,0.86,0.76]\n",
    "\n",
    "\n",
    "# The major metrics here was not just accuracy but also senstivity because we should not miss on any Actual postives(Actual leads)\n",
    "\n"
   ]
  },
  {
   "cell_type": "code",
   "execution_count": null,
   "metadata": {},
   "outputs": [],
   "source": [
    "# "
   ]
  },
  {
   "cell_type": "code",
   "execution_count": null,
   "metadata": {},
   "outputs": [],
   "source": []
  },
  {
   "cell_type": "code",
   "execution_count": null,
   "metadata": {},
   "outputs": [],
   "source": []
  }
 ],
 "metadata": {
  "kernelspec": {
   "display_name": "Python 3",
   "language": "python",
   "name": "python3"
  },
  "language_info": {
   "codemirror_mode": {
    "name": "ipython",
    "version": 3
   },
   "file_extension": ".py",
   "mimetype": "text/x-python",
   "name": "python",
   "nbconvert_exporter": "python",
   "pygments_lexer": "ipython3",
   "version": "3.8.5"
  }
 },
 "nbformat": 4,
 "nbformat_minor": 2
}
